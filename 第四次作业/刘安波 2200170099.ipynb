{
 "cells": [
  {
   "cell_type": "markdown",
   "source": [
    "# 机器学习——逻辑回归"
   ],
   "metadata": {
    "collapsed": false
   },
   "id": "148b70e20398d805"
  },
  {
   "cell_type": "markdown",
   "source": [
    "## 1.导入库函数"
   ],
   "metadata": {
    "collapsed": false
   },
   "id": "59e542cdbff4e90e"
  },
  {
   "cell_type": "code",
   "execution_count": 48,
   "outputs": [],
   "source": [
    "import numpy as np\n",
    "import pandas as pd\n",
    "import matplotlib\n",
    "import matplotlib.pyplot as plt \n",
    "from sklearn.preprocessing import StandardScaler\n",
    "from matplotlib import rcParams"
   ],
   "metadata": {
    "collapsed": false,
    "ExecuteTime": {
     "end_time": "2024-04-01T10:10:44.895411Z",
     "start_time": "2024-04-01T10:10:44.879187Z"
    }
   },
   "id": "a56d68ba1aeb51e5"
  },
  {
   "cell_type": "markdown",
   "source": [
    "## 2.设置画图参数"
   ],
   "metadata": {
    "collapsed": false
   },
   "id": "14c0d01367ea0b15"
  },
  {
   "cell_type": "code",
   "execution_count": 49,
   "outputs": [],
   "source": [
    "config = {\n",
    "    \"mathtext.fontset\":'stix',\n",
    "    \"font.family\":'serif',\n",
    "    \"font.serif\": ['SimHei'],\n",
    "    \"font.size\": 10,   \n",
    "    'axes.unicode_minus': False \n",
    "}\n",
    "rcParams.update(config)  ## 设置画图的一些参数"
   ],
   "metadata": {
    "collapsed": false,
    "ExecuteTime": {
     "end_time": "2024-04-01T10:10:44.987958Z",
     "start_time": "2024-04-01T10:10:44.981830Z"
    }
   },
   "id": "10b5463cec669de1"
  },
  {
   "cell_type": "markdown",
   "source": [
    "## 3.导入数据并观察数据"
   ],
   "metadata": {
    "collapsed": false
   },
   "id": "a1e95e70c361d093"
  },
  {
   "cell_type": "code",
   "execution_count": 50,
   "outputs": [
    {
     "data": {
      "text/plain": "           0          1  2\n0  34.623660  78.024693  0\n1  30.286711  43.894998  0\n2  35.847409  72.902198  0\n3  60.182599  86.308552  1\n4  79.032736  75.344376  1",
      "text/html": "<div>\n<style scoped>\n    .dataframe tbody tr th:only-of-type {\n        vertical-align: middle;\n    }\n\n    .dataframe tbody tr th {\n        vertical-align: top;\n    }\n\n    .dataframe thead th {\n        text-align: right;\n    }\n</style>\n<table border=\"1\" class=\"dataframe\">\n  <thead>\n    <tr style=\"text-align: right;\">\n      <th></th>\n      <th>0</th>\n      <th>1</th>\n      <th>2</th>\n    </tr>\n  </thead>\n  <tbody>\n    <tr>\n      <th>0</th>\n      <td>34.623660</td>\n      <td>78.024693</td>\n      <td>0</td>\n    </tr>\n    <tr>\n      <th>1</th>\n      <td>30.286711</td>\n      <td>43.894998</td>\n      <td>0</td>\n    </tr>\n    <tr>\n      <th>2</th>\n      <td>35.847409</td>\n      <td>72.902198</td>\n      <td>0</td>\n    </tr>\n    <tr>\n      <th>3</th>\n      <td>60.182599</td>\n      <td>86.308552</td>\n      <td>1</td>\n    </tr>\n    <tr>\n      <th>4</th>\n      <td>79.032736</td>\n      <td>75.344376</td>\n      <td>1</td>\n    </tr>\n  </tbody>\n</table>\n</div>"
     },
     "execution_count": 50,
     "metadata": {},
     "output_type": "execute_result"
    }
   ],
   "source": [
    "data=pd.read_csv('ex2data1.csv')\n",
    "data.head()"
   ],
   "metadata": {
    "collapsed": false,
    "ExecuteTime": {
     "end_time": "2024-04-01T10:10:45.003907Z",
     "start_time": "2024-04-01T10:10:44.988960Z"
    }
   },
   "id": "27f0f3721aacb36"
  },
  {
   "cell_type": "code",
   "execution_count": 51,
   "outputs": [
    {
     "data": {
      "text/plain": "                0           1           2\ncount  100.000000  100.000000  100.000000\nmean    65.644274   66.221998    0.600000\nstd     19.458222   18.582783    0.492366\nmin     30.058822   30.603263    0.000000\n25%     50.919511   48.179205    0.000000\n50%     67.032988   67.682381    1.000000\n75%     80.212529   79.360605    1.000000\nmax     99.827858   98.869436    1.000000",
      "text/html": "<div>\n<style scoped>\n    .dataframe tbody tr th:only-of-type {\n        vertical-align: middle;\n    }\n\n    .dataframe tbody tr th {\n        vertical-align: top;\n    }\n\n    .dataframe thead th {\n        text-align: right;\n    }\n</style>\n<table border=\"1\" class=\"dataframe\">\n  <thead>\n    <tr style=\"text-align: right;\">\n      <th></th>\n      <th>0</th>\n      <th>1</th>\n      <th>2</th>\n    </tr>\n  </thead>\n  <tbody>\n    <tr>\n      <th>count</th>\n      <td>100.000000</td>\n      <td>100.000000</td>\n      <td>100.000000</td>\n    </tr>\n    <tr>\n      <th>mean</th>\n      <td>65.644274</td>\n      <td>66.221998</td>\n      <td>0.600000</td>\n    </tr>\n    <tr>\n      <th>std</th>\n      <td>19.458222</td>\n      <td>18.582783</td>\n      <td>0.492366</td>\n    </tr>\n    <tr>\n      <th>min</th>\n      <td>30.058822</td>\n      <td>30.603263</td>\n      <td>0.000000</td>\n    </tr>\n    <tr>\n      <th>25%</th>\n      <td>50.919511</td>\n      <td>48.179205</td>\n      <td>0.000000</td>\n    </tr>\n    <tr>\n      <th>50%</th>\n      <td>67.032988</td>\n      <td>67.682381</td>\n      <td>1.000000</td>\n    </tr>\n    <tr>\n      <th>75%</th>\n      <td>80.212529</td>\n      <td>79.360605</td>\n      <td>1.000000</td>\n    </tr>\n    <tr>\n      <th>max</th>\n      <td>99.827858</td>\n      <td>98.869436</td>\n      <td>1.000000</td>\n    </tr>\n  </tbody>\n</table>\n</div>"
     },
     "execution_count": 51,
     "metadata": {},
     "output_type": "execute_result"
    }
   ],
   "source": [
    "data.describe()"
   ],
   "metadata": {
    "collapsed": false,
    "ExecuteTime": {
     "end_time": "2024-04-01T10:10:45.019322Z",
     "start_time": "2024-04-01T10:10:45.005937Z"
    }
   },
   "id": "b0e69f4c6c05c128"
  },
  {
   "cell_type": "markdown",
   "source": [
    "## 4.数据处理"
   ],
   "metadata": {
    "collapsed": false
   },
   "id": "44bf584265fe8a22"
  },
  {
   "cell_type": "markdown",
   "source": [
    "### 分割标签和类别"
   ],
   "metadata": {
    "collapsed": false
   },
   "id": "a90680385856dda6"
  },
  {
   "cell_type": "code",
   "execution_count": 52,
   "outputs": [],
   "source": [
    "X=data.iloc[:,0:data.shape[1]-1]\n",
    "Y=data.iloc[:,data.shape[1]-1]"
   ],
   "metadata": {
    "collapsed": false,
    "ExecuteTime": {
     "end_time": "2024-04-01T10:10:45.034662Z",
     "start_time": "2024-04-01T10:10:45.020328Z"
    }
   },
   "id": "c26dfcc97b31e010"
  },
  {
   "cell_type": "markdown",
   "source": [
    "### 标准化处理"
   ],
   "metadata": {
    "collapsed": false
   },
   "id": "47d4a94c7db29c7b"
  },
  {
   "cell_type": "code",
   "execution_count": 53,
   "outputs": [
    {
     "data": {
      "text/plain": "          0         1\n0 -1.602248  0.638341\n1 -1.826256 -1.207541\n2 -1.539040  0.361294\n3 -0.282101  1.086368\n4  0.691528  0.493378",
      "text/html": "<div>\n<style scoped>\n    .dataframe tbody tr th:only-of-type {\n        vertical-align: middle;\n    }\n\n    .dataframe tbody tr th {\n        vertical-align: top;\n    }\n\n    .dataframe thead th {\n        text-align: right;\n    }\n</style>\n<table border=\"1\" class=\"dataframe\">\n  <thead>\n    <tr style=\"text-align: right;\">\n      <th></th>\n      <th>0</th>\n      <th>1</th>\n    </tr>\n  </thead>\n  <tbody>\n    <tr>\n      <th>0</th>\n      <td>-1.602248</td>\n      <td>0.638341</td>\n    </tr>\n    <tr>\n      <th>1</th>\n      <td>-1.826256</td>\n      <td>-1.207541</td>\n    </tr>\n    <tr>\n      <th>2</th>\n      <td>-1.539040</td>\n      <td>0.361294</td>\n    </tr>\n    <tr>\n      <th>3</th>\n      <td>-0.282101</td>\n      <td>1.086368</td>\n    </tr>\n    <tr>\n      <th>4</th>\n      <td>0.691528</td>\n      <td>0.493378</td>\n    </tr>\n  </tbody>\n</table>\n</div>"
     },
     "execution_count": 53,
     "metadata": {},
     "output_type": "execute_result"
    }
   ],
   "source": [
    "scaler = StandardScaler()\n",
    "X=pd.DataFrame(scaler.fit_transform(X))\n",
    "X.head()#查看数据"
   ],
   "metadata": {
    "collapsed": false,
    "ExecuteTime": {
     "end_time": "2024-04-01T10:10:45.066003Z",
     "start_time": "2024-04-01T10:10:45.051810Z"
    }
   },
   "id": "d1042d3d7090f6e8"
  },
  {
   "cell_type": "markdown",
   "source": [
    "### 添加偏置项"
   ],
   "metadata": {
    "collapsed": false
   },
   "id": "138810c9862b2333"
  },
  {
   "cell_type": "code",
   "execution_count": 54,
   "outputs": [],
   "source": [
    "X.insert(0, 'Ones', 1)#让我们在训练集中添加一列，以便我们可以使用向量化的解决方案来计算代价和梯度。"
   ],
   "metadata": {
    "collapsed": false,
    "ExecuteTime": {
     "end_time": "2024-04-01T10:10:45.081446Z",
     "start_time": "2024-04-01T10:10:45.074227Z"
    }
   },
   "id": "349b18bcb4d72d8b"
  },
  {
   "cell_type": "markdown",
   "source": [
    "### 划分训练集和测试集"
   ],
   "metadata": {
    "collapsed": false
   },
   "id": "5806f11a616935b9"
  },
  {
   "cell_type": "code",
   "execution_count": 55,
   "outputs": [],
   "source": [
    "np.random.seed(42)#固定随机种子，使每次运行结果一致\n",
    "X_train_data = X.sample(frac=0.7)\n",
    "Y_train_data=Y[X_train_data.index]\n",
    "X_test_data = X.drop(X_train_data.index)\n",
    "Y_test_data=Y.drop(X_train_data.index)"
   ],
   "metadata": {
    "collapsed": false,
    "ExecuteTime": {
     "end_time": "2024-04-01T10:10:45.143650Z",
     "start_time": "2024-04-01T10:10:45.133315Z"
    }
   },
   "id": "6f2cc90b0ef03384"
  },
  {
   "cell_type": "markdown",
   "source": [
    "### 将数据转化为numpy数组"
   ],
   "metadata": {
    "collapsed": false
   },
   "id": "504ab4d1d264baed"
  },
  {
   "cell_type": "code",
   "execution_count": 56,
   "outputs": [],
   "source": [
    "X_train_data=X_train_data.values\n",
    "Y_train_data=(Y_train_data.values).reshape(-1,1)\n",
    "X_test_data=X_test_data.values\n",
    "Y_test_data=(Y_test_data.values).reshape(-1,1)"
   ],
   "metadata": {
    "collapsed": false,
    "ExecuteTime": {
     "end_time": "2024-04-01T10:10:45.190522Z",
     "start_time": "2024-04-01T10:10:45.177086Z"
    }
   },
   "id": "eb5549b8cdab082a"
  },
  {
   "cell_type": "code",
   "execution_count": 57,
   "outputs": [
    {
     "data": {
      "text/plain": "(70, 1)"
     },
     "execution_count": 57,
     "metadata": {},
     "output_type": "execute_result"
    }
   ],
   "source": [
    "Y_train_data.shape"
   ],
   "metadata": {
    "collapsed": false,
    "ExecuteTime": {
     "end_time": "2024-04-01T10:10:45.253436Z",
     "start_time": "2024-04-01T10:10:45.238936Z"
    }
   },
   "id": "4cc66b43350f2a94"
  },
  {
   "cell_type": "markdown",
   "source": [
    "## 5.构建逻辑回归模型"
   ],
   "metadata": {
    "collapsed": false
   },
   "id": "679744c78217d210"
  },
  {
   "cell_type": "markdown",
   "source": [
    "### 定义sigmoid函数\n",
    "$$y=\\frac{1}{1+e^{-x}}$$"
   ],
   "metadata": {
    "collapsed": false
   },
   "id": "97eb163d78fd78da"
  },
  {
   "cell_type": "code",
   "execution_count": 58,
   "outputs": [],
   "source": [
    "def sigmoid(x):\n",
    "    return 1/(1+np.exp(-x))"
   ],
   "metadata": {
    "collapsed": false,
    "ExecuteTime": {
     "end_time": "2024-04-01T10:10:45.347111Z",
     "start_time": "2024-04-01T10:10:45.342977Z"
    }
   },
   "id": "d44d381fd5eb6a18"
  },
  {
   "cell_type": "markdown",
   "source": [
    "### 定义损失函数\n",
    "$$loss=-\\left(\\sum_{i=1}^ny_iln(p_i)+(1-y_i)ln(1-p_i)\\right)$$"
   ],
   "metadata": {
    "collapsed": false
   },
   "id": "7815089b24cd108b"
  },
  {
   "cell_type": "code",
   "execution_count": 59,
   "outputs": [],
   "source": [
    "def computeCost(X_train_data,Y_train_data,X_test_data,Y_test_data,W):\n",
    "    P_train=sigmoid(X_train_data@W)\n",
    "    P_test=sigmoid(X_test_data@W)\n",
    "    train_loss=-np.sum(Y_train_data.T@np.log(P_train)+(1-Y_train_data).T@np.log(1-P_train))/X_train_data.shape[0]\n",
    "    test_loss=-np.sum(Y_test_data.T@np.log(P_test)+(1-Y_test_data).T@np.log(1-P_test))/X_test_data.shape[0]\n",
    "    return train_loss,test_loss"
   ],
   "metadata": {
    "collapsed": false,
    "ExecuteTime": {
     "end_time": "2024-04-01T10:10:45.393389Z",
     "start_time": "2024-04-01T10:10:45.381034Z"
    }
   },
   "id": "9d0974725533f068"
  },
  {
   "cell_type": "markdown",
   "source": [
    "### 定义梯度下降函数\n",
    "$$W=W-\\alpha \\sum_{i=1}^n(p_i-y_i)\\mathbf{x_i}$$"
   ],
   "metadata": {
    "collapsed": false
   },
   "id": "a866331342c4110b"
  },
  {
   "cell_type": "code",
   "execution_count": 60,
   "outputs": [],
   "source": [
    "def gradientDecent(W,X,Y,alpha):\n",
    "    error=sigmoid(X@W)-Y\n",
    "    grad=(X.T@error)/X.shape[1]\n",
    "    W-=alpha*grad\n",
    "    return W"
   ],
   "metadata": {
    "collapsed": false,
    "ExecuteTime": {
     "end_time": "2024-04-01T10:10:45.408667Z",
     "start_time": "2024-04-01T10:10:45.401601Z"
    }
   },
   "id": "46f2b215fb8d6de3"
  },
  {
   "cell_type": "markdown",
   "source": [
    "### 逻辑回归训练函数"
   ],
   "metadata": {
    "collapsed": false
   },
   "id": "23020828c6b72506"
  },
  {
   "cell_type": "code",
   "execution_count": 61,
   "outputs": [],
   "source": [
    "def logisticRegression(X_train_data,Y_train_data,X_test_data,Y_test_data,alpha,iters):\n",
    "    feature_dim=X.shape[1]\n",
    "    train_loss_his=[]\n",
    "    test_loss_his=[]\n",
    "    W=np.zeros((feature_dim,1))\n",
    "    for i in range(iters):\n",
    "        train_loss,test_loss=computeCost(X_train_data,Y_train_data,X_test_data,Y_test_data,W)\n",
    "        train_loss_his.append(train_loss)\n",
    "        test_loss_his.append(test_loss)\n",
    "        W=gradientDecent(W,X_train_data,Y_train_data,alpha)\n",
    "    return train_loss_his,test_loss_his,W\n",
    "        "
   ],
   "metadata": {
    "collapsed": false,
    "ExecuteTime": {
     "end_time": "2024-04-01T10:10:45.424655Z",
     "start_time": "2024-04-01T10:10:45.410660Z"
    }
   },
   "id": "e0578f44bd982d36"
  },
  {
   "cell_type": "markdown",
   "source": [
    "### 定义模型预测函数"
   ],
   "metadata": {
    "collapsed": false
   },
   "id": "bc2f78be1a594eba"
  },
  {
   "cell_type": "code",
   "execution_count": 117,
   "outputs": [],
   "source": [
    "def predict(W,X,threshold):\n",
    "    pro=sigmoid(X@W)\n",
    "    y_hat=(pro>=threshold).astype(int)\n",
    "    return pro,y_hat"
   ],
   "metadata": {
    "collapsed": false,
    "ExecuteTime": {
     "end_time": "2024-04-01T11:00:25.761353Z",
     "start_time": "2024-04-01T11:00:25.745503Z"
    }
   },
   "id": "a621e482ce86dd2"
  },
  {
   "cell_type": "markdown",
   "source": [
    "## 6.进行模型训练"
   ],
   "metadata": {
    "collapsed": false
   },
   "id": "185512c75be2944b"
  },
  {
   "cell_type": "code",
   "execution_count": 118,
   "outputs": [],
   "source": [
    "alpha =0.01\n",
    "iters = 10000\n",
    "R=0.001\n",
    "train_loss_his,test_loss_his, W = logisticRegression(X_train_data,Y_train_data,X_test_data,Y_test_data, alpha, iters)"
   ],
   "metadata": {
    "collapsed": false,
    "ExecuteTime": {
     "end_time": "2024-04-01T11:00:26.736207Z",
     "start_time": "2024-04-01T11:00:26.293253Z"
    }
   },
   "id": "f3e836b900c5fc41"
  },
  {
   "cell_type": "markdown",
   "source": [
    "### 绘画损失曲线"
   ],
   "metadata": {
    "collapsed": false
   },
   "id": "1f0748ffac267a53"
  },
  {
   "cell_type": "code",
   "execution_count": 119,
   "outputs": [
    {
     "data": {
      "text/plain": "<Figure size 600x400 with 1 Axes>",
      "image/png": "[encoded data removed]"
     },
     "metadata": {},
     "output_type": "display_data"
    }
   ],
   "source": [
    "fig, ax = plt.subplots(figsize=(6, 4))\n",
    "ax.plot(np.arange(iters), train_loss_his, 'r',label='train_data')\n",
    "ax.plot(np.arange(iters), test_loss_his, 'b',label='test_data')\n",
    "\n",
    "ax.set_xlabel('迭代次数')\n",
    "ax.set_ylabel('代价', rotation=0)\n",
    "ax.set_title('误差和训练Epoch数')\n",
    "ax.legend()\n",
    "plt.show()"
   ],
   "metadata": {
    "collapsed": false,
    "ExecuteTime": {
     "end_time": "2024-04-01T11:00:29.970710Z",
     "start_time": "2024-04-01T11:00:29.856065Z"
    }
   },
   "id": "22ef334dd5f86acb"
  },
  {
   "cell_type": "markdown",
   "source": [
    "### 计算评价指标"
   ],
   "metadata": {
    "collapsed": false
   },
   "id": "aca5706cde1ea863"
  },
  {
   "cell_type": "code",
   "execution_count": 120,
   "outputs": [],
   "source": [
    "recall=[]\n",
    "precision=[]\n",
    "TPR=[]\n",
    "FPR=[]\n",
    "F1_score=[]"
   ],
   "metadata": {
    "collapsed": false,
    "ExecuteTime": {
     "end_time": "2024-04-01T11:00:33.746889Z",
     "start_time": "2024-04-01T11:00:33.733643Z"
    }
   },
   "id": "7952304347c79c5b"
  },
  {
   "cell_type": "code",
   "execution_count": 121,
   "outputs": [],
   "source": [
    "pro,y_hat=predict(W,X_test_data,0.5)\n",
    "pro=pro.reshape(-1)\n",
    "arr=np.copy(pro)\n",
    "arr.reshape(-1)\n",
    "arr.sort()\n",
    "sorted_indices = np.argsort(arr)[::-1]\n",
    "arr = arr[sorted_indices]\n",
    "for i in arr:\n",
    "    tp=0\n",
    "    fn=0\n",
    "    fp=0\n",
    "    tn=0\n",
    "    for j in range(Y_test_data.shape[0]):\n",
    "        if(Y_test_data[j][0]==1) and (pro[j]>=i):\n",
    "            tp=tp+1;\n",
    "        elif(Y_test_data[j][0]==1) and (pro[j]<i):\n",
    "            fn=fn+1\n",
    "        elif(Y_test_data[j][0]==0) and (pro[j]>=i):\n",
    "            fp=fp+1\n",
    "        else:\n",
    "            tn=tn+1\n",
    "    x=float(tp)/(tp+fn)\n",
    "    y=float(tp)/(tp+fp)\n",
    "    fpr=float(fp)/(tn+fp)\n",
    "    recall.append(x)\n",
    "    precision.append(y)\n",
    "    TPR.append(x)\n",
    "    FPR.append(fpr)\n",
    "    F1_score.append(2*x*y/(x+y))"
   ],
   "metadata": {
    "collapsed": false,
    "ExecuteTime": {
     "end_time": "2024-04-01T11:00:37.676782Z",
     "start_time": "2024-04-01T11:00:37.659363Z"
    }
   },
   "id": "ec716790024bd774"
  },
  {
   "cell_type": "code",
   "outputs": [
    {
     "data": {
      "text/plain": "array([[0],\n       [0],\n       [0],\n       [0],\n       [1],\n       [0],\n       [0],\n       [0],\n       [1],\n       [0],\n       [1],\n       [1],\n       [1],\n       [1],\n       [1],\n       [1],\n       [1],\n       [0],\n       [1],\n       [1],\n       [1],\n       [1],\n       [1],\n       [1],\n       [1],\n       [1],\n       [1],\n       [0],\n       [1],\n       [0]])"
     },
     "execution_count": 122,
     "metadata": {},
     "output_type": "execute_result"
    }
   ],
   "source": [
    "y_hat"
   ],
   "metadata": {
    "collapsed": false,
    "ExecuteTime": {
     "end_time": "2024-04-01T11:00:41.592544Z",
     "start_time": "2024-04-01T11:00:41.583222Z"
    }
   },
   "id": "53d607c414a4b130",
   "execution_count": 122
  },
  {
   "cell_type": "code",
   "outputs": [
    {
     "data": {
      "text/plain": "[0.0,\n 0.0,\n 0.0,\n 0.0,\n 0.0,\n 0.0,\n 0.0,\n 0.0,\n 0.0,\n 0.0,\n 0.0,\n 0.0,\n 0.0,\n 0.0,\n 0.0,\n 0.0,\n 0.07692307692307693,\n 0.15384615384615385,\n 0.23076923076923078,\n 0.23076923076923078,\n 0.3076923076923077,\n 0.38461538461538464,\n 0.46153846153846156,\n 0.5384615384615384,\n 0.6153846153846154,\n 0.6923076923076923,\n 0.7692307692307693,\n 0.8461538461538461,\n 0.9230769230769231,\n 1.0]"
     },
     "execution_count": 123,
     "metadata": {},
     "output_type": "execute_result"
    }
   ],
   "source": [
    "FPR"
   ],
   "metadata": {
    "collapsed": false,
    "ExecuteTime": {
     "end_time": "2024-04-01T11:00:44.232381Z",
     "start_time": "2024-04-01T11:00:44.221828Z"
    }
   },
   "id": "6c2cc84de6fb1663",
   "execution_count": 123
  },
  {
   "cell_type": "markdown",
   "source": [
    "### 绘制PR曲线"
   ],
   "metadata": {
    "collapsed": false
   },
   "id": "32ebe97b8345e63a"
  },
  {
   "cell_type": "code",
   "execution_count": 124,
   "outputs": [
    {
     "data": {
      "text/plain": "Text(0.5, 0, 'Recall')"
     },
     "execution_count": 124,
     "metadata": {},
     "output_type": "execute_result"
    },
    {
     "data": {
      "text/plain": "<Figure size 500x500 with 1 Axes>",
      "image/png": "[encoded data removed]"
     },
     "metadata": {},
     "output_type": "display_data"
    }
   ],
   "source": [
    "plt.figure(figsize=(5,5))\n",
    "plt.title('precision-recall curve',fontsize=16)\n",
    "plt.plot(recall,precision)\n",
    "plt.plot(recall,precision,'ro')\n",
    "plt.ylabel('Precision',fontsize=16)\n",
    "plt.xlabel('Recall',fontsize=16)"
   ],
   "metadata": {
    "collapsed": false,
    "ExecuteTime": {
     "end_time": "2024-04-01T11:00:52.121979Z",
     "start_time": "2024-04-01T11:00:52.007459Z"
    }
   },
   "id": "84c97dbff41917e5"
  },
  {
   "cell_type": "markdown",
   "source": [
    "### 绘制ROC曲线"
   ],
   "metadata": {
    "collapsed": false
   },
   "id": "999e93694f09a175"
  },
  {
   "cell_type": "code",
   "execution_count": 125,
   "outputs": [
    {
     "data": {
      "text/plain": "Text(0.5, 0, 'FPR')"
     },
     "execution_count": 125,
     "metadata": {},
     "output_type": "execute_result"
    },
    {
     "data": {
      "text/plain": "<Figure size 500x500 with 1 Axes>",
      "image/png": "[encoded data removed]"
     },
     "metadata": {},
     "output_type": "display_data"
    }
   ],
   "source": [
    "plt.figure(figsize=(5,5))\n",
    "plt.title('ROC curve',fontsize=16)\n",
    "plt.plot(FPR,TPR)\n",
    "plt.plot(FPR,TPR,'ro')\n",
    "plt.ylabel('TPR',fontsize=16)\n",
    "plt.xlabel('FPR',fontsize=16)"
   ],
   "metadata": {
    "collapsed": false,
    "ExecuteTime": {
     "end_time": "2024-04-01T11:00:59.447042Z",
     "start_time": "2024-04-01T11:00:59.344203Z"
    }
   },
   "id": "bc91a977549db774"
  },
  {
   "cell_type": "markdown",
   "source": [
    "### 计算AUC"
   ],
   "metadata": {
    "collapsed": false
   },
   "id": "4ece0772983550e9"
  },
  {
   "cell_type": "code",
   "execution_count": 126,
   "outputs": [
    {
     "name": "stdout",
     "output_type": "stream",
     "text": [
      "auc=0.99\n"
     ]
    }
   ],
   "source": [
    "auc=0\n",
    "for i in range(len(pro)-1):\n",
    "    auc=auc+(FPR[i+1]-FPR[i])*(TPR[i+1]+TPR[i])\n",
    "auc=float(auc)/2\n",
    "print(\"auc=%.2f\"%auc)"
   ],
   "metadata": {
    "collapsed": false,
    "ExecuteTime": {
     "end_time": "2024-04-01T11:01:07.808641Z",
     "start_time": "2024-04-01T11:01:07.796549Z"
    }
   },
   "id": "4d48d9f51ae473ce"
  },
  {
   "cell_type": "code",
   "execution_count": 127,
   "outputs": [
    {
     "name": "stdout",
     "output_type": "stream",
     "text": [
      "[0.1111111111111111, 0.21052631578947367, 0.3, 0.38095238095238093, 0.45454545454545453, 0.5217391304347826, 0.5833333333333334, 0.6399999999999999, 0.6923076923076924, 0.7407407407407407, 0.7857142857142858, 0.8275862068965517, 0.8666666666666666, 0.9032258064516129, 0.9375, 0.9696969696969697, 0.9411764705882353, 0.9142857142857143, 0.8888888888888888, 0.9189189189189189, 0.8947368421052632, 0.8717948717948718, 0.85, 0.8292682926829268, 0.8095238095238095, 0.7906976744186047, 0.7727272727272727, 0.7555555555555554, 0.7391304347826086, 0.7234042553191489]\n"
     ]
    }
   ],
   "source": [
    "print(F1_score)"
   ],
   "metadata": {
    "collapsed": false,
    "ExecuteTime": {
     "end_time": "2024-04-01T11:01:09.667601Z",
     "start_time": "2024-04-01T11:01:09.652576Z"
    }
   },
   "id": "39bf72cd483fbd09"
  },
  {
   "cell_type": "code",
   "execution_count": null,
   "outputs": [],
   "source": [],
   "metadata": {
    "collapsed": false,
    "ExecuteTime": {
     "start_time": "2024-04-01T10:10:46.264245Z"
    }
   },
   "id": "dd5fd69664de4c1a"
  }
 ],
 "metadata": {
  "kernelspec": {
   "name": "dl",
   "language": "python",
   "display_name": "DL"
  },
  "language_info": {
   "codemirror_mode": {
    "name": "ipython",
    "version": 2
   },
   "file_extension": ".py",
   "mimetype": "text/x-python",
   "name": "python",
   "nbconvert_exporter": "python",
   "pygments_lexer": "ipython2",
   "version": "2.7.6"
  }
 },
 "nbformat": 4,
 "nbformat_minor": 5
}
