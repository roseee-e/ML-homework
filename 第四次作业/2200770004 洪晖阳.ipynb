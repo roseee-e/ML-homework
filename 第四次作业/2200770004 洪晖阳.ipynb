{
 "cells": [
  {
   "cell_type": "code",
   "execution_count": 422,
   "metadata": {},
   "outputs": [],
   "source": [
    "import numpy as np\n",
    "import matplotlib.pyplot as plt\n",
    "import pandas as pd\n",
    "from matplotlib import rcParams  ## run command settings for plotting\n",
    "from sklearn.model_selection import train_test_split \n",
    "from sklearn.metrics import accuracy_score, precision_score, roc_curve, roc_auc_score\n",
    "#导入必要的库\n",
    "#设置画图参数\n",
    "config = {\n",
    "    \"mathtext.fontset\":'stix',\n",
    "    \"font.family\":'serif',\n",
    "    \"font.serif\": ['SimHei'],\n",
    "    \"font.size\": 10,   # 字号\n",
    "    'axes.unicode_minus': False # 处理负号\n",
    "}\n",
    "rcParams.update(config)"
   ]
  },
  {
   "cell_type": "code",
   "execution_count": 423,
   "metadata": {},
   "outputs": [
    {
     "data": {
      "text/html": [
       "<div>\n",
       "<style scoped>\n",
       "    .dataframe tbody tr th:only-of-type {\n",
       "        vertical-align: middle;\n",
       "    }\n",
       "\n",
       "    .dataframe tbody tr th {\n",
       "        vertical-align: top;\n",
       "    }\n",
       "\n",
       "    .dataframe thead th {\n",
       "        text-align: right;\n",
       "    }\n",
       "</style>\n",
       "<table border=\"1\" class=\"dataframe\">\n",
       "  <thead>\n",
       "    <tr style=\"text-align: right;\">\n",
       "      <th></th>\n",
       "      <th>0</th>\n",
       "      <th>1</th>\n",
       "      <th>2</th>\n",
       "    </tr>\n",
       "  </thead>\n",
       "  <tbody>\n",
       "    <tr>\n",
       "      <th>0</th>\n",
       "      <td>34.623660</td>\n",
       "      <td>78.024693</td>\n",
       "      <td>0</td>\n",
       "    </tr>\n",
       "    <tr>\n",
       "      <th>1</th>\n",
       "      <td>30.286711</td>\n",
       "      <td>43.894998</td>\n",
       "      <td>0</td>\n",
       "    </tr>\n",
       "    <tr>\n",
       "      <th>2</th>\n",
       "      <td>35.847409</td>\n",
       "      <td>72.902198</td>\n",
       "      <td>0</td>\n",
       "    </tr>\n",
       "    <tr>\n",
       "      <th>3</th>\n",
       "      <td>60.182599</td>\n",
       "      <td>86.308552</td>\n",
       "      <td>1</td>\n",
       "    </tr>\n",
       "    <tr>\n",
       "      <th>4</th>\n",
       "      <td>79.032736</td>\n",
       "      <td>75.344376</td>\n",
       "      <td>1</td>\n",
       "    </tr>\n",
       "  </tbody>\n",
       "</table>\n",
       "</div>"
      ],
      "text/plain": [
       "           0          1  2\n",
       "0  34.623660  78.024693  0\n",
       "1  30.286711  43.894998  0\n",
       "2  35.847409  72.902198  0\n",
       "3  60.182599  86.308552  1\n",
       "4  79.032736  75.344376  1"
      ]
     },
     "execution_count": 423,
     "metadata": {},
     "output_type": "execute_result"
    }
   ],
   "source": [
    "path=r'D:\\My_files_in_GZU\\学习\\大二\\机器学习\\machine-learning\\4th_homework\\ex2data1.txt'\n",
    "data=pd.read_csv(path, header=None)\n",
    "data.head()\n"
   ]
  },
  {
   "cell_type": "code",
   "execution_count": 424,
   "metadata": {},
   "outputs": [
    {
     "data": {
      "text/html": [
       "<div>\n",
       "<style scoped>\n",
       "    .dataframe tbody tr th:only-of-type {\n",
       "        vertical-align: middle;\n",
       "    }\n",
       "\n",
       "    .dataframe tbody tr th {\n",
       "        vertical-align: top;\n",
       "    }\n",
       "\n",
       "    .dataframe thead th {\n",
       "        text-align: right;\n",
       "    }\n",
       "</style>\n",
       "<table border=\"1\" class=\"dataframe\">\n",
       "  <thead>\n",
       "    <tr style=\"text-align: right;\">\n",
       "      <th></th>\n",
       "      <th>0</th>\n",
       "      <th>1</th>\n",
       "      <th>2</th>\n",
       "    </tr>\n",
       "  </thead>\n",
       "  <tbody>\n",
       "    <tr>\n",
       "      <th>count</th>\n",
       "      <td>100.000000</td>\n",
       "      <td>100.000000</td>\n",
       "      <td>100.000000</td>\n",
       "    </tr>\n",
       "    <tr>\n",
       "      <th>mean</th>\n",
       "      <td>65.644274</td>\n",
       "      <td>66.221998</td>\n",
       "      <td>0.600000</td>\n",
       "    </tr>\n",
       "    <tr>\n",
       "      <th>std</th>\n",
       "      <td>19.458222</td>\n",
       "      <td>18.582783</td>\n",
       "      <td>0.492366</td>\n",
       "    </tr>\n",
       "    <tr>\n",
       "      <th>min</th>\n",
       "      <td>30.058822</td>\n",
       "      <td>30.603263</td>\n",
       "      <td>0.000000</td>\n",
       "    </tr>\n",
       "    <tr>\n",
       "      <th>25%</th>\n",
       "      <td>50.919511</td>\n",
       "      <td>48.179205</td>\n",
       "      <td>0.000000</td>\n",
       "    </tr>\n",
       "    <tr>\n",
       "      <th>50%</th>\n",
       "      <td>67.032988</td>\n",
       "      <td>67.682381</td>\n",
       "      <td>1.000000</td>\n",
       "    </tr>\n",
       "    <tr>\n",
       "      <th>75%</th>\n",
       "      <td>80.212529</td>\n",
       "      <td>79.360605</td>\n",
       "      <td>1.000000</td>\n",
       "    </tr>\n",
       "    <tr>\n",
       "      <th>max</th>\n",
       "      <td>99.827858</td>\n",
       "      <td>98.869436</td>\n",
       "      <td>1.000000</td>\n",
       "    </tr>\n",
       "  </tbody>\n",
       "</table>\n",
       "</div>"
      ],
      "text/plain": [
       "                0           1           2\n",
       "count  100.000000  100.000000  100.000000\n",
       "mean    65.644274   66.221998    0.600000\n",
       "std     19.458222   18.582783    0.492366\n",
       "min     30.058822   30.603263    0.000000\n",
       "25%     50.919511   48.179205    0.000000\n",
       "50%     67.032988   67.682381    1.000000\n",
       "75%     80.212529   79.360605    1.000000\n",
       "max     99.827858   98.869436    1.000000"
      ]
     },
     "execution_count": 424,
     "metadata": {},
     "output_type": "execute_result"
    }
   ],
   "source": [
    "data.describe()"
   ]
  },
  {
   "cell_type": "code",
   "execution_count": 425,
   "metadata": {},
   "outputs": [],
   "source": [
    "cols = data.shape[1]\n",
    "data.insert(0, 'ones', 1)#在第一行插入全1\n",
    "X_data = data.iloc[:,:cols-1]\n",
    "y_data = data.iloc[:,:cols]"
   ]
  },
  {
   "cell_type": "code",
   "execution_count": 426,
   "metadata": {},
   "outputs": [
    {
     "data": {
      "text/plain": [
       "((100, 3), (100, 1))"
      ]
     },
     "execution_count": 426,
     "metadata": {},
     "output_type": "execute_result"
    }
   ],
   "source": [
    "cols=data.shape[1]\n",
    "X_data=data.iloc[:,:cols-1]\n",
    "y_data=data.iloc[:,cols-1:]\n",
    "X=X_data.values\n",
    "y=y_data.values\n",
    "(X.shape,y.shape)"
   ]
  },
  {
   "cell_type": "code",
   "execution_count": 427,
   "metadata": {},
   "outputs": [],
   "source": [
    "#划分数据集\n",
    "x_train,x_test,y_train,y_test=train_test_split(X,y,test_size=0.25,random_state=50)"
   ]
  },
  {
   "cell_type": "code",
   "execution_count": 428,
   "metadata": {},
   "outputs": [],
   "source": [
    "for i in range(1, cols-1):\n",
    "    min = x_train[:, i].min()\n",
    "    max = x_train[:, i].max()\n",
    "    x_train[:, i] = (x_train[:, i] - min) / (max - min)\n",
    "    x_test[:, i] = (x_test[:, i] - min) / (max - min)"
   ]
  },
  {
   "cell_type": "code",
   "execution_count": 429,
   "metadata": {},
   "outputs": [
    {
     "data": {
      "text/plain": [
       "((75, 3), (75, 1), (25, 3), (25, 1))"
      ]
     },
     "execution_count": 429,
     "metadata": {},
     "output_type": "execute_result"
    }
   ],
   "source": [
    "x_train.shape,y_train.shape,x_test.shape,y_test.shape"
   ]
  },
  {
   "cell_type": "code",
   "execution_count": 430,
   "metadata": {},
   "outputs": [],
   "source": [
    "def sigmoid(z):\n",
    "    return 1 / (1 + np.exp(-z))"
   ]
  },
  {
   "cell_type": "code",
   "execution_count": 431,
   "metadata": {},
   "outputs": [
    {
     "data": {
      "text/plain": [
       "(3,\n",
       " array([[0.],\n",
       "        [0.],\n",
       "        [0.]]))"
      ]
     },
     "execution_count": 431,
     "metadata": {},
     "output_type": "execute_result"
    }
   ],
   "source": [
    "feature_dim = x_train.shape[1]\n",
    "W = np.zeros((feature_dim,1))\n",
    "feature_dim,W"
   ]
  },
  {
   "cell_type": "code",
   "execution_count": 432,
   "metadata": {},
   "outputs": [],
   "source": [
    "def computeCost(X, Y, W):\n",
    "    P = sigmoid(X@W)\n",
    "    loss = np.sum(-Y*np.log(P) - (1-Y) * np.log(1-P)) / X.shape[0]\n",
    "    reg_loss = 0.005 * np.sum(W ** 2) / (2 * X.shape[0])  # 正则化项\n",
    "    return loss + reg_loss,P"
   ]
  },
  {
   "cell_type": "code",
   "execution_count": 433,
   "metadata": {},
   "outputs": [],
   "source": [
    "alpha = 0.01\n",
    "def gradientDecent(W, X, Y):\n",
    "    error = sigmoid(X@W) - Y\n",
    "    grad = X.T@error / X.shape[0]\n",
    "    W -= alpha * grad\n",
    "    return W"
   ]
  },
  {
   "cell_type": "code",
   "execution_count": 434,
   "metadata": {},
   "outputs": [],
   "source": [
    "def logisticRegression(x_train,y_train,x_test,y_test,alpha,iters): \n",
    "    loss_train, loss_test = [],[]\n",
    "    # stepl:initialize the model parameters \n",
    "    feature_dim = x_train.shape[1] \n",
    "    W=np.zeros((feature_dim,1))#初始化w系数矩阵，w是一个(feature_dim,l)矩阵\n",
    "    #repeat step 2 and step 3 untill to the convergence or the end of iterations \n",
    "    for i in range (iters): \n",
    "        # step2 using the initilized parameters to predict the output and calculate the loss \n",
    "        loss,P = computeCost(x_train,y_train,W) \n",
    "        loss_train.append(loss)\n",
    "        loss,p = computeCost(x_test,y_test,W) \n",
    "        loss_test.append(loss)\n",
    "        # step3:using the gradient decent method to update the parameters \n",
    "        W=gradientDecent(W,x_train,y_train) \n",
    "    return loss_train,loss_test,W#返回损失和模型参数。"
   ]
  },
  {
   "cell_type": "code",
   "execution_count": 435,
   "metadata": {},
   "outputs": [
    {
     "data": {
      "text/plain": [
       "array([[-8.24409872],\n",
       "       [ 9.20360861],\n",
       "       [ 9.01001337]])"
      ]
     },
     "execution_count": 435,
     "metadata": {},
     "output_type": "execute_result"
    }
   ],
   "source": [
    "alpha = 0.01\n",
    "iters = 100000\n",
    "loss_train, loss_test, W = logisticRegression(x_train, y_train,x_test,y_test,alpha, iters)\n",
    "W"
   ]
  },
  {
   "cell_type": "code",
   "execution_count": 436,
   "metadata": {},
   "outputs": [
    {
     "data": {
      "image/png": "[encoded data removed]",
      "text/plain": [
       "<Figure size 640x480 with 1 Axes>"
      ]
     },
     "metadata": {},
     "output_type": "display_data"
    }
   ],
   "source": [
    "iter = np.arange(iters)\n",
    "plt.figure()\n",
    "plt.plot(iter,loss_train,'r',label='训练损失')\n",
    "plt.plot(iter,loss_test,'b',label='测试损失')\n",
    "plt.legend()\n",
    "plt.xlabel(\"迭代次数\")\n",
    "plt.ylabel(\"损失\")\n",
    "plt.show()"
   ]
  },
  {
   "cell_type": "code",
   "execution_count": 437,
   "metadata": {},
   "outputs": [],
   "source": [
    "def predict(X, W):\n",
    "    p = sigmoid(X@W)\n",
    "    y_ = np.array(p >= 0.5, dtype=int)\n",
    "    return y_, p"
   ]
  },
  {
   "cell_type": "code",
   "execution_count": 438,
   "metadata": {},
   "outputs": [],
   "source": [
    "y_train_hat, y_train_p = predict(x_train, W)\n",
    "y_test_hat, y_test_p = predict(x_test, W)"
   ]
  },
  {
   "cell_type": "code",
   "execution_count": 439,
   "metadata": {},
   "outputs": [
    {
     "data": {
      "image/png": "[encoded data removed]",
      "text/plain": [
       "<Figure size 1200x600 with 2 Axes>"
      ]
     },
     "metadata": {},
     "output_type": "display_data"
    }
   ],
   "source": [
    "fpr_train, tpr_train, _ = roc_curve(y_train, y_train_p)\n",
    "plt.figure(figsize=(12, 6))\n",
    "plt.subplot(1, 2, 1)\n",
    "plt.suptitle('ROC曲线')\n",
    "plt.plot(fpr_train, tpr_train)\n",
    "plt.plot(fpr_train, tpr_train, 'ro')\n",
    "plt.title('训练数据')\n",
    "plt.xlabel('FPR')\n",
    "plt.ylabel('TPR')\n",
    "fpr_test, tpr_test, _ = roc_curve(y_test, y_test_p)\n",
    "plt.subplot(1, 2, 2)\n",
    "plt.plot(fpr_test, tpr_test)\n",
    "plt.plot(fpr_test, tpr_test, 'ro')\n",
    "plt.title('测试数据')\n",
    "plt.xlabel('FPR')\n",
    "plt.ylabel('TPR')\n",
    "plt.show()"
   ]
  },
  {
   "cell_type": "code",
   "execution_count": 440,
   "metadata": {},
   "outputs": [],
   "source": [
    "acc_train = accuracy_score(y_train,  y_train_hat)\n",
    "pre_train = precision_score(y_train, y_train_hat)\n",
    "acc_test = accuracy_score(y_test,  y_test_hat)\n",
    "pre_test = precision_score(y_test, y_test_hat)\n",
    "F1_train = 2 * acc_train * pre_train / (acc_train + pre_train)\n",
    "F1_test = 2 * acc_test * pre_test / (acc_test + pre_test)\n",
    "auc_train = roc_auc_score(y_train, y_train_p)\n",
    "auc_test = roc_auc_score(y_test, y_test_p)"
   ]
  },
  {
   "cell_type": "code",
   "execution_count": 441,
   "metadata": {},
   "outputs": [
    {
     "data": {
      "text/html": [
       "<div>\n",
       "<style scoped>\n",
       "    .dataframe tbody tr th:only-of-type {\n",
       "        vertical-align: middle;\n",
       "    }\n",
       "\n",
       "    .dataframe tbody tr th {\n",
       "        vertical-align: top;\n",
       "    }\n",
       "\n",
       "    .dataframe thead th {\n",
       "        text-align: right;\n",
       "    }\n",
       "</style>\n",
       "<table border=\"1\" class=\"dataframe\">\n",
       "  <thead>\n",
       "    <tr style=\"text-align: right;\">\n",
       "      <th></th>\n",
       "      <th></th>\n",
       "      <th>训练集</th>\n",
       "      <th>测试集</th>\n",
       "    </tr>\n",
       "  </thead>\n",
       "  <tbody>\n",
       "    <tr>\n",
       "      <th>0</th>\n",
       "      <td>precision</td>\n",
       "      <td>0.930233</td>\n",
       "      <td>0.882353</td>\n",
       "    </tr>\n",
       "    <tr>\n",
       "      <th>1</th>\n",
       "      <td>recall</td>\n",
       "      <td>0.920000</td>\n",
       "      <td>0.840000</td>\n",
       "    </tr>\n",
       "    <tr>\n",
       "      <th>2</th>\n",
       "      <td>F1_score</td>\n",
       "      <td>0.925088</td>\n",
       "      <td>0.860656</td>\n",
       "    </tr>\n",
       "    <tr>\n",
       "      <th>3</th>\n",
       "      <td>AUC</td>\n",
       "      <td>0.976017</td>\n",
       "      <td>0.963235</td>\n",
       "    </tr>\n",
       "  </tbody>\n",
       "</table>\n",
       "</div>"
      ],
      "text/plain": [
       "                   训练集       测试集\n",
       "0  precision  0.930233  0.882353\n",
       "1     recall  0.920000  0.840000\n",
       "2   F1_score  0.925088  0.860656\n",
       "3        AUC  0.976017  0.963235"
      ]
     },
     "execution_count": 441,
     "metadata": {},
     "output_type": "execute_result"
    }
   ],
   "source": [
    "eval = pd.DataFrame([['precision', pre_train, pre_test], ['recall', acc_train, acc_test],\n",
    "                      ['F1_score', F1_train, F1_test], ['AUC',  auc_train, auc_test]], columns=[' ', '训练集', '测试集'])\n",
    "eval"
   ]
  },
  {
   "cell_type": "code",
   "execution_count": null,
   "metadata": {},
   "outputs": [],
   "source": []
  }
 ],
 "metadata": {
  "kernelspec": {
   "display_name": "Python 3",
   "language": "python",
   "name": "python3"
  },
  "language_info": {
   "codemirror_mode": {
    "name": "ipython",
    "version": 3
   },
   "file_extension": ".py",
   "mimetype": "text/x-python",
   "name": "python",
   "nbconvert_exporter": "python",
   "pygments_lexer": "ipython3",
   "version": "3.11.4"
  }
 },
 "nbformat": 4,
 "nbformat_minor": 2
}
