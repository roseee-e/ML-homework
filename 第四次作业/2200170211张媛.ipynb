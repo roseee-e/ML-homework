{
 "cells": [
  {
   "cell_type": "code",
   "execution_count": 1,
   "id": "00bc4f79-6c30-4994-a597-a97ef60aaffa",
   "metadata": {},
   "outputs": [],
   "source": [
    "import numpy as np\n",
    "import pandas as pd\n",
    "import matplotlib.pyplot as plt\n",
    "from matplotlib import rcParams\n",
    "from sklearn.model_selection import train_test_split\n",
    "from sklearn.metrics import recall_score  \n",
    "from sklearn.metrics import f1_score \n",
    "from sklearn import metrics  \n",
    "from sklearn.metrics import roc_curve  \n",
    "from sklearn.metrics import auc  \n",
    "from sklearn.metrics import accuracy_score,precision_score"
   ]
  },
  {
   "cell_type": "code",
   "execution_count": 2,
   "id": "33a98fbf-93c9-4cac-84aa-fb6c79b8a609",
   "metadata": {},
   "outputs": [],
   "source": [
    "config = {\n",
    "    \"mathtext.fontset\":'stix',\n",
    "    \"font.family\":'serif',\n",
    "    \"font.serif\": ['SimHei'],\n",
    "    \"font.size\": 10,   # 字号，大家自行调节\n",
    "    'axes.unicode_minus': False # 处理负号，即-号\n",
    "}\n",
    "rcParams.update(config)  ## 设置画图的一些参数"
   ]
  },
  {
   "cell_type": "code",
   "execution_count": 3,
   "id": "7b40fc05-a4de-4cf3-9f2f-f04c074ef522",
   "metadata": {
    "scrolled": true
   },
   "outputs": [
    {
     "data": {
      "text/html": [
       "<div>\n",
       "<style scoped>\n",
       "    .dataframe tbody tr th:only-of-type {\n",
       "        vertical-align: middle;\n",
       "    }\n",
       "\n",
       "    .dataframe tbody tr th {\n",
       "        vertical-align: top;\n",
       "    }\n",
       "\n",
       "    .dataframe thead th {\n",
       "        text-align: right;\n",
       "    }\n",
       "</style>\n",
       "<table border=\"1\" class=\"dataframe\">\n",
       "  <thead>\n",
       "    <tr style=\"text-align: right;\">\n",
       "      <th></th>\n",
       "      <th>0</th>\n",
       "      <th>1</th>\n",
       "      <th>2</th>\n",
       "    </tr>\n",
       "  </thead>\n",
       "  <tbody>\n",
       "    <tr>\n",
       "      <th>0</th>\n",
       "      <td>34.623660</td>\n",
       "      <td>78.024693</td>\n",
       "      <td>0</td>\n",
       "    </tr>\n",
       "    <tr>\n",
       "      <th>1</th>\n",
       "      <td>30.286711</td>\n",
       "      <td>43.894998</td>\n",
       "      <td>0</td>\n",
       "    </tr>\n",
       "    <tr>\n",
       "      <th>2</th>\n",
       "      <td>35.847409</td>\n",
       "      <td>72.902198</td>\n",
       "      <td>0</td>\n",
       "    </tr>\n",
       "    <tr>\n",
       "      <th>3</th>\n",
       "      <td>60.182599</td>\n",
       "      <td>86.308552</td>\n",
       "      <td>1</td>\n",
       "    </tr>\n",
       "    <tr>\n",
       "      <th>4</th>\n",
       "      <td>79.032736</td>\n",
       "      <td>75.344376</td>\n",
       "      <td>1</td>\n",
       "    </tr>\n",
       "  </tbody>\n",
       "</table>\n",
       "</div>"
      ],
      "text/plain": [
       "           0          1  2\n",
       "0  34.623660  78.024693  0\n",
       "1  30.286711  43.894998  0\n",
       "2  35.847409  72.902198  0\n",
       "3  60.182599  86.308552  1\n",
       "4  79.032736  75.344376  1"
      ]
     },
     "execution_count": 3,
     "metadata": {},
     "output_type": "execute_result"
    }
   ],
   "source": [
    "path=\"C:\\\\Users\\\\Gillian\\\\Documents\\\\Tencent Files\\\\1302851529\\\\FileRecv\\\\ex2data1.txt\"\n",
    "data=pd.read_csv(path,header=None)\n",
    "data.head()"
   ]
  },
  {
   "cell_type": "code",
   "execution_count": 4,
   "id": "d39f7606-b28a-47ae-9d4b-53a17e3a0bab",
   "metadata": {},
   "outputs": [],
   "source": [
    "cols=data.shape[1]\n",
    "X_data=data.iloc[:,:cols-1]\n",
    "Y_data=data.iloc[:,cols-1:]"
   ]
  },
  {
   "cell_type": "code",
   "execution_count": 5,
   "id": "848156eb-9251-48a9-9935-0ec6753a55c4",
   "metadata": {},
   "outputs": [],
   "source": [
    "X_train,X_test,Y_train,Y_test=train_test_split(X_data,Y_data,test_size=0.3,random_state=42)"
   ]
  },
  {
   "cell_type": "markdown",
   "id": "a1277a72-8237-49a6-82d0-c7ae6ca6e313",
   "metadata": {},
   "source": [
    "标准化"
   ]
  },
  {
   "cell_type": "code",
   "execution_count": 6,
   "id": "31c53a5d-0ca4-48b3-9b4d-a2f39d309cb1",
   "metadata": {},
   "outputs": [],
   "source": [
    "xmean = X_train.mean()  \n",
    "xstd = X_train.std()    \n",
    "\n",
    "xstd[xstd == 0] = 1e-7\n",
    " \n",
    "X_train= (X_train - xmean) / xstd  \n",
    "X_test=(X_test- xmean) / xstd  "
   ]
  },
  {
   "cell_type": "code",
   "execution_count": 7,
   "id": "bb0d44c7-8911-4be9-9d5e-794173893481",
   "metadata": {},
   "outputs": [],
   "source": [
    "X_train.insert(0, 'Ones', 1)\n",
    "X_test.insert(0,'Ones',1)"
   ]
  },
  {
   "cell_type": "code",
   "execution_count": 8,
   "id": "bcdf9695-6229-4425-8492-0829630edcd0",
   "metadata": {},
   "outputs": [],
   "source": [
    "Xtr=X_train.values\n",
    "Ytr=Y_train.values\n",
    "Xte=X_test.values\n",
    "Yte=Y_test.values"
   ]
  },
  {
   "cell_type": "code",
   "execution_count": 9,
   "id": "6dc0b861-8027-4f8e-b45c-741f80cd207b",
   "metadata": {},
   "outputs": [],
   "source": [
    "def sigmoid(z):\n",
    "    return 1/(1+np.exp(-z))"
   ]
  },
  {
   "cell_type": "code",
   "execution_count": 10,
   "id": "ed701b76-f1b4-4578-a417-f13fbd1e1c6f",
   "metadata": {},
   "outputs": [],
   "source": [
    "feature_dim=X_train.shape[0]\n",
    "W=np.zeros((feature_dim,1))"
   ]
  },
  {
   "cell_type": "code",
   "execution_count": 11,
   "id": "ffa90a38-5879-4463-a4e9-34215bb0d67a",
   "metadata": {},
   "outputs": [],
   "source": [
    "def computeCost(X, Y, W):  \n",
    "    P = sigmoid(np.dot(X,W))\n",
    "    loss = np.sum(-Y*np.log(P)-(1-Y)* np.log(1- P))/X.shape[0] \n",
    "    return loss"
   ]
  },
  {
   "cell_type": "code",
   "execution_count": 12,
   "id": "74a2730a-d66a-441a-913c-b0b75f8c8f00",
   "metadata": {},
   "outputs": [],
   "source": [
    "def gradientDecent(X, Y,W,alpha): \n",
    "    error=np.dot(X,W)-Y\n",
    "    grad = (1 / X.shape[0]) * np.dot(X.T, error)\n",
    "    W-= alpha * grad\n",
    "    return W"
   ]
  },
  {
   "cell_type": "code",
   "execution_count": 13,
   "id": "4aadc217-88ba-480f-adfe-2271b37d8bcd",
   "metadata": {},
   "outputs": [],
   "source": [
    "def logisticRegression(X,Y,alpha,iters):\n",
    "    feature_dim =X.shape[1]\n",
    "    W=np.zeros((feature_dim,1))\n",
    "    loss_his=[]\n",
    "    w_data=[]\n",
    "    for i in range(iters):\n",
    "        loss = computeCost(X, Y, W)  # 计算损失\n",
    "        loss_his.append(loss)  # 将损失添加到历史记录中\n",
    "        W = gradientDecent(X, Y, W, alpha)  # 执行梯度下降更新权重\n",
    "        w_data.append(W.copy()) \n",
    "    return loss_his,w_data"
   ]
  },
  {
   "cell_type": "code",
   "execution_count": 14,
   "id": "5b060aa7-0b8f-4b07-ae62-da14a21a443c",
   "metadata": {},
   "outputs": [],
   "source": [
    "alpha =0.01\n",
    "iters = 10000\n",
    "loss_his,w_data = logisticRegression(Xtr,Ytr, alpha, iters)\n",
    "loss_train=[]\n",
    "loss_test=[]\n",
    "for w in w_data:\n",
    "    loss_train.append(computeCost(Xtr,Ytr,w))\n",
    "    loss_test.append(computeCost(Xte,Yte,w))"
   ]
  },
  {
   "cell_type": "code",
   "execution_count": 15,
   "id": "5b838eea-abb7-4f07-9b15-cbddc8ac5ccf",
   "metadata": {},
   "outputs": [
    {
     "data": {
      "text/plain": [
       "Text(0, 0.5, 'loss')"
      ]
     },
     "execution_count": 15,
     "metadata": {},
     "output_type": "execute_result"
    },
    {
     "data": {
      "image/png": "[encoded data removed]",
      "text/plain": [
       "<Figure size 400x300 with 1 Axes>"
      ]
     },
     "metadata": {},
     "output_type": "display_data"
    }
   ],
   "source": [
    "plt.figure(figsize=(4,3))\n",
    "x = np.arange(iters)\n",
    "plt.plot(x, loss_train, label='Training Loss')\n",
    "plt.plot(x, loss_test, label='Test Loss')\n",
    "plt.legend()  \n",
    "plt.xlabel(\"iters\")\n",
    "plt.ylabel(\"loss\")"
   ]
  },
  {
   "cell_type": "code",
   "execution_count": 16,
   "id": "61076bba-173d-4b9d-a9db-1436c5b435dc",
   "metadata": {},
   "outputs": [],
   "source": [
    "def predict(w,X):\n",
    "    probability = sigmoid(X@w)\n",
    "    y_hat = probability >=0.5\n",
    "    return probability,y_hat"
   ]
  },
  {
   "cell_type": "markdown",
   "id": "55a80e4e-dba8-4743-903e-3e3c6f396568",
   "metadata": {},
   "source": [
    "测试集的准确度和精确度"
   ]
  },
  {
   "cell_type": "code",
   "execution_count": 17,
   "id": "76939f40-250a-4037-915d-6369110e1fa8",
   "metadata": {},
   "outputs": [
    {
     "name": "stdout",
     "output_type": "stream",
     "text": [
      "0.7666666666666667 0.75\n"
     ]
    }
   ],
   "source": [
    "w_last=w_data[-1]\n",
    "probability,y_pre=predict(w_last,X_test)\n",
    "#准确度\n",
    "acc =accuracy_score(Y_test,y_pre)\n",
    "#精确度\n",
    "precision =precision_score(Y_test,y_pre)\n",
    "print(acc,precision)"
   ]
  },
  {
   "cell_type": "markdown",
   "id": "61d1e57f-411b-44b8-95bb-986310e79ed8",
   "metadata": {},
   "source": [
    "recall值"
   ]
  },
  {
   "cell_type": "code",
   "execution_count": 19,
   "id": "735769e7-4c43-4ed2-a5ca-5d7439366b09",
   "metadata": {},
   "outputs": [],
   "source": [
    "recall=recall_score(Y_test, y_pre)"
   ]
  },
  {
   "cell_type": "code",
   "execution_count": 20,
   "id": "b0202abe-d0b3-4447-a3cb-90a210647c20",
   "metadata": {},
   "outputs": [
    {
     "data": {
      "text/plain": [
       "1.0"
      ]
     },
     "execution_count": 20,
     "metadata": {},
     "output_type": "execute_result"
    }
   ],
   "source": [
    "(recall)"
   ]
  },
  {
   "cell_type": "markdown",
   "id": "21db4cba-d420-472c-8dcb-1a694e181567",
   "metadata": {},
   "source": [
    "F1分数"
   ]
  },
  {
   "cell_type": "code",
   "execution_count": 21,
   "id": "72e7acc6-fd10-46ac-92c8-7995951b6f9b",
   "metadata": {},
   "outputs": [],
   "source": [
    "F1score=f1_score(Y_test, y_pre, average='binary')"
   ]
  },
  {
   "cell_type": "code",
   "execution_count": 22,
   "id": "474f3414-8ceb-40a0-a7d8-f43391bfcb66",
   "metadata": {},
   "outputs": [
    {
     "data": {
      "text/plain": [
       "0.8571428571428571"
      ]
     },
     "execution_count": 22,
     "metadata": {},
     "output_type": "execute_result"
    }
   ],
   "source": [
    "(F1score)"
   ]
  },
  {
   "cell_type": "markdown",
   "id": "3bd7afdf-9ba8-47aa-8d18-a369eca103ae",
   "metadata": {},
   "source": [
    "roc曲线和AUC值"
   ]
  },
  {
   "cell_type": "code",
   "execution_count": 23,
   "id": "2c389f1b-b137-4075-a7cd-96095641b87c",
   "metadata": {},
   "outputs": [],
   "source": [
    "fpr, tpr, thresholds = roc_curve(Y_test, probability)  "
   ]
  },
  {
   "cell_type": "code",
   "execution_count": 24,
   "id": "21e5ad51-77f0-459e-82ae-2126ab45f3fd",
   "metadata": {},
   "outputs": [
    {
     "data": {
      "image/png": "[encoded data removed]",
      "text/plain": [
       "<Figure size 500x500 with 1 Axes>"
      ]
     },
     "metadata": {},
     "output_type": "display_data"
    }
   ],
   "source": [
    "plt.figure(figsize=(5,5))\n",
    "plt.title(\"ROC curve\",fontsize=14)\n",
    "plt.plot(fpr,tpr)\n",
    "plt.plot(fpr,tpr,\"ro\")\n",
    "plt.ylabel(\"TPR\",fontsize=14)\n",
    "plt.xlabel(\"FPR\",fontsize=14)\n",
    "plt.show()"
   ]
  },
  {
   "cell_type": "code",
   "execution_count": 25,
   "id": "3fc1ad0f-e05c-4ce5-91b4-780170aab8cd",
   "metadata": {},
   "outputs": [],
   "source": [
    "AUC=auc(fpr, tpr)"
   ]
  },
  {
   "cell_type": "code",
   "execution_count": 26,
   "id": "03051c68-463d-4b89-a510-e4d13ef9970f",
   "metadata": {},
   "outputs": [
    {
     "name": "stdout",
     "output_type": "stream",
     "text": [
      "0.947089947089947\n"
     ]
    }
   ],
   "source": [
    "print(AUC)"
   ]
  },
  {
   "cell_type": "code",
   "execution_count": null,
   "id": "2770d985-fd41-4b24-a377-b308906f02ec",
   "metadata": {},
   "outputs": [],
   "source": []
  },
  {
   "cell_type": "code",
   "execution_count": null,
   "id": "ca2c2215-f621-421e-a554-67571fe76854",
   "metadata": {},
   "outputs": [],
   "source": []
  }
 ],
 "metadata": {
  "kernelspec": {
   "display_name": "Python 3 (ipykernel)",
   "language": "python",
   "name": "python3"
  },
  "language_info": {
   "codemirror_mode": {
    "name": "ipython",
    "version": 3
   },
   "file_extension": ".py",
   "mimetype": "text/x-python",
   "name": "python",
   "nbconvert_exporter": "python",
   "pygments_lexer": "ipython3",
   "version": "3.11.7"
  }
 },
 "nbformat": 4,
 "nbformat_minor": 5
}
