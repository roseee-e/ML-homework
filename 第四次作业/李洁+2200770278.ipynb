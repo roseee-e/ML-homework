{
 "cells": [
  {
   "cell_type": "markdown",
   "metadata": {},
   "source": [
    "###  逻辑回归（Logistic Regression）"
   ]
  },
  {
   "cell_type": "markdown",
   "metadata": {},
   "source": [
    "###  1.主要内容\n",
    "Logistic Regression 虽然被称为回归，但其实际上是分类模型，并常用于二分类。Logistic Regression 因其简单、可并行化、可解释强,深受工业界喜爱。 \n",
    "\n",
    "逻辑回归函数：$y=Sigmoid(W^{T}X)$，其中$X\\in R^{n \\times m}$。n是样本的维度特征，m是样本数量\n",
    "\n",
    "$Sigmoid(Z)=\\frac{1}{1+e^{-Z}}$"
   ]
  },
  {
   "cell_type": "markdown",
   "metadata": {},
   "source": [
    "假设预测为正类的概率为:\n",
    "    $p_{+}=y=\\frac{1}{1+e^{-Z}}=\\frac{1}{1+e^{-W^{T}X}}$\n",
    "    \n",
    "相应预测为负类的概率为\n",
    "    $p_{-}=1-p_{+}$\n",
    "    \n",
    "解得\n",
    "    $ln(odds)=ln(\\frac{p_{+}}{p_{-}})=ln(e^{Z})=Z=W^{T}X$"
   ]
  },
  {
   "cell_type": "markdown",
   "metadata": {},
   "source": [
    "###  2.损失函数"
   ]
  },
  {
   "cell_type": "markdown",
   "metadata": {},
   "source": [
    "假设样本服从二项分布，$p_{i}$代表预测为正类的概率，$y_{i}$表示$Sigmoid(W^{T}X_{i})$则样本的对数似然函数推导为：\n",
    "    $$ln(Prob(D))=\\sum _{i=1}^{m}y_{i}+(1-y_{i})ln(1-p_{i})$$"
   ]
  },
  {
   "cell_type": "markdown",
   "metadata": {},
   "source": [
    "为使得似然函数最大，我们让损失函数为:\n",
    "  $$loss=-(\\sum _{i=1}^{m}y_{i}+(1-y_{i})ln(1-p_{i}))$$"
   ]
  },
  {
   "cell_type": "markdown",
   "metadata": {},
   "source": [
    "### 3.梯度计算"
   ]
  },
  {
   "cell_type": "markdown",
   "metadata": {},
   "source": [
    "经过计算推导可得到：$$\\frac{\\partial loss}{\\partial W}=X(P-Y)^{T}$$\n",
    "其中$X\\in R^{n\\times m}$，$Y\\in R^{1\\times m}$，$y=p$(即经过sigmoid函数后的值)"
   ]
  },
  {
   "cell_type": "markdown",
   "metadata": {},
   "source": [
    "### 4.作业"
   ]
  },
  {
   "cell_type": "markdown",
   "metadata": {},
   "source": [
    "导入必要的库，并设置画图参数"
   ]
  },
  {
   "cell_type": "code",
   "execution_count": 164,
   "metadata": {},
   "outputs": [],
   "source": [
    "import numpy as np\n",
    "import matplotlib.pyplot as plt\n",
    "import pandas as pd\n",
    "from matplotlib import rcParams  ## run command settings for plotting\n",
    "from sklearn.model_selection import train_test_split \n",
    "#导入必要的库\n",
    "#设置画图参数\n",
    "config = {\n",
    "    \"mathtext.fontset\":'stix',\n",
    "    \"font.family\":'serif',\n",
    "    \"font.serif\": ['SimHei'],\n",
    "    \"font.size\": 10,   # 字号\n",
    "    'axes.unicode_minus': False # 处理负号\n",
    "}\n",
    "rcParams.update(config)"
   ]
  },
  {
   "cell_type": "markdown",
   "metadata": {},
   "source": [
    "引入数据并查看前五行"
   ]
  },
  {
   "cell_type": "code",
   "execution_count": 165,
   "metadata": {},
   "outputs": [
    {
     "data": {
      "text/html": [
       "<div>\n",
       "<style scoped>\n",
       "    .dataframe tbody tr th:only-of-type {\n",
       "        vertical-align: middle;\n",
       "    }\n",
       "\n",
       "    .dataframe tbody tr th {\n",
       "        vertical-align: top;\n",
       "    }\n",
       "\n",
       "    .dataframe thead th {\n",
       "        text-align: right;\n",
       "    }\n",
       "</style>\n",
       "<table border=\"1\" class=\"dataframe\">\n",
       "  <thead>\n",
       "    <tr style=\"text-align: right;\">\n",
       "      <th></th>\n",
       "      <th>0</th>\n",
       "      <th>1</th>\n",
       "      <th>2</th>\n",
       "    </tr>\n",
       "  </thead>\n",
       "  <tbody>\n",
       "    <tr>\n",
       "      <th>0</th>\n",
       "      <td>34.623660</td>\n",
       "      <td>78.024693</td>\n",
       "      <td>0</td>\n",
       "    </tr>\n",
       "    <tr>\n",
       "      <th>1</th>\n",
       "      <td>30.286711</td>\n",
       "      <td>43.894998</td>\n",
       "      <td>0</td>\n",
       "    </tr>\n",
       "    <tr>\n",
       "      <th>2</th>\n",
       "      <td>35.847409</td>\n",
       "      <td>72.902198</td>\n",
       "      <td>0</td>\n",
       "    </tr>\n",
       "    <tr>\n",
       "      <th>3</th>\n",
       "      <td>60.182599</td>\n",
       "      <td>86.308552</td>\n",
       "      <td>1</td>\n",
       "    </tr>\n",
       "    <tr>\n",
       "      <th>4</th>\n",
       "      <td>79.032736</td>\n",
       "      <td>75.344376</td>\n",
       "      <td>1</td>\n",
       "    </tr>\n",
       "  </tbody>\n",
       "</table>\n",
       "</div>"
      ],
      "text/plain": [
       "           0          1  2\n",
       "0  34.623660  78.024693  0\n",
       "1  30.286711  43.894998  0\n",
       "2  35.847409  72.902198  0\n",
       "3  60.182599  86.308552  1\n",
       "4  79.032736  75.344376  1"
      ]
     },
     "execution_count": 165,
     "metadata": {},
     "output_type": "execute_result"
    }
   ],
   "source": [
    "path='D:/CPP in vscode/机器学习/逻辑回归/ex2data1.txt'\n",
    "data=pd.read_csv(path,header=None)\n",
    "data.head()"
   ]
  },
  {
   "cell_type": "markdown",
   "metadata": {},
   "source": [
    "将数据进行划分并进行标准化"
   ]
  },
  {
   "cell_type": "code",
   "execution_count": 166,
   "metadata": {},
   "outputs": [
    {
     "data": {
      "text/plain": [
       "((100, 3), (100, 1))"
      ]
     },
     "execution_count": 166,
     "metadata": {},
     "output_type": "execute_result"
    }
   ],
   "source": [
    "data.insert(0, 'ones', 1)#在第一行插入全1\n",
    "cols=data.shape[1]\n",
    "X_data=data.iloc[:,:cols-1]\n",
    "y_data=data.iloc[:,cols-1:]\n",
    "X=X_data.values\n",
    "y=y_data.values\n",
    "(X.shape,y.shape)"
   ]
  },
  {
   "cell_type": "code",
   "execution_count": 167,
   "metadata": {},
   "outputs": [],
   "source": [
    "#划分数据集\n",
    "x_train,x_test,y_train,y_test=train_test_split(X,y,test_size=0.3,random_state=20)"
   ]
  },
  {
   "cell_type": "code",
   "execution_count": 168,
   "metadata": {},
   "outputs": [],
   "source": [
    "for i in range(1, cols-1):\n",
    "    mean = x_train[:, i].mean()\n",
    "    std = x_train[:, i].std()\n",
    "    x_train[:, i] = (x_train[:, i] - mean) / std\n",
    "    x_test[:, i] = (x_test[:, i] - mean) / std\n",
    "#x_mean=x_train[:,1:].mean()\n",
    "#x_std=x_train[:,1:].std()\n",
    "#x_train[:,1:]=(x_train[:,1:]-x_mean) / x_std\n",
    "#x_test[:,1:]=(x_test[:,1:]-x_mean) / x_std"
   ]
  },
  {
   "cell_type": "code",
   "execution_count": 169,
   "metadata": {},
   "outputs": [
    {
     "data": {
      "text/plain": [
       "((70, 3), (70, 1))"
      ]
     },
     "execution_count": 169,
     "metadata": {},
     "output_type": "execute_result"
    }
   ],
   "source": [
    "(x_train.shape,y_train.shape)"
   ]
  },
  {
   "cell_type": "markdown",
   "metadata": {},
   "source": [
    "构建逻辑回归模型"
   ]
  },
  {
   "cell_type": "code",
   "execution_count": 170,
   "metadata": {},
   "outputs": [],
   "source": [
    "#设W为（3,1）的矩阵\n",
    "def Sigmoid(X,W):\n",
    "    return 1/(1+np.exp(-(X@W)))\n",
    "def loss(X,Y,W):\n",
    "    y=Sigmoid(X,W)\n",
    "    loss_=-(np.sum(Y*np.log(y)+(1-Y)*np.log(1-y)))\n",
    "    return loss_\n",
    "#已知X(70,3),Y(70,1),W(3,1)\n",
    "def gradient(X,Y,W,alpha,lambdaReg):\n",
    "    y=Sigmoid(X,W)\n",
    "    dw=X.T@(y-Y)+lambdaReg*W  #如果loss除了样本数，此处就必须要除样本数\n",
    "    W-=alpha*dw\n",
    "    return W\n",
    "def logstic_Regression(X,Y,alpha,iters,lambdaReg):\n",
    "    dW_list=[]\n",
    "    feature_dim=X.shape[1]\n",
    "    W=np.zeros((feature_dim,1))#初始化W系数矩阵\n",
    "    for i in range(iters):\n",
    "        W=gradient(X,Y,W,alpha,lambdaReg)\n",
    "        W_=W.copy()\n",
    "        dW_list.append(W_)\n",
    "    return dW_list\n",
    "def predict(X,W):\n",
    "    p=Sigmoid(X,W)\n",
    "    y_pre=np.array(p>=0.5,dtype=int)  #数组内大于0.5的都会被赋为1\n",
    "    return y_pre,p\n",
    "\n"
   ]
  },
  {
   "cell_type": "markdown",
   "metadata": {},
   "source": [
    "训练模型"
   ]
  },
  {
   "cell_type": "code",
   "execution_count": 171,
   "metadata": {},
   "outputs": [
    {
     "data": {
      "image/png": "[encoded data removed]",
      "text/plain": [
       "<Figure size 640x480 with 1 Axes>"
      ]
     },
     "metadata": {},
     "output_type": "display_data"
    }
   ],
   "source": [
    "#设置训练参数\n",
    "alpha=0.0001\n",
    "iters=40000\n",
    "lambdaReg=0.2\n",
    "#开始训练\n",
    "dW_list=logstic_Regression(x_train,y_train,alpha,iters,lambdaReg)\n",
    "train_loss=[]\n",
    "test_loss=[]\n",
    "for W in dW_list:\n",
    "    train_loss.append(loss(x_train,y_train,W))\n",
    "    test_loss.append(loss(x_test,y_test,W))\n",
    "iter = np.arange(iters)\n",
    "plt.figure()\n",
    "plt.plot(iter,train_loss,'r',label='训练损失')\n",
    "plt.plot(iter,test_loss,'b',label='测试损失')\n",
    "plt.legend()\n",
    "plt.xlabel(\"迭代次数\")\n",
    "plt.ylabel(\"损失\")\n",
    "plt.show()\n"
   ]
  },
  {
   "cell_type": "markdown",
   "metadata": {},
   "source": [
    "###  模型测试"
   ]
  },
  {
   "cell_type": "code",
   "execution_count": 172,
   "metadata": {},
   "outputs": [
    {
     "name": "stdout",
     "output_type": "stream",
     "text": [
      "+--------------------------------------------------------------+\n",
      "|                         模型评估指标                         |\n",
      "+--------------------+--------------------+--------------------+\n",
      "|        指标        |       训练集       |       测试集       |\n",
      "+--------------------+--------------------+--------------------+\n",
      "|  召回率 (Recall)   | 0.8714285714285714 | 0.9666666666666667 |\n",
      "| 精确率 (Precision) | 0.9047619047619048 | 0.9444444444444444 |\n",
      "| F1分数 (F1-Score)  | 0.8877824588280353 | 0.9554263565891473 |\n",
      "+--------------------+--------------------+--------------------+\n"
     ]
    }
   ],
   "source": [
    "from prettytable import PrettyTable\n",
    "from sklearn.metrics import accuracy_score,precision_score, roc_auc_score, roc_curve\n",
    "\n",
    "y_train_pred,y_train_prob=predict(x_train,dW_list[-1])\n",
    "y_test_pred,y_test_prob=predict(x_test,dW_list[-1])\n",
    "\n",
    "r_train=accuracy_score(y_train,  y_train_pred)\n",
    "p_train=precision_score(y_train, y_train_pred)\n",
    "\n",
    "r_test=accuracy_score(y_test,y_test_pred)\n",
    "p_test=precision_score(y_test,y_test_pred)\n",
    "\n",
    "F1_train=2*r_train*p_train/(r_train+p_train)\n",
    "F1_test=2*r_test*p_test/(r_test+p_test)\n",
    "\n",
    "table = PrettyTable()\n",
    "table.title = \"模型评估指标\"\n",
    "table.field_names = [\"指标\", \"训练集\", \"测试集\"]\n",
    "\n",
    "\n",
    "table.add_row([\"召回率 (Recall)\", r_train, r_test])\n",
    "table.add_row([\"精确率 (Precision)\", p_train, p_test])\n",
    "table.add_row([\"F1分数 (F1-Score)\", F1_train, F1_test])\n",
    "print(table)"
   ]
  },
  {
   "cell_type": "code",
   "execution_count": 173,
   "metadata": {},
   "outputs": [
    {
     "data": {
      "image/png": "[encoded data removed]",
      "text/plain": [
       "<Figure size 600x400 with 1 Axes>"
      ]
     },
     "metadata": {},
     "output_type": "display_data"
    }
   ],
   "source": [
    "\n",
    "\n",
    "train_fpr,train_tpr,_=roc_curve(y_train,y_train_prob)\n",
    "test_fpr,test_tpr,_=roc_curve(y_test,y_test_prob)\n",
    "\n",
    "\n",
    "auc_train = roc_auc_score(y_train, y_train_prob)\n",
    "auc_test = roc_auc_score(y_test, y_test_prob)\n",
    "\n",
    "plt.figure(figsize=(6,4))\n",
    "plt.plot(train_fpr,train_tpr,color='b',label=f\"训练集,auc≈{auc_train:.4f}\",alpha=0.5)\n",
    "plt.plot(train_fpr,train_tpr,'bo',alpha=0.5)\n",
    "plt.plot(test_fpr,test_tpr,color='r',label=f\"测试集,auc≈{auc_test:.4f}\",alpha=0.5)\n",
    "plt.plot(test_fpr,test_tpr,'r^',alpha=0.5)\n",
    "plt.title('ROC曲线图')\n",
    "plt.xlabel('FPR')\n",
    "plt.ylabel('TPR')\n",
    "plt.legend()\n",
    "plt.show()\n",
    "\n"
   ]
  },
  {
   "cell_type": "code",
   "execution_count": null,
   "metadata": {},
   "outputs": [],
   "source": []
  }
 ],
 "metadata": {
  "kernelspec": {
   "display_name": "Python 3",
   "language": "python",
   "name": "python3"
  },
  "language_info": {
   "codemirror_mode": {
    "name": "ipython",
    "version": 3
   },
   "file_extension": ".py",
   "mimetype": "text/x-python",
   "name": "python",
   "nbconvert_exporter": "python",
   "pygments_lexer": "ipython3",
   "version": "3.11.4"
  }
 },
 "nbformat": 4,
 "nbformat_minor": 2
}
