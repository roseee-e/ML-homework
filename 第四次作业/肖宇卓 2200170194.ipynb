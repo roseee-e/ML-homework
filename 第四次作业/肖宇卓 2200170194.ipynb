{
 "cells": [
  {
   "cell_type": "markdown",
   "id": "53fad3df",
   "metadata": {},
   "source": [
    "逻辑回归基于线性回归，并引入了 Sigmoid函数，将回归问题转换为二元分类问题的函数；\n",
    "\n",
    "Linear regression: $$Z=W^TX$$\n",
    "Logistic regression: $$Y=Sigmoid(Z)$$\n",
    "$$y=\\operatorname{Sigmoid}(W^TX),W\\in\\mathcal{R}^{n\\times1},X\\in\\mathcal{R}^{n\\times m},Y\\in\\mathcal{R}^{1\\times m}$$\n",
    "\n",
    "\n",
    "则正类的预测概率为：$$p_+=\\mathrm{y}=\\frac{1}{1+e^{-z}}=\\frac{1}{1+e^{-W^TX}}$$\n",
    "\n",
    "负类的预测概率为：$$\\begin{gathered}\n",
    "p_{-}=1-p_{+}=1-\\mathrm{y} \\\\\n",
    "=1-\\frac{1}{1+e^{-Z}}=\\frac{e^{-Z}}{1+e^{-Z}}=\\frac{1}{e^{Z}+1}=\\frac{1}{1+e^{W^{T}X}} \n",
    "\\end{gathered}$$\n",
    "\n",
    "几率函数：\n",
    "$$odds=\\frac{p_+}{p_-}=\\frac{\\frac{1}{1+e^{-Z}}}{\\frac{e^{-Z}}{1+e^{-Z}}}=e^Z$$\n",
    "\n",
    "对数几率函数（可看出与线性回归方程相同）：\n",
    "$$\\ln(odds)=\\ln(e^{Z})=z=W^{T}X$$"
   ]
  },
  {
   "cell_type": "markdown",
   "id": "ca9ee4a5",
   "metadata": {},
   "source": [
    "在线性回归中，我们通过最大似然估计的思想推导损失函数，假设样本分布的概率，并将最大化对数似然函数等价于最小化损失函数。而在逻辑回归中，我们也可以使用相同的思想来推导损失函数。\n",
    "\n",
    "在逻辑回归中，我们关注的是分类问题，即预测一个样本属于两个类别中的哪一个。逻辑回归使用sigmoid函数将线性模型的输出映射到0到1之间的概率值，表示样本属于某一类别的概率。然后，我们可以将这个概率视为二项分布中的参数，并基于这个参数推导出对数似然函数。\n",
    "\n",
    "对数似然函数为：\n",
    "$$ \\ln(\\mathrm{Prob}(D))=\\sum_{i=1}^my_i\\ln\\left(\\frac{p_-i}{1\\mathrm{p_i}}\\right)+\\ln(1-p_i)$$\n",
    "\n",
    "$$loss=\\sum_{i=1}^{m}y_{i}W^{T}x_{i}-\\ln\\left(1+e^{W^{T}x_{i}}\\right)$$\n",
    "\n",
    "但我们一般使用以下形式：\n",
    "$$\\text{loss }=-\\left(\\sum_{i=1}^my_i\\ln(p_i)+(1-y_i)\\ln(1-p_i)\\right)$$"
   ]
  },
  {
   "cell_type": "markdown",
   "id": "76c62378",
   "metadata": {},
   "source": [
    "根据梯度下降得到:\n",
    "$$\\frac{\\partial\\operatorname{loss}}{\\partial W}=X(P-Y)^{T} $$\n",
    "\n",
    "与损失相同，如果损失是所有样本的平均值，即除以样本数m，则梯度也必须除以m。\n",
    "\n",
    "基于以上，我们开始模型训练："
   ]
  },
  {
   "cell_type": "code",
   "execution_count": 1,
   "id": "b18b0443",
   "metadata": {},
   "outputs": [],
   "source": [
    "import numpy as np\n",
    "import pandas as pd\n",
    "import matplotlib.pyplot as plt\n",
    "\n",
    "from sklearn.model_selection import train_test_split\n",
    "from sklearn.metrics import roc_curve, auc, accuracy_score, precision_score,recall_score, f1_score"
   ]
  },
  {
   "cell_type": "code",
   "execution_count": 2,
   "id": "3cb73aa9",
   "metadata": {},
   "outputs": [
    {
     "data": {
      "text/html": [
       "<div>\n",
       "<style scoped>\n",
       "    .dataframe tbody tr th:only-of-type {\n",
       "        vertical-align: middle;\n",
       "    }\n",
       "\n",
       "    .dataframe tbody tr th {\n",
       "        vertical-align: top;\n",
       "    }\n",
       "\n",
       "    .dataframe thead th {\n",
       "        text-align: right;\n",
       "    }\n",
       "</style>\n",
       "<table border=\"1\" class=\"dataframe\">\n",
       "  <thead>\n",
       "    <tr style=\"text-align: right;\">\n",
       "      <th></th>\n",
       "      <th>0</th>\n",
       "      <th>1</th>\n",
       "      <th>2</th>\n",
       "    </tr>\n",
       "  </thead>\n",
       "  <tbody>\n",
       "    <tr>\n",
       "      <th>0</th>\n",
       "      <td>34.623660</td>\n",
       "      <td>78.024693</td>\n",
       "      <td>0</td>\n",
       "    </tr>\n",
       "    <tr>\n",
       "      <th>1</th>\n",
       "      <td>30.286711</td>\n",
       "      <td>43.894998</td>\n",
       "      <td>0</td>\n",
       "    </tr>\n",
       "    <tr>\n",
       "      <th>2</th>\n",
       "      <td>35.847409</td>\n",
       "      <td>72.902198</td>\n",
       "      <td>0</td>\n",
       "    </tr>\n",
       "    <tr>\n",
       "      <th>3</th>\n",
       "      <td>60.182599</td>\n",
       "      <td>86.308552</td>\n",
       "      <td>1</td>\n",
       "    </tr>\n",
       "    <tr>\n",
       "      <th>4</th>\n",
       "      <td>79.032736</td>\n",
       "      <td>75.344376</td>\n",
       "      <td>1</td>\n",
       "    </tr>\n",
       "  </tbody>\n",
       "</table>\n",
       "</div>"
      ],
      "text/plain": [
       "           0          1  2\n",
       "0  34.623660  78.024693  0\n",
       "1  30.286711  43.894998  0\n",
       "2  35.847409  72.902198  0\n",
       "3  60.182599  86.308552  1\n",
       "4  79.032736  75.344376  1"
      ]
     },
     "execution_count": 2,
     "metadata": {},
     "output_type": "execute_result"
    }
   ],
   "source": [
    "path='D:/machine learning data/logistic regress/ex2data1.txt'\n",
    "data=pd.read_csv(path,header=None)\n",
    "data.head()"
   ]
  },
  {
   "cell_type": "code",
   "execution_count": 3,
   "id": "4754a2f7",
   "metadata": {},
   "outputs": [],
   "source": [
    "X_data=data.iloc[:,:2]\n",
    "y_data=data.iloc[:,-1:]"
   ]
  },
  {
   "cell_type": "code",
   "execution_count": 4,
   "id": "c6f6f5ec",
   "metadata": {},
   "outputs": [
    {
     "data": {
      "text/plain": [
       "((80, 2), (80, 1), (20, 2), (20, 1))"
      ]
     },
     "execution_count": 4,
     "metadata": {},
     "output_type": "execute_result"
    }
   ],
   "source": [
    "#将数据划分为训练集测试集\n",
    "X_train,X_test,y_train,y_test=train_test_split(X_data,y_data,test_size=0.2,random_state=60)\n",
    "(X_train.shape,y_train.shape,X_test.shape,y_test.shape)"
   ]
  },
  {
   "cell_type": "code",
   "execution_count": 5,
   "id": "a90168bf",
   "metadata": {},
   "outputs": [],
   "source": [
    "mu=np.mean(X_train,axis=0)\n",
    "sigma=np.std(X_train,axis=0)\n",
    "normalized_X_train=(X_train-mu)/sigma\n",
    "normalized_X_test=(X_test-mu)/sigma"
   ]
  },
  {
   "cell_type": "code",
   "execution_count": 6,
   "id": "a0491d5c",
   "metadata": {},
   "outputs": [],
   "source": [
    "#添加偏置项\n",
    "normalized_X_train.insert(0, 'Ones', 1)\n",
    "normalized_X_test.insert(0, 'Ones', 1)"
   ]
  },
  {
   "cell_type": "code",
   "execution_count": 7,
   "id": "2a8a295e",
   "metadata": {},
   "outputs": [],
   "source": [
    "X=normalized_X_train.values\n",
    "y=y_train.values"
   ]
  },
  {
   "cell_type": "code",
   "execution_count": 8,
   "id": "79393c1b",
   "metadata": {},
   "outputs": [],
   "source": [
    "def sigmoid(z):\n",
    "    return 1/(1+np.exp(-z))"
   ]
  },
  {
   "cell_type": "code",
   "execution_count": 9,
   "id": "b6c12780",
   "metadata": {},
   "outputs": [],
   "source": [
    "feature_dim=X.shape[1]\n",
    "W=np.zeros((feature_dim,1))#初始化W系数矩阵，维度为（n，1）(n为特征维度而不是样本数)"
   ]
  },
  {
   "cell_type": "code",
   "execution_count": 10,
   "id": "ea8f0329",
   "metadata": {},
   "outputs": [],
   "source": [
    "loss_lambda=0.01\n",
    "def computeCost(X,Y,W):\n",
    "    P=sigmoid(np.dot(X,W)) #(80,3@3,1=80,1)\n",
    "    #Y=Y.values.reshape(-1,1)\n",
    "    loss=np.sum(-Y*np.log(P)-(1-Y)*np.log(1-P))/X.shape[0]+(loss_lambda/ 2) * np.sum(W[:,0:] ** 2)\n",
    "    return loss,P"
   ]
  },
  {
   "cell_type": "code",
   "execution_count": 11,
   "id": "47b73108",
   "metadata": {},
   "outputs": [],
   "source": [
    "def gradientDecent(W,X,Y):\n",
    "    P=sigmoid(np.dot(X,W))\n",
    "    grad=X.T@(P-Y)/X.shape[0]+loss_lambda*W[:,0:]\n",
    "    db = (1 /X.shape[0]) * np.sum(P - Y)\n",
    "    W-=alpha*grad\n",
    "    W[0]+=-alpha*db\n",
    "    return W"
   ]
  },
  {
   "cell_type": "code",
   "execution_count": 12,
   "id": "f37e9663",
   "metadata": {},
   "outputs": [],
   "source": [
    "W_his=[]\n",
    "def logisticRegression(X,Y,alpha,iters):\n",
    "    feature_dim=X.shape[1]\n",
    "    W=np.zeros((feature_dim,1))\n",
    "    for i in range (iters):\n",
    "        W=gradientDecent(W,X,Y)\n",
    "        W_new=W.copy()\n",
    "        W_his.append(W_new)\n",
    "    return W_his"
   ]
  },
  {
   "cell_type": "code",
   "execution_count": 13,
   "id": "e3b7c801",
   "metadata": {},
   "outputs": [],
   "source": [
    "alpha=0.001\n",
    "iters=30000\n",
    "W_his=logisticRegression(X,y,alpha,iters)"
   ]
  },
  {
   "cell_type": "code",
   "execution_count": 14,
   "id": "7860d72b",
   "metadata": {},
   "outputs": [],
   "source": [
    "def predict (W,X):\n",
    "    probability=sigmoid(np.dot(X,W))\n",
    "    y_hat=(probability>=0.5)\n",
    "    return probability,y_hat"
   ]
  },
  {
   "cell_type": "code",
   "execution_count": 15,
   "id": "7d3b098e",
   "metadata": {},
   "outputs": [
    {
     "data": {
      "image/png": "[encoded data removed]",
      "text/plain": [
       "<Figure size 640x480 with 1 Axes>"
      ]
     },
     "metadata": {},
     "output_type": "display_data"
    }
   ],
   "source": [
    "train_loss = []\n",
    "test_loss = []\n",
    "iter_range = range(1, iters + 1)  # 使用迭代次数的范围\n",
    "\n",
    "for i in W_his:\n",
    "    loss1,P1 = computeCost(normalized_X_train, y_train, i)\n",
    "    train_loss.append(loss1)\n",
    "    loss2,P2 = computeCost(normalized_X_test, y_test, i)\n",
    "    test_loss.append(loss2)\n",
    "\n",
    "import matplotlib.pyplot as plt\n",
    "import matplotlib\n",
    "matplotlib.rc(\"font\",family='Microsoft YaHei')\n",
    "\n",
    "plt.plot(iter_range, train_loss, 'r',label='训练集损失')  # 使用迭代次数的范围\n",
    "plt.plot(iter_range, test_loss, color='blue',label='测试集损失')  # 使用迭代次数的范围\n",
    "plt.xlabel('迭代次数')\n",
    "plt.ylabel('损失大小')\n",
    "plt.title('损失的变化')\n",
    "plt.show()\n"
   ]
  },
  {
   "cell_type": "code",
   "execution_count": 16,
   "id": "6dfa5354",
   "metadata": {},
   "outputs": [],
   "source": [
    "P,Y_hat=predict(W,normalized_X_test)\n",
    "PP,YY_hat=predict(W,normalized_X_train)"
   ]
  },
  {
   "cell_type": "code",
   "execution_count": 17,
   "id": "e1af1fad",
   "metadata": {
    "scrolled": true
   },
   "outputs": [
    {
     "name": "stdout",
     "output_type": "stream",
     "text": [
      "AUC: 0.9880952380952381\n",
      "Precision: 0.7\n",
      "Recall: 1.0\n",
      "F1 Score: 0.8235294117647058\n"
     ]
    },
    {
     "data": {
      "image/png": "[encoded data removed]",
      "text/plain": [
       "<Figure size 500x500 with 1 Axes>"
      ]
     },
     "metadata": {},
     "output_type": "display_data"
    }
   ],
   "source": [
    "fpr1, tpr1, thresholds1 = roc_curve(y_train, P1)\n",
    "fpr2, tpr2, thresholds2 = roc_curve(y_test, P2)\n",
    "plt.figure(figsize=(5,5))\n",
    "plt.plot(fpr1,tpr1,color='r',label='训练集')\n",
    "plt.plot(fpr1,tpr1,'ro')\n",
    "plt.plot(fpr2,tpr2,color='blue',label='测试集')\n",
    "plt.plot(fpr2,tpr2,'ro')\n",
    "plt.ylabel('TPR')\n",
    "plt.xlabel('FPR')\n",
    "plt.title(\"ROC Curve\")\n",
    "auc_value=auc(fpr2,tpr2)\n",
    "precision = precision_score(y_test, Y_hat)\n",
    "recall = recall_score(y_test, Y_hat)\n",
    "f1 = f1_score(y_test,Y_hat)\n",
    "print(\"AUC:\", auc_value)\n",
    "print(\"Precision:\", precision)\n",
    "print(\"Recall:\", recall)\n",
    "print(\"F1 Score:\", f1)"
   ]
  },
  {
   "cell_type": "code",
   "execution_count": null,
   "id": "1c9bfaae",
   "metadata": {},
   "outputs": [],
   "source": []
  }
 ],
 "metadata": {
  "kernelspec": {
   "display_name": "Python 3 (ipykernel)",
   "language": "python",
   "name": "python3"
  },
  "language_info": {
   "codemirror_mode": {
    "name": "ipython",
    "version": 3
   },
   "file_extension": ".py",
   "mimetype": "text/x-python",
   "name": "python",
   "nbconvert_exporter": "python",
   "pygments_lexer": "ipython3",
   "version": "3.10.9"
  }
 },
 "nbformat": 4,
 "nbformat_minor": 5
}
