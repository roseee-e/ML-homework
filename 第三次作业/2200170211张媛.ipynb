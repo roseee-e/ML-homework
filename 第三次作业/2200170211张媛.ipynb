{
 "cells": [
  {
   "cell_type": "markdown",
   "metadata": {},
   "source": [
    "# 机器学习练习1 - 线性回归"
   ]
  },
  {
   "cell_type": "markdown",
   "metadata": {},
   "source": [
    "## 线性回归\n",
    "\n",
    "用函数一个个讲解"
   ]
  },
  {
   "cell_type": "code",
   "execution_count": 1,
   "metadata": {},
   "outputs": [],
   "source": [
    "import numpy as np\n",
    "import matplotlib.pyplot as plt\n",
    "import matplotlib\n",
    "from matplotlib import rcParams  ## run command settings for plotting\n",
    "import matplotlib.pyplot as plt\n",
    "from sklearn.model_selection import train_test_split"
   ]
  },
  {
   "cell_type": "code",
   "execution_count": 2,
   "metadata": {},
   "outputs": [],
   "source": [
    "config = {\n",
    "    \"mathtext.fontset\":'stix',\n",
    "    \"font.family\":'serif',\n",
    "    \"font.serif\": ['SimHei'],\n",
    "    \"font.size\": 10,   # 字号，大家自行调节\n",
    "    'axes.unicode_minus': False # 处理负号，即-号\n",
    "}\n",
    "rcParams.update(config)  ## 设置画图的一些参数"
   ]
  },
  {
   "cell_type": "code",
   "execution_count": 3,
   "metadata": {},
   "outputs": [
    {
     "data": {
      "text/html": [
       "<div>\n",
       "<style scoped>\n",
       "    .dataframe tbody tr th:only-of-type {\n",
       "        vertical-align: middle;\n",
       "    }\n",
       "\n",
       "    .dataframe tbody tr th {\n",
       "        vertical-align: top;\n",
       "    }\n",
       "\n",
       "    .dataframe thead th {\n",
       "        text-align: right;\n",
       "    }\n",
       "</style>\n",
       "<table border=\"1\" class=\"dataframe\">\n",
       "  <thead>\n",
       "    <tr style=\"text-align: right;\">\n",
       "      <th></th>\n",
       "      <th>人口</th>\n",
       "      <th>收益</th>\n",
       "    </tr>\n",
       "  </thead>\n",
       "  <tbody>\n",
       "    <tr>\n",
       "      <th>0</th>\n",
       "      <td>6.1101</td>\n",
       "      <td>17.5920</td>\n",
       "    </tr>\n",
       "    <tr>\n",
       "      <th>1</th>\n",
       "      <td>5.5277</td>\n",
       "      <td>9.1302</td>\n",
       "    </tr>\n",
       "    <tr>\n",
       "      <th>2</th>\n",
       "      <td>8.5186</td>\n",
       "      <td>13.6620</td>\n",
       "    </tr>\n",
       "    <tr>\n",
       "      <th>3</th>\n",
       "      <td>7.0032</td>\n",
       "      <td>11.8540</td>\n",
       "    </tr>\n",
       "    <tr>\n",
       "      <th>4</th>\n",
       "      <td>5.8598</td>\n",
       "      <td>6.8233</td>\n",
       "    </tr>\n",
       "  </tbody>\n",
       "</table>\n",
       "</div>"
      ],
      "text/plain": [
       "       人口       收益\n",
       "0  6.1101  17.5920\n",
       "1  5.5277   9.1302\n",
       "2  8.5186  13.6620\n",
       "3  7.0032  11.8540\n",
       "4  5.8598   6.8233"
      ]
     },
     "execution_count": 3,
     "metadata": {},
     "output_type": "execute_result"
    }
   ],
   "source": [
    "## 读取数据\n",
    "path = 'C:\\\\Users\\\\Gillian\\\\Desktop\\\\regress_data1.csv'\n",
    "import pandas as pd\n",
    "data = pd.read_csv(path) ## data 是dataframe 的数据类型\n",
    "data.head() # 返回data中的前几行数据，默认是前5行。  "
   ]
  },
  {
   "cell_type": "code",
   "execution_count": 4,
   "metadata": {},
   "outputs": [],
   "source": [
    "cols = data.shape[1]\n",
    "X_data = data.iloc[:,:cols-1]#X是所有行，去掉最后一列， 未标准化\n",
    "Y_data = data.iloc[:,cols-1:]#X是所有行，最后一列\n",
    "X_train,X_test,Y_train,Y_test=train_test_split(X_data,Y_data)"
   ]
  },
  {
   "cell_type": "markdown",
   "metadata": {},
   "source": [
    "看下原始数据长什么样子，进行画图"
   ]
  },
  {
   "cell_type": "code",
   "execution_count": 5,
   "metadata": {},
   "outputs": [
    {
     "data": {
      "text/html": [
       "<div>\n",
       "<style scoped>\n",
       "    .dataframe tbody tr th:only-of-type {\n",
       "        vertical-align: middle;\n",
       "    }\n",
       "\n",
       "    .dataframe tbody tr th {\n",
       "        vertical-align: top;\n",
       "    }\n",
       "\n",
       "    .dataframe thead th {\n",
       "        text-align: right;\n",
       "    }\n",
       "</style>\n",
       "<table border=\"1\" class=\"dataframe\">\n",
       "  <thead>\n",
       "    <tr style=\"text-align: right;\">\n",
       "      <th></th>\n",
       "      <th>人口</th>\n",
       "      <th>收益</th>\n",
       "    </tr>\n",
       "  </thead>\n",
       "  <tbody>\n",
       "    <tr>\n",
       "      <th>count</th>\n",
       "      <td>97.000000</td>\n",
       "      <td>97.000000</td>\n",
       "    </tr>\n",
       "    <tr>\n",
       "      <th>mean</th>\n",
       "      <td>8.159800</td>\n",
       "      <td>5.839135</td>\n",
       "    </tr>\n",
       "    <tr>\n",
       "      <th>std</th>\n",
       "      <td>3.869884</td>\n",
       "      <td>5.510262</td>\n",
       "    </tr>\n",
       "    <tr>\n",
       "      <th>min</th>\n",
       "      <td>5.026900</td>\n",
       "      <td>-2.680700</td>\n",
       "    </tr>\n",
       "    <tr>\n",
       "      <th>25%</th>\n",
       "      <td>5.707700</td>\n",
       "      <td>1.986900</td>\n",
       "    </tr>\n",
       "    <tr>\n",
       "      <th>50%</th>\n",
       "      <td>6.589400</td>\n",
       "      <td>4.562300</td>\n",
       "    </tr>\n",
       "    <tr>\n",
       "      <th>75%</th>\n",
       "      <td>8.578100</td>\n",
       "      <td>7.046700</td>\n",
       "    </tr>\n",
       "    <tr>\n",
       "      <th>max</th>\n",
       "      <td>22.203000</td>\n",
       "      <td>24.147000</td>\n",
       "    </tr>\n",
       "  </tbody>\n",
       "</table>\n",
       "</div>"
      ],
      "text/plain": [
       "              人口         收益\n",
       "count  97.000000  97.000000\n",
       "mean    8.159800   5.839135\n",
       "std     3.869884   5.510262\n",
       "min     5.026900  -2.680700\n",
       "25%     5.707700   1.986900\n",
       "50%     6.589400   4.562300\n",
       "75%     8.578100   7.046700\n",
       "max    22.203000  24.147000"
      ]
     },
     "execution_count": 5,
     "metadata": {},
     "output_type": "execute_result"
    }
   ],
   "source": [
    "data.describe() ## 查看数据的统计信息"
   ]
  },
  {
   "cell_type": "code",
   "execution_count": 6,
   "metadata": {},
   "outputs": [
    {
     "data": {
      "text/html": [
       "<div>\n",
       "<style scoped>\n",
       "    .dataframe tbody tr th:only-of-type {\n",
       "        vertical-align: middle;\n",
       "    }\n",
       "\n",
       "    .dataframe tbody tr th {\n",
       "        vertical-align: top;\n",
       "    }\n",
       "\n",
       "    .dataframe thead th {\n",
       "        text-align: right;\n",
       "    }\n",
       "</style>\n",
       "<table border=\"1\" class=\"dataframe\">\n",
       "  <thead>\n",
       "    <tr style=\"text-align: right;\">\n",
       "      <th></th>\n",
       "      <th>人口</th>\n",
       "    </tr>\n",
       "  </thead>\n",
       "  <tbody>\n",
       "    <tr>\n",
       "      <th>17</th>\n",
       "      <td>5.1301</td>\n",
       "    </tr>\n",
       "    <tr>\n",
       "      <th>68</th>\n",
       "      <td>5.4994</td>\n",
       "    </tr>\n",
       "    <tr>\n",
       "      <th>18</th>\n",
       "      <td>6.4296</td>\n",
       "    </tr>\n",
       "    <tr>\n",
       "      <th>36</th>\n",
       "      <td>8.0959</td>\n",
       "    </tr>\n",
       "    <tr>\n",
       "      <th>66</th>\n",
       "      <td>8.2951</td>\n",
       "    </tr>\n",
       "    <tr>\n",
       "      <th>...</th>\n",
       "      <td>...</td>\n",
       "    </tr>\n",
       "    <tr>\n",
       "      <th>57</th>\n",
       "      <td>5.6397</td>\n",
       "    </tr>\n",
       "    <tr>\n",
       "      <th>88</th>\n",
       "      <td>5.5204</td>\n",
       "    </tr>\n",
       "    <tr>\n",
       "      <th>73</th>\n",
       "      <td>7.2259</td>\n",
       "    </tr>\n",
       "    <tr>\n",
       "      <th>45</th>\n",
       "      <td>7.0931</td>\n",
       "    </tr>\n",
       "    <tr>\n",
       "      <th>8</th>\n",
       "      <td>6.4862</td>\n",
       "    </tr>\n",
       "  </tbody>\n",
       "</table>\n",
       "<p>72 rows × 1 columns</p>\n",
       "</div>"
      ],
      "text/plain": [
       "        人口\n",
       "17  5.1301\n",
       "68  5.4994\n",
       "18  6.4296\n",
       "36  8.0959\n",
       "66  8.2951\n",
       "..     ...\n",
       "57  5.6397\n",
       "88  5.5204\n",
       "73  7.2259\n",
       "45  7.0931\n",
       "8   6.4862\n",
       "\n",
       "[72 rows x 1 columns]"
      ]
     },
     "execution_count": 6,
     "metadata": {},
     "output_type": "execute_result"
    }
   ],
   "source": [
    "(X_train)"
   ]
  },
  {
   "cell_type": "markdown",
   "metadata": {},
   "source": [
    "in,Y_train,'bo')数据进行标准化\n",
    "$$x= \\frac{x-\\mu }{\\sigma} $$"
   ]
  },
  {
   "cell_type": "code",
   "execution_count": 7,
   "metadata": {
    "scrolled": true
   },
   "outputs": [
    {
     "data": {
      "image/png": "[encoded data removed]",
      "text/plain": [
       "<Figure size 400x300 with 1 Axes>"
      ]
     },
     "metadata": {},
     "output_type": "display_data"
    }
   ],
   "source": [
    "# 计算训练集的均值和标准差  \n",
    "xmean = X_train.mean()  \n",
    "xstd = X_train.std()  \n",
    "\n",
    "plt.figure(figsize=(4, 3)) \n",
    "feature_to_plot=\"人口\"\n",
    "plt.scatter(X_train[feature_to_plot], Y_train, color='blue', label='Test Set', marker='^')  \n",
    "\n",
    "# 避免除以零的情况  \n",
    "xstd[xstd == 0] = 1e-7  \n",
    "# 对 X_train 进行标准化处理  \n",
    "X_train= (X_train - xmean) / xstd  \n",
    "X_test=(X_test- xmean) / xstd  \n",
    "\n",
    "# 绘制标准化后的训练集的散点图  \n",
    "\n",
    "plt.scatter(X_train[feature_to_plot], Y_train, color='red', label='Training Set')  # 假设我们绘制第一个特征与收益的关系  \n",
    "\n",
    "plt.xlabel('人口')  # 修改标签以反映数据已被标准化  \n",
    "plt.ylabel('收益', rotation=0)  # 通常标签不需要旋转，除非空间不足  \n",
    "plt.legend()  \n",
    "plt.show()\n"
   ]
  },
  {
   "cell_type": "code",
   "execution_count": 8,
   "metadata": {},
   "outputs": [
    {
     "name": "stdout",
     "output_type": "stream",
     "text": [
      "<bound method NDFrame.head of           人口\n",
      "17 -0.780563\n",
      "68 -0.673373\n",
      "18 -0.403379\n",
      "36  0.080269\n",
      "66  0.138087\n",
      "..       ...\n",
      "57 -0.632650\n",
      "88 -0.667277\n",
      "73 -0.172251\n",
      "45 -0.210797\n",
      "8  -0.386951\n",
      "\n",
      "[72 rows x 1 columns]>\n"
     ]
    }
   ],
   "source": [
    "print(X_train.head)"
   ]
  },
  {
   "cell_type": "code",
   "execution_count": 9,
   "metadata": {},
   "outputs": [],
   "source": [
    "X_train.insert(0, 'Ones', 1)\n",
    "X_test.insert(0,'Ones',1)"
   ]
  },
  {
   "cell_type": "markdown",
   "metadata": {},
   "source": [
    "现在让我们使用梯度下降来实现线性回归，以最小化代价函数。 "
   ]
  },
  {
   "cell_type": "code",
   "execution_count": 10,
   "metadata": {},
   "outputs": [],
   "source": [
    "Xtr=X_train.values\n",
    "Ytr=Y_train.values\n",
    "Xte=X_test.values\n",
    "Yte=Y_test.values\n",
    "W=np.array([[0.0],[0.0]]) ## 初始化W系数矩阵，w 是一个(2,1)矩阵"
   ]
  },
  {
   "cell_type": "markdown",
   "metadata": {},
   "source": [
    "创造一个参数以$\\omega$为特征函数的代价函数，并将其正则化\n",
    "$$E(w)=\\frac{1}{2} \\sum_{n=1}^{N}\\left(y\\left(x_{n}, w\\right)-t_{n}\\right)^{2}+\\frac{\\lambda}{2}\\|w\\|_{2}^{2}$$"
   ]
  },
  {
   "cell_type": "markdown",
   "metadata": {},
   "source": [
    "\n",
    "其中：\\\\[{{f}}\\left( x \\right)={{w}^{T}}X={{w }_{0}}{{x}_{0}}+{{w }_{1}}{{x}_{1}}+{{w }_{2}}{{x}_{2}}+...+{{w }_{n}}{{x}_{n}}\\\\] \n",
    "注意：这里所有的样本$x_0$都为1"
   ]
  },
  {
   "cell_type": "markdown",
   "metadata": {},
   "source": [
    "让我们在训练集中添加一列，以便我们可以使用向量化的解决方案来计算代价和梯度。"
   ]
  },
  {
   "cell_type": "markdown",
   "metadata": {},
   "source": [
    "从数据中分离出特征属性X和目标向量Y，并对模型参数进行初始化，同时计算当前的损失。"
   ]
  },
  {
   "cell_type": "markdown",
   "metadata": {},
   "source": [
    "代价函数是应该是numpy数组，所以我们需要从dataframeX_data和Y_data中读取数据，然后才能使用它们。\n",
    "此外，我们还需要初始化w。"
   ]
  },
  {
   "cell_type": "markdown",
   "metadata": {},
   "source": [
    "看下维度"
   ]
  },
  {
   "cell_type": "code",
   "execution_count": 11,
   "metadata": {},
   "outputs": [
    {
     "data": {
      "text/plain": [
       "(array([[ 1.00000000e+00, -7.80563188e-01],\n",
       "        [ 1.00000000e+00, -6.73372768e-01],\n",
       "        [ 1.00000000e+00, -4.03379460e-01],\n",
       "        [ 1.00000000e+00,  8.02690542e-02],\n",
       "        [ 1.00000000e+00,  1.38087445e-01],\n",
       "        [ 1.00000000e+00,  1.70973106e-01],\n",
       "        [ 1.00000000e+00, -4.31475947e-01],\n",
       "        [ 1.00000000e+00, -1.40729553e-01],\n",
       "        [ 1.00000000e+00, -5.93756380e-01],\n",
       "        [ 1.00000000e+00, -3.56997037e-01],\n",
       "        [ 1.00000000e+00, -6.12042316e-01],\n",
       "        [ 1.00000000e+00, -7.08203123e-01],\n",
       "        [ 1.00000000e+00, -1.74485973e-01],\n",
       "        [ 1.00000000e+00, -8.10245181e-02],\n",
       "        [ 1.00000000e+00,  1.12636976e+00],\n",
       "        [ 1.00000000e+00, -6.61124093e-01],\n",
       "        [ 1.00000000e+00, -5.59477505e-01],\n",
       "        [ 1.00000000e+00,  7.12469036e-01],\n",
       "        [ 1.00000000e+00, -2.36890360e-01],\n",
       "        [ 1.00000000e+00, -6.12913075e-01],\n",
       "        [ 1.00000000e+00, -6.65158609e-01],\n",
       "        [ 1.00000000e+00, -4.33420642e-01],\n",
       "        [ 1.00000000e+00,  7.01439423e-01],\n",
       "        [ 1.00000000e+00, -5.85716373e-01],\n",
       "        [ 1.00000000e+00, -5.30441324e-02],\n",
       "        [ 1.00000000e+00,  3.90670291e+00],\n",
       "        [ 1.00000000e+00, -5.27491628e-01],\n",
       "        [ 1.00000000e+00, -6.54361199e-01],\n",
       "        [ 1.00000000e+00,  6.72414127e-01],\n",
       "        [ 1.00000000e+00, -7.97949340e-01],\n",
       "        [ 1.00000000e+00, -2.71923893e-01],\n",
       "        [ 1.00000000e+00, -7.63641440e-01],\n",
       "        [ 1.00000000e+00, -6.06672637e-01],\n",
       "        [ 1.00000000e+00, -5.65601842e-01],\n",
       "        [ 1.00000000e+00,  2.02552628e-01],\n",
       "        [ 1.00000000e+00,  1.13706196e-01],\n",
       "        [ 1.00000000e+00, -3.78330630e-01],\n",
       "        [ 1.00000000e+00,  3.94990343e-01],\n",
       "        [ 1.00000000e+00,  1.55245023e-03],\n",
       "        [ 1.00000000e+00, -6.91513578e-01],\n",
       "        [ 1.00000000e+00,  4.74345504e-01],\n",
       "        [ 1.00000000e+00,  4.17489665e+00],\n",
       "        [ 1.00000000e+00, -7.29014261e-01],\n",
       "        [ 1.00000000e+00, -2.17269260e-01],\n",
       "        [ 1.00000000e+00, -9.95426573e-02],\n",
       "        [ 1.00000000e+00, -7.29681843e-01],\n",
       "        [ 1.00000000e+00, -4.25496736e-01],\n",
       "        [ 1.00000000e+00, -8.01084072e-01],\n",
       "        [ 1.00000000e+00, -6.27676067e-02],\n",
       "        [ 1.00000000e+00,  2.02958982e-01],\n",
       "        [ 1.00000000e+00, -4.48484771e-01],\n",
       "        [ 1.00000000e+00,  4.32723229e-01],\n",
       "        [ 1.00000000e+00,  1.55478314e+00],\n",
       "        [ 1.00000000e+00,  2.92008592e-01],\n",
       "        [ 1.00000000e+00,  1.61805828e+00],\n",
       "        [ 1.00000000e+00,  2.05750127e+00],\n",
       "        [ 1.00000000e+00,  1.37594015e-01],\n",
       "        [ 1.00000000e+00,  3.22925249e+00],\n",
       "        [ 1.00000000e+00, -4.96115282e-01],\n",
       "        [ 1.00000000e+00, -5.68765599e-01],\n",
       "        [ 1.00000000e+00, -4.23900345e-01],\n",
       "        [ 1.00000000e+00, -6.32360024e-01],\n",
       "        [ 1.00000000e+00,  3.31029475e-02],\n",
       "        [ 1.00000000e+00, -6.05279422e-01],\n",
       "        [ 1.00000000e+00, -5.26272565e-01],\n",
       "        [ 1.00000000e+00,  1.12869179e+00],\n",
       "        [ 1.00000000e+00, -7.00221167e-01],\n",
       "        [ 1.00000000e+00, -6.32650277e-01],\n",
       "        [ 1.00000000e+00, -6.67277456e-01],\n",
       "        [ 1.00000000e+00, -1.72251025e-01],\n",
       "        [ 1.00000000e+00, -2.10796618e-01],\n",
       "        [ 1.00000000e+00, -3.86951143e-01]]),\n",
       " array([[ 0.56077],\n",
       "        [ 1.0173 ],\n",
       "        [ 3.6518 ],\n",
       "        [ 4.1164 ],\n",
       "        [ 5.7442 ],\n",
       "        [ 7.2258 ],\n",
       "        [ 1.4233 ],\n",
       "        [ 4.0259 ],\n",
       "        [ 2.4406 ],\n",
       "        [ 5.9966 ],\n",
       "        [ 3.2522 ],\n",
       "        [ 3.5129 ],\n",
       "        [ 4.8852 ],\n",
       "        [ 6.7504 ],\n",
       "        [ 8.0043 ],\n",
       "        [ 1.0179 ],\n",
       "        [ 1.8495 ],\n",
       "        [ 6.7526 ],\n",
       "        [11.854  ],\n",
       "        [ 1.8451 ],\n",
       "        [ 9.1302 ],\n",
       "        [ 5.1875 ],\n",
       "        [ 7.7754 ],\n",
       "        [ 1.844  ],\n",
       "        [ 4.2959 ],\n",
       "        [17.929  ],\n",
       "        [ 0.92695],\n",
       "        [ 3.0825 ],\n",
       "        [ 6.6799 ],\n",
       "        [ 5.1337 ],\n",
       "        [ 3.9115 ],\n",
       "        [ 0.20421],\n",
       "        [ 0.47953],\n",
       "        [ 7.2029 ],\n",
       "        [ 4.2415 ],\n",
       "        [ 6.5426 ],\n",
       "        [ 5.3436 ],\n",
       "        [ 6.7981 ],\n",
       "        [ 6.7318 ],\n",
       "        [ 0.61705],\n",
       "        [ 5.4141 ],\n",
       "        [24.147  ],\n",
       "        [ 1.8396 ],\n",
       "        [ 5.3893 ],\n",
       "        [ 4.3483 ],\n",
       "        [ 1.9869 ],\n",
       "        [ 5.4974 ],\n",
       "        [ 2.8214 ],\n",
       "        [ 4.9981 ],\n",
       "        [13.662  ],\n",
       "        [ 2.4756 ],\n",
       "        [ 3.9624 ],\n",
       "        [14.692  ],\n",
       "        [ 5.1694 ],\n",
       "        [ 9.0551 ],\n",
       "        [12.054  ],\n",
       "        [ 0.14454],\n",
       "        [22.638  ],\n",
       "        [17.592  ],\n",
       "        [ 6.8233 ],\n",
       "        [-1.4211 ],\n",
       "        [ 0.71618],\n",
       "        [ 4.5623 ],\n",
       "        [ 3.1551 ],\n",
       "        [ 1.2784 ],\n",
       "        [ 5.3854 ],\n",
       "        [ 0.55657],\n",
       "        [ 4.6042 ],\n",
       "        [ 0.152  ],\n",
       "        [ 3.3411 ],\n",
       "        [ 1.0463 ],\n",
       "        [ 6.5987 ]]),\n",
       " array([[0.],\n",
       "        [0.]]))"
      ]
     },
     "execution_count": 11,
     "metadata": {},
     "output_type": "execute_result"
    }
   ],
   "source": [
    "(Xtr,Ytr, W)"
   ]
  },
  {
   "cell_type": "code",
   "execution_count": 12,
   "metadata": {},
   "outputs": [
    {
     "data": {
      "text/plain": [
       "((25, 2), (25, 1), (2, 1))"
      ]
     },
     "execution_count": 12,
     "metadata": {},
     "output_type": "execute_result"
    }
   ],
   "source": [
    "(Xte.shape,Yte.shape, W.shape)"
   ]
  },
  {
   "cell_type": "markdown",
   "metadata": {},
   "source": [
    "注意***，根据维度，我们写出线性回归的模型：Y=np.dot(X,W) 也就是说  (m,n) @ (n, 1) -> (m, 1),\n",
    "则线性回归模型写为：$${{f}}\\left( X\\right)=XW$$\n",
    "因此，我们定义模型的损失函数为：$$ loss =\\frac{(XW-Y)^T(XW-Y)}{2m}+\\frac{\\lambda }{2}W ^{T} W   $$\n"
   ]
  },
  {
   "cell_type": "markdown",
   "metadata": {},
   "source": [
    "设$\\lambda $=0.01"
   ]
  },
  {
   "cell_type": "code",
   "execution_count": 13,
   "metadata": {},
   "outputs": [],
   "source": [
    "  def computeCost(X, Y, W, lambda_):  \n",
    "    Y_hat = np.dot(X, W)  \n",
    "    mse_loss = np.sum((Y_hat - Y) ** 2) / X.shape[0]  \n",
    "      \n",
    "    l2_reg = lambda_ * np.sum(W ** 2)  # 我们不对b进行正则化  \n",
    "      \n",
    "    total_loss = mse_loss + l2_reg  \n",
    "    return total_loss"
   ]
  },
  {
   "cell_type": "markdown",
   "metadata": {},
   "source": [
    "# Batch Gradient Decent（批量梯度下降）\n",
    "\n",
    "$${{w }_{j}}:={{w }_{j}}- \\alpha \\frac{1}{m}\\sum\\limits_{i=1}^m \\frac{\\partial }{\\partial {{w}_{j}}}J\\left( w \\right):={{w }_{j}}- \\alpha(\\frac{1}{m} X_j^T(f(X)-Y)+\\lambda\\omega_{j })  $$\n",
    "\n",
    "注意：这里 $X_j$代表所有样本第$j$个特征组成的向量，大小为$m\\times1$，$f(X)$代表所有样本的预测值, $Y$为所有样本的预测值，大小为$m\\times1$。 \n",
    "\n",
    "写成矩阵的形式：\n",
    "$${W}:={W}- \\alpha dW:=W-\\alpha(\\frac{ X^T(f(X)-Y)}{m}+\\lambda W)$$\n",
    "\n",
    "\n"
   ]
  },
  {
   "cell_type": "code",
   "execution_count": 14,
   "metadata": {},
   "outputs": [],
   "source": [
    "def gradientDescent(X, Y, W, alpha,lambda_):\n",
    "    num_train = X.shape[0]\n",
    "    Y_hat = np.dot(X,W)\n",
    "    dW_reg = X.T @ (Y_hat - Y) / num_train + (lambda_ /num_train)* np.concatenate((np.zeros((1, W.shape[1])), W[1:, :] * lambda_), axis=0)\n",
    "\n",
    "    # 更新权重\n",
    "    W -= alpha * dW_reg\n",
    "    return W"
   ]
  },
  {
   "cell_type": "code",
   "execution_count": 15,
   "metadata": {},
   "outputs": [],
   "source": [
    "def linearRegression(X, Y, alpha, iters, lambda_):\n",
    "    loss_his = []\n",
    "    feature_dim = X.shape[1]\n",
    "    w_data = []  # 初始化权重数据列表\n",
    "    W = np.zeros((feature_dim, 1))  # 初始化权重矩阵\n",
    "\n",
    "    for i in range(iters):\n",
    "        loss = computeCost(X, Y, W, lambda_)  # 计算损失\n",
    "        loss_his.append(loss)  # 将损失添加到历史记录中\n",
    "        W = gradientDescent(X, Y, W, alpha, lambda_)  # 执行梯度下降更新权重\n",
    "        w_data.append(W.copy())  # 将更新后的权重添加到权重数据列表中\n",
    "\n",
    "    return loss_his, w_data\n",
    "    "
   ]
  },
  {
   "cell_type": "code",
   "execution_count": 16,
   "metadata": {},
   "outputs": [],
   "source": [
    "alpha =0.0001\n",
    "iters = 10000\n",
    "lambda_=0.1\n",
    "loss_his,w_data = linearRegression(Xtr,Ytr, alpha, iters,lambda_)\n",
    "loss_train=[]\n",
    "loss_test=[]\n",
    "for w in w_data:\n",
    "    loss_train.append(computeCost(Xtr,Ytr,w,lambda_))\n",
    "    loss_test.append(computeCost(Xte,Yte,w,lambda_))"
   ]
  },
  {
   "cell_type": "code",
   "execution_count": 17,
   "metadata": {},
   "outputs": [
    {
     "name": "stdout",
     "output_type": "stream",
     "text": [
      "10000\n"
     ]
    }
   ],
   "source": [
    "print(len(loss_his))"
   ]
  },
  {
   "cell_type": "code",
   "execution_count": 18,
   "metadata": {},
   "outputs": [
    {
     "data": {
      "text/plain": [
       "Text(0, 0.5, 'loss')"
      ]
     },
     "execution_count": 18,
     "metadata": {},
     "output_type": "execute_result"
    },
    {
     "data": {
      "image/png": "[encoded data removed]",
      "text/plain": [
       "<Figure size 400x300 with 1 Axes>"
      ]
     },
     "metadata": {},
     "output_type": "display_data"
    }
   ],
   "source": [
    "plt.figure(figsize=(4,3))\n",
    "x = range(iters)\n",
    "plt.plot(x, loss_train, label='Training Loss')\n",
    "plt.plot(x, loss_test, label='Test Loss')\n",
    "plt.legend()  \n",
    "plt.xlabel(\"iters\")\n",
    "plt.ylabel(\"loss\")"
   ]
  },
  {
   "cell_type": "markdown",
   "metadata": {},
   "source": []
  },
  {
   "cell_type": "markdown",
   "metadata": {},
   "source": [
    "$$𝝎^∗  =[(𝒙𝒙^𝑻)]^{-1}𝒙^{T}𝒕$$\n",
    "$$y=\\omega x+b$$"
   ]
  },
  {
   "cell_type": "markdown",
   "metadata": {},
   "source": [
    "用最小二乘法计算W的值"
   ]
  },
  {
   "cell_type": "code",
   "execution_count": 19,
   "metadata": {},
   "outputs": [],
   "source": [
    "def predict_lsq(X, W):\n",
    "    y_pre = np.dot(W[1,0],X)+W[0,0]\n",
    "    return y_pre"
   ]
  },
  {
   "cell_type": "code",
   "execution_count": 20,
   "metadata": {},
   "outputs": [],
   "source": [
    "A=np.linalg.inv(Xtr.T@Xtr)\n",
    "w_l=A@Xtr.T\n",
    "w_last=w_l@(Ytr)"
   ]
  },
  {
   "cell_type": "code",
   "execution_count": 25,
   "metadata": {},
   "outputs": [],
   "source": [
    "def predict_with_gd(X, b, fw): \n",
    "    return b + np.dot( X,fw) "
   ]
  },
  {
   "cell_type": "code",
   "execution_count": 26,
   "metadata": {},
   "outputs": [
    {
     "name": "stdout",
     "output_type": "stream",
     "text": [
      "[3.37729191]\n"
     ]
    }
   ],
   "source": [
    "final_weights = loss_his[-1]\n",
    "b = w_data[-1][0]\n",
    "fw = w_data[-1][0] \n",
    "print(fw)"
   ]
  },
  {
   "cell_type": "code",
   "execution_count": 27,
   "metadata": {
    "scrolled": true
   },
   "outputs": [],
   "source": [
    "x_train_data = np.linspace(X_train['人口'].min(), X_train['人口'].max(), 100).reshape(-1, 1)\n",
    "y_train_data_lsq = predict_lsq(x_train_data,w_last)\n",
    "y_train_data_g=predict_with_gd(x_train_data,b,fw)\n",
    "x_test_data = np.linspace(X_test['人口'].min(), X_test['人口'].max(), 100).reshape(-1, 1)\n",
    "y_test_data_lsq = predict_lsq(x_test_data,w_last)\n",
    "y_test_data_g=predict_with_gd(x_test_data,b,fw)\n"
   ]
  },
  {
   "cell_type": "code",
   "execution_count": 37,
   "metadata": {},
   "outputs": [
    {
     "name": "stderr",
     "output_type": "stream",
     "text": [
      "C:\\Users\\Gillian\\AppData\\Local\\Temp\\ipykernel_24700\\3299267092.py:4: UserWarning: color is redundantly defined by the 'color' keyword argument and the fmt string \"r\" (-> color=(1.0, 0.0, 0.0, 1)). The keyword argument will take precedence.\n",
      "  ax.plot(x_train_data,y_train_data_g , 'r', color='green',label='梯度下降训练集预测值')\n",
      "C:\\Users\\Gillian\\AppData\\Local\\Temp\\ipykernel_24700\\3299267092.py:5: UserWarning: color is redundantly defined by the 'color' keyword argument and the fmt string \"r\" (-> color=(1.0, 0.0, 0.0, 1)). The keyword argument will take precedence.\n",
      "  ax.plot(x_test_data,y_test_data_lsq , 'r',color='purple', label='lsq测试集预测值')\n",
      "C:\\Users\\Gillian\\AppData\\Local\\Temp\\ipykernel_24700\\3299267092.py:6: UserWarning: color is redundantly defined by the 'color' keyword argument and the fmt string \"r\" (-> color=(1.0, 0.0, 0.0, 1)). The keyword argument will take precedence.\n",
      "  ax.plot(x_test_data,y_test_data_g , 'r', color='blue',label='梯度下降测试集预测值')\n"
     ]
    },
    {
     "data": {
      "image/png": "[encoded data removed]",
      "text/plain": [
       "<Figure size 600x400 with 1 Axes>"
      ]
     },
     "metadata": {},
     "output_type": "display_data"
    }
   ],
   "source": [
    "\n",
    "fig, ax = plt.subplots(figsize=(6, 4))\n",
    "ax.plot(x_train_data,y_train_data_lsq , color='red', label='lsq训练集预测值')\n",
    "ax.scatter(X_train['人口'], Y_train['收益'], label='训练集数据')\n",
    "ax.plot(x_train_data,y_train_data_g , 'r', color='green',label='梯度下降训练集预测值')\n",
    "ax.plot(x_test_data,y_test_data_lsq , 'r',color='purple', label='lsq测试集预测值')\n",
    "ax.plot(x_test_data,y_test_data_g , 'r', color='blue',label='梯度下降测试集预测值')\n",
    "ax.scatter(X_test['人口'], Y_test['收益'], label='测试集数据')\n",
    "ax.legend(loc=2)\n",
    "ax.set_xlabel('人口' )\n",
    "ax.set_ylabel('收益', rotation=90)\n",
    "ax.set_title('预测收益和人口规模')\n",
    "plt.show()"
   ]
  },
  {
   "cell_type": "markdown",
   "metadata": {},
   "source": [
    "由于梯度方程式函数也在每个训练迭代中输出一个代价的向量，所以我们也可以绘制。 请注意，代价总是降低 - 这是凸优化问题的一个例子。"
   ]
  },
  {
   "cell_type": "markdown",
   "metadata": {},
   "source": [
    "## 单变量线性回归\n",
    "\n",
    "用类来实现"
   ]
  },
  {
   "cell_type": "markdown",
   "metadata": {
    "collapsed": true,
    "jupyter": {
     "outputs_hidden": true
    }
   },
   "source": [
    "## 参考\n",
    "[1] Andrew Ng. Machine Learning[EB/OL]. StanfordUniversity,2014.https://www.coursera.org/course/ml\n",
    "\n",
    "[2] 李航. 统计学习方法[M]. 北京: 清华大学出版社,2019."
   ]
  }
 ],
 "metadata": {
  "kernelspec": {
   "display_name": "Python 3 (ipykernel)",
   "language": "python",
   "name": "python3"
  },
  "language_info": {
   "codemirror_mode": {
    "name": "ipython",
    "version": 3
   },
   "file_extension": ".py",
   "mimetype": "text/x-python",
   "name": "python",
   "nbconvert_exporter": "python",
   "pygments_lexer": "ipython3",
   "version": "3.11.7"
  }
 },
 "nbformat": 4,
 "nbformat_minor": 4
}
