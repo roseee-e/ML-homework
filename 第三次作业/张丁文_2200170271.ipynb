{
 "cells": [
  {
   "cell_type": "markdown",
   "metadata": {},
   "source": [
    "# 线性模型\n",
    "## 线性回归\n",
    "线性回归是一种线性模型，它通过在输入特征和输出之间找到最佳线性关系来建立模型。线性回归的目标是找到一条直线，使得所有样本到直线的距离之和最小。这条直线的方程为：\n",
    "$$y = w_1x_1 + w_2x_2 + ... + w_nx_n + b$$\n",
    "其中，$w_1, w_2, ..., w_n$是权重，$b$是偏置。线性回归的损失函数是均方误差：\n",
    "$$\\ell= MSE  = \\frac{1}{m}\\sum_{i=1}^{m}(y_i - \\hat{y}_i)^2$$\n",
    "其中，$m$是样本数量，$y_i$是真实值，$\\hat{y}_i$是预测值。我们的目标是找到一组权重和偏置，使得均方误差最小。我们可以使用梯度下降法来求解。梯度下降法的更新公式为：\n",
    "$$w = w - \\alpha\\frac{\\partial{MSE}}{\\partial{w}}$$\n"
   ]
  },
  {
   "cell_type": "markdown",
   "metadata": {},
   "source": [
    "\n",
    "### 最大似然\n",
    "线性回归的损失函数是均方误差，我们可以通过最大似然估计来推导出均方误差。假设我们的模型是：\n",
    "$$y =\\hat{y}+ \\epsilon$$\n",
    "其中，$\\epsilon$是误差项，假设$\\epsilon$服从均值为0的正态分布，即$\\epsilon \\sim N(0, \\sigma^2)$。我们可以得到：\n",
    "$$y \\sim N(\\hat{y}, \\sigma^2)$$\n",
    "**我们的目标是找到一组参数，使得样本的似然最大(样本出现的概率)**。我们可以得到似然函数：\n",
    "$$\n",
    "L=\\prod_{i=1}^{m}f(x_i|\\theta) = \\prod_{i=1}^{m}\\frac{1}{\\sqrt{2\\pi}\\sigma}exp(-\\frac{(y_i - \\hat{y}_i)^2}{2\\sigma^2})\n",
    "$$\n",
    "对似然函数取对数，得到对数似然函数：\n",
    "$$\\ln L= -\\frac{m}{2}log(2\\pi) - mlog(\\sigma) - \\frac{1}{2\\sigma^2}\\sum_{i=1}^{m}(y_i - \\hat{y}_i)^2$$\n",
    "我们可以看到，对数似然函数的第三项就是均方误差。因此，最大似然估计和均方误差是等价的。\n",
    "$$\\ell = MSE $$"
   ]
  },
  {
   "cell_type": "markdown",
   "metadata": {},
   "source": [
    "\n",
    "### 梯度下降\n",
    "我们可以通过梯度下降法来求解线性回归的参数。我们的目标是最小化均方误差，即：\n",
    "$$\n",
    "\\begin{aligned}\n",
    "MSE &= \\frac{1}{2m}\\sum_{i=1}^{m}(y_i - \\hat{y}_i)^2\\\\\n",
    "\\end{aligned}\n",
    "$$\n",
    "我们可以对$w$和$b$分别求偏导：\n",
    "$$\n",
    "\\frac{\\partial{\\ell}}{\\partial{w}} = -\\frac{1}{m}\\sum_{i=1}^{m}x_i(y_i - \\hat{y}_i)\\\\\n",
    "$$\n",
    "最后通过梯度更新参数:\n",
    "$$\n",
    "w=w-\\eta\\frac{\\partial{L}}{\\partial{w}}\n",
    "$$"
   ]
  },
  {
   "cell_type": "markdown",
   "metadata": {},
   "source": [
    "\n",
    "### 正则项\n",
    "由于参数的数量可能很多，我们需要对参数进行约束，以防止过拟合。我们可以假设参数服从正态分布，即$w \\sim N(0, \\alpha^2)$。则由贝叶斯公式:\n",
    "$$\n",
    "p(y,w)=p(y|w)p(w)\n",
    "$$\n",
    "带入似然函数：\n",
    "$$\n",
    "\\begin{aligned}\n",
    "\\ln L&=\\ln \\prod_{i=1}^{m}p(y_i|w)p(w)\\\\\n",
    "&=\\ln \\prod_{i=1}^{m}\\frac{1}{\\sqrt{2\\pi}\\sigma}exp(-\\frac{(y_i - \\hat{y}_i)^2}{2\\sigma^2})\\frac{1}{\\sqrt{2\\pi}\\alpha}exp(-\\frac{w^2}{2\\alpha^2})\\\\\n",
    "\\\\\n",
    "&= \\sum_{i=1}^{m}(-\\frac{1}{2\\sigma^2}(y_i - \\hat{y}_i)^2) - \\frac{1}{2\\alpha^2}w^2 - m\\ln(\\sigma) - \\frac{m}{2}\\ln(2\\pi) - \\frac{m}{2}\\ln(\\alpha)\\\\\n",
    "&= -\\frac{1}{2\\sigma^2}\\sum_{i=1}^{m}(y_i - \\hat{y}_i)^2- \\frac{1}{2\\alpha^2}w^2 +C\\\\\n",
    "&= -MSE - \\frac{1}{2\\alpha^2}w^2 +C\n",
    "\\end{aligned}\n",
    "$$\n",
    "则我们的目标是最大化$\\ln L$，即最小化$MSE + \\frac{1}{2\\alpha^2}w^2$。我们将$\\frac{1}{2\\alpha^2}w^2$称为正则项，它可以防止过拟合。我们可以将正则项加入到损失函数中，得到正则化的损失函数：\n",
    "$$\n",
    "\\ell = MSE + \\frac{1}{2\\alpha^2}w^2\n",
    "=MSE+\\frac{1}{2\\alpha^2}\\Vert w \\Vert_2$$\n",
    "其中，$\\Vert w \\Vert_2$为L2范数，那么\n",
    "$$\n",
    "\\begin{aligned}\n",
    "\\frac{\\partial{L}}{\\partial{w}}= &\\frac{\\partial{MSE}}{\\partial{w}} + \\frac{1}{\\alpha^2}w\\\\\n",
    "= & \\lambda w+\\frac{1}{2\\sigma}\\sum_{i=1}^{m}x_i(y_i-\\hat{y_i})\n",
    "\\end{aligned}\n",
    "$$\n",
    "最后就可以使用该梯度公式和梯度下降算法更新参数。\\\n",
    "该线性模型为**Ridge Regressio**n\n",
    ">为什么假设正态分布:因为正态分布的一个特性是参数在均值(0)附近的概率很大，也就意味着至少部分特征$x_i$的系数绝对值较大，**模型在损失函数和数据的帮助下就可以从数据中选择出会影响结果的特征**,这一点在特征的选择中尤为明显。\n",
    "\n",
    "**从概率论的角度来看待正则项:我们通过假设参数服从某一分布，就是对参数的分布做一个先验概率估计，从而排服从预估计分布的参数**\\\n",
    "如果假设的先验概率不是正态分布，而是拉普拉斯分布,$w\\sim Laplace(\\mu,b)$\n",
    "\n",
    "那么正则项就会变成L1范数\n",
    "$$\n",
    "\\ell=MSE+\\Vert w\\Vert_1\n",
    "$$\n",
    "此时该线性模型即是**Lasso模型**"
   ]
  },
  {
   "cell_type": "code",
   "execution_count": 43,
   "metadata": {},
   "outputs": [
    {
     "name": "stdout",
     "output_type": "stream",
     "text": [
      "data.shape=(97, 2)\n",
      "x.shape=(97,)\n",
      "y.shape=(97,) \n",
      "       人口       收益\n",
      "0  6.1101  17.5920\n",
      "1  5.5277   9.1302\n",
      "2  8.5186  13.6620\n",
      "3  7.0032  11.8540\n",
      "4  5.8598   6.8233\n",
      "5  8.3829  11.8860\n",
      "6  7.4764   4.3483\n",
      "7  8.5781  12.0000\n",
      "8  6.4862   6.5987\n",
      "9  5.0546   3.8166\n"
     ]
    }
   ],
   "source": [
    "import pandas as pd\n",
    "import numpy as np\n",
    "data = pd.read_csv('/home/zdw/python/machine_learning/data/regress_data1.csv')\n",
    "x=data['人口']\n",
    "y=data['收益']\n",
    "x=(x-x.mean())/x.std()\n",
    "y=(y-y.mean())/y.std()\n",
    "print(f'{data.shape=}\\n{x.shape=}\\n{y.shape=} ')\n",
    "print(data.head(10))"
   ]
  },
  {
   "cell_type": "code",
   "execution_count": 44,
   "metadata": {},
   "outputs": [
    {
     "data": {
      "image/png": "[encoded data removed]",
      "text/plain": [
       "<Figure size 500x500 with 1 Axes>"
      ]
     },
     "metadata": {},
     "output_type": "display_data"
    }
   ],
   "source": [
    "import matplotlib.pyplot as plt\n",
    "plt.figure(figsize=(5,5))\n",
    "plt.scatter(x,y)\n",
    "plt.scatter(data['人口'],data['收益'],c='r')\n",
    "plt.show()\n",
    "# 进行归一化处理后，数据的分布不变，但是数据的范围变小"
   ]
  },
  {
   "cell_type": "code",
   "execution_count": null,
   "metadata": {},
   "outputs": [
    {
     "data": {
      "text/plain": [
       "Text(0.5, 1.0, 'Linear Regression')"
      ]
     },
     "execution_count": 41,
     "metadata": {},
     "output_type": "execute_result"
    },
    {
     "data": {
      "image/png": "[encoded data removed]",
      "text/plain": [
       "<Figure size 500x500 with 1 Axes>"
      ]
     },
     "metadata": {},
     "output_type": "display_data"
    }
   ],
   "source": [
    "import sklearn.linear_model\n",
    "regressor = sklearn.linear_model.LinearRegression(n_jobs=-1)\n",
    "regressor.fit(X_train, Y_train)\n",
    "plt.figure(figsize=(5,5))\n",
    "plt.scatter(X, Y)\n",
    "plt.plot(X, regressor.predict(X), color='red')\n",
    "plt.legend(['samples', 'Learn Regression Prediction'])\n",
    "plt.title('Linear Regression')"
   ]
  },
  {
   "cell_type": "code",
   "execution_count": 1,
   "metadata": {},
   "outputs": [
    {
     "ename": "NameError",
     "evalue": "name 'X_train' is not defined",
     "output_type": "error",
     "traceback": [
      "\u001b[0;31m---------------------------------------------------------------------------\u001b[0m",
      "\u001b[0;31mNameError\u001b[0m                                 Traceback (most recent call last)",
      "Cell \u001b[0;32mIn[1], line 26\u001b[0m\n\u001b[1;32m     24\u001b[0m criterion \u001b[38;5;241m=\u001b[39m nn\u001b[38;5;241m.\u001b[39mMSELoss()\n\u001b[1;32m     25\u001b[0m optimizer \u001b[38;5;241m=\u001b[39m optim\u001b[38;5;241m.\u001b[39mSGD(model\u001b[38;5;241m.\u001b[39mparameters(), lr\u001b[38;5;241m=\u001b[39m\u001b[38;5;241m0.01\u001b[39m)\n\u001b[0;32m---> 26\u001b[0m X_train_tensor \u001b[38;5;241m=\u001b[39m torch\u001b[38;5;241m.\u001b[39mfrom_numpy(\u001b[43mX_train\u001b[49m)\u001b[38;5;241m.\u001b[39mfloat()\n\u001b[1;32m     27\u001b[0m Y_train_tensor \u001b[38;5;241m=\u001b[39m torch\u001b[38;5;241m.\u001b[39mfrom_numpy(Y_train)\u001b[38;5;241m.\u001b[39mfloat()\n\u001b[1;32m     28\u001b[0m X_test_tensor \u001b[38;5;241m=\u001b[39m torch\u001b[38;5;241m.\u001b[39mfrom_numpy(X_test)\u001b[38;5;241m.\u001b[39mfloat()\n",
      "\u001b[0;31mNameError\u001b[0m: name 'X_train' is not defined"
     ]
    }
   ],
   "source": [
    "import torch\n",
    "import torch.nn as nn\n",
    "import torch.optim as optim\n",
    "\n",
    "class RidgeRegression(nn.Module):\n",
    "    def __init__(self, input_size, output_size):\n",
    "        super(RidgeRegression, self).__init__()\n",
    "        self.linear = nn.Linear(input_size, output_size)\n",
    "\n",
    "    def forward(self, x):\n",
    "        return self.linear(x)\n",
    "\n",
    "def l2_regularization(weights, lambda_):\n",
    "    l2_reg = 0\n",
    "    for w in weights:\n",
    "        l2_reg += w.norm(2)\n",
    "    return lambda_ * l2_reg\n",
    "\n",
    "input_size = 1\n",
    "output_size = 1\n",
    "lambda_ = 0.1\n",
    "\n",
    "model = RidgeRegression(input_size, output_size)\n",
    "criterion = nn.MSELoss()\n",
    "optimizer = optim.SGD(model.parameters(), lr=0.01)\n",
    "X_train_tensor = torch.from_numpy(X_train).float()\n",
    "Y_train_tensor = torch.from_numpy(Y_train).float()\n",
    "X_test_tensor = torch.from_numpy(X_test).float()\n",
    "Y_test_tensor = torch.from_numpy(Y_test).float()\n",
    "\n",
    "\n",
    "for epoch in range(100):\n",
    "\n",
    "    y_hat = model.forward(X_train_tensor)\n",
    "    mse_loss = criterion(y_hat, Y_train_tensor)\n",
    "\n",
    "\n",
    "    l2_loss = l2_regularization(model.parameters(), lambda_)\n",
    "\n",
    "\n",
    "    loss = mse_loss + l2_loss\n",
    "\n",
    "\n",
    "    optimizer.zero_grad()\n",
    "    loss.backward()\n",
    "    optimizer.step()\n",
    "\n",
    "    if (epoch+1) % 10 == 0:\n",
    "        print(f'Epoch [{epoch+1}/100], Loss: {loss.item()}')\n",
    "\n",
    "\n"
   ]
  }
 ],
 "metadata": {
  "kernelspec": {
   "display_name": "Python 3",
   "language": "python",
   "name": "python3"
  },
  "language_info": {
   "codemirror_mode": {
    "name": "ipython",
    "version": 3
   },
   "file_extension": ".py",
   "mimetype": "text/x-python",
   "name": "python",
   "nbconvert_exporter": "python",
   "pygments_lexer": "ipython3",
   "version": "3.10.12"
  }
 },
 "nbformat": 4,
 "nbformat_minor": 2
}
