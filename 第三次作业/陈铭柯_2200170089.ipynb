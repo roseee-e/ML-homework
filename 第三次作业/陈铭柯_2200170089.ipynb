{
 "cells": [
  {
   "cell_type": "markdown",
   "id": "229190c8-6593-4053-8a65-67ee688c111a",
   "metadata": {},
   "source": [
    "库引入"
   ]
  },
  {
   "cell_type": "code",
   "execution_count": 1,
   "id": "29a0c8e8-d397-49b0-9e03-8f20c3bfa52b",
   "metadata": {},
   "outputs": [],
   "source": [
    "import numpy as np#用于数值计算\n",
    "import matplotlib.pyplot as plt#用于绘制数据可视化图表\n",
    "from matplotlib import rcParams  ## run command settings for plotting用于设置图形的默认参数\n",
    "import pandas as pd#提供了高性能易用的数据结构和数据分析工具，特别适用于处理结构化数据。\n",
    "from sklearn.model_selection import train_test_split#用于将数据集划分为训练集和测试集，以便进行机器学习模型的训练和评估。"
   ]
  },
  {
   "cell_type": "markdown",
   "id": "b6becdd5-a50e-4365-85ad-406b8334983c",
   "metadata": {},
   "source": [
    "图参数"
   ]
  },
  {
   "cell_type": "code",
   "execution_count": 2,
   "id": "68bfcbeb-6317-4a39-9349-e413aadafae7",
   "metadata": {},
   "outputs": [],
   "source": [
    "config = {\n",
    "    \"mathtext.fontset\":'stix',\n",
    "    \"font.family\":'serif',\n",
    "    \"font.serif\": ['SimHei'],\n",
    "    \"font.size\": 10,   # 字号\n",
    "    'axes.unicode_minus': False # 处理负号\n",
    "}\n",
    "rcParams.update(config)"
   ]
  },
  {
   "cell_type": "markdown",
   "id": "5e6d3132-8ea3-438e-ace1-d4a0cb3e7d58",
   "metadata": {},
   "source": [
    "读入数据"
   ]
  },
  {
   "cell_type": "code",
   "execution_count": 3,
   "id": "8f29ac82-3df3-4ce5-aef9-35e27e9086bd",
   "metadata": {},
   "outputs": [
    {
     "data": {
      "text/html": [
       "<div>\n",
       "<style scoped>\n",
       "    .dataframe tbody tr th:only-of-type {\n",
       "        vertical-align: middle;\n",
       "    }\n",
       "\n",
       "    .dataframe tbody tr th {\n",
       "        vertical-align: top;\n",
       "    }\n",
       "\n",
       "    .dataframe thead th {\n",
       "        text-align: right;\n",
       "    }\n",
       "</style>\n",
       "<table border=\"1\" class=\"dataframe\">\n",
       "  <thead>\n",
       "    <tr style=\"text-align: right;\">\n",
       "      <th></th>\n",
       "      <th>人口</th>\n",
       "      <th>收益</th>\n",
       "    </tr>\n",
       "  </thead>\n",
       "  <tbody>\n",
       "    <tr>\n",
       "      <th>0</th>\n",
       "      <td>6.1101</td>\n",
       "      <td>17.5920</td>\n",
       "    </tr>\n",
       "    <tr>\n",
       "      <th>1</th>\n",
       "      <td>5.5277</td>\n",
       "      <td>9.1302</td>\n",
       "    </tr>\n",
       "    <tr>\n",
       "      <th>2</th>\n",
       "      <td>8.5186</td>\n",
       "      <td>13.6620</td>\n",
       "    </tr>\n",
       "    <tr>\n",
       "      <th>3</th>\n",
       "      <td>7.0032</td>\n",
       "      <td>11.8540</td>\n",
       "    </tr>\n",
       "    <tr>\n",
       "      <th>4</th>\n",
       "      <td>5.8598</td>\n",
       "      <td>6.8233</td>\n",
       "    </tr>\n",
       "    <tr>\n",
       "      <th>5</th>\n",
       "      <td>8.3829</td>\n",
       "      <td>11.8860</td>\n",
       "    </tr>\n",
       "    <tr>\n",
       "      <th>6</th>\n",
       "      <td>7.4764</td>\n",
       "      <td>4.3483</td>\n",
       "    </tr>\n",
       "    <tr>\n",
       "      <th>7</th>\n",
       "      <td>8.5781</td>\n",
       "      <td>12.0000</td>\n",
       "    </tr>\n",
       "    <tr>\n",
       "      <th>8</th>\n",
       "      <td>6.4862</td>\n",
       "      <td>6.5987</td>\n",
       "    </tr>\n",
       "    <tr>\n",
       "      <th>9</th>\n",
       "      <td>5.0546</td>\n",
       "      <td>3.8166</td>\n",
       "    </tr>\n",
       "  </tbody>\n",
       "</table>\n",
       "</div>"
      ],
      "text/plain": [
       "       人口       收益\n",
       "0  6.1101  17.5920\n",
       "1  5.5277   9.1302\n",
       "2  8.5186  13.6620\n",
       "3  7.0032  11.8540\n",
       "4  5.8598   6.8233\n",
       "5  8.3829  11.8860\n",
       "6  7.4764   4.3483\n",
       "7  8.5781  12.0000\n",
       "8  6.4862   6.5987\n",
       "9  5.0546   3.8166"
      ]
     },
     "execution_count": 3,
     "metadata": {},
     "output_type": "execute_result"
    }
   ],
   "source": [
    "path = 'E:\\\\machine learning\\\\data\\\\regress_data1.csv'\n",
    "data = pd.read_csv(path) ## data 是dataframe 的数据类型\n",
    "data.head(10) # 返回data中的前几行数据，默认是前5行。观察数据  "
   ]
  },
  {
   "cell_type": "code",
   "execution_count": 4,
   "id": "7213f367-9712-4fb9-b202-af02c53bc8c7",
   "metadata": {},
   "outputs": [
    {
     "data": {
      "text/html": [
       "<div>\n",
       "<style scoped>\n",
       "    .dataframe tbody tr th:only-of-type {\n",
       "        vertical-align: middle;\n",
       "    }\n",
       "\n",
       "    .dataframe tbody tr th {\n",
       "        vertical-align: top;\n",
       "    }\n",
       "\n",
       "    .dataframe thead th {\n",
       "        text-align: right;\n",
       "    }\n",
       "</style>\n",
       "<table border=\"1\" class=\"dataframe\">\n",
       "  <thead>\n",
       "    <tr style=\"text-align: right;\">\n",
       "      <th></th>\n",
       "      <th>人口</th>\n",
       "      <th>收益</th>\n",
       "    </tr>\n",
       "  </thead>\n",
       "  <tbody>\n",
       "    <tr>\n",
       "      <th>count</th>\n",
       "      <td>97.000000</td>\n",
       "      <td>97.000000</td>\n",
       "    </tr>\n",
       "    <tr>\n",
       "      <th>mean</th>\n",
       "      <td>8.159800</td>\n",
       "      <td>5.839135</td>\n",
       "    </tr>\n",
       "    <tr>\n",
       "      <th>std</th>\n",
       "      <td>3.869884</td>\n",
       "      <td>5.510262</td>\n",
       "    </tr>\n",
       "    <tr>\n",
       "      <th>min</th>\n",
       "      <td>5.026900</td>\n",
       "      <td>-2.680700</td>\n",
       "    </tr>\n",
       "    <tr>\n",
       "      <th>25%</th>\n",
       "      <td>5.707700</td>\n",
       "      <td>1.986900</td>\n",
       "    </tr>\n",
       "    <tr>\n",
       "      <th>50%</th>\n",
       "      <td>6.589400</td>\n",
       "      <td>4.562300</td>\n",
       "    </tr>\n",
       "    <tr>\n",
       "      <th>75%</th>\n",
       "      <td>8.578100</td>\n",
       "      <td>7.046700</td>\n",
       "    </tr>\n",
       "    <tr>\n",
       "      <th>max</th>\n",
       "      <td>22.203000</td>\n",
       "      <td>24.147000</td>\n",
       "    </tr>\n",
       "  </tbody>\n",
       "</table>\n",
       "</div>"
      ],
      "text/plain": [
       "              人口         收益\n",
       "count  97.000000  97.000000\n",
       "mean    8.159800   5.839135\n",
       "std     3.869884   5.510262\n",
       "min     5.026900  -2.680700\n",
       "25%     5.707700   1.986900\n",
       "50%     6.589400   4.562300\n",
       "75%     8.578100   7.046700\n",
       "max    22.203000  24.147000"
      ]
     },
     "execution_count": 4,
     "metadata": {},
     "output_type": "execute_result"
    }
   ],
   "source": [
    "cols = data.shape[1]\n",
    "X_data = data.iloc[:,:cols-1]#X是所有行，去掉最后一列， 未标准化\n",
    "Y_data = data.iloc[:,cols-1:]#X是所有行，最后一列\n",
    "X_data.insert(0,'ones',1)\n",
    "X=X_data.values#将目标变量转换为NumPy数组，存储在X中，以便后续的矩阵运算。\n",
    "Y=Y_data.values#将目标变量转换为NumPy数组，存储在Y中，以便后续的矩阵运算。\n",
    "W=np.array([[0.0],[0.0]])#W系数矩阵初始化\n",
    "data.describe() ## 查看数据的统计信息"
   ]
  },
  {
   "cell_type": "markdown",
   "id": "ae150df6-7517-4470-9fd7-a05c7105a294",
   "metadata": {},
   "source": [
    "数据处理"
   ]
  },
  {
   "cell_type": "markdown",
   "id": "cdcc4c14-9f98-46c2-9b40-a15d8d2bdf5c",
   "metadata": {},
   "source": [
    "1.先将原始数据集划分为训练数据集和测试数据集"
   ]
  },
  {
   "cell_type": "code",
   "execution_count": 5,
   "id": "e390e759-8f6b-4cc9-9045-1c37ffcf8ebc",
   "metadata": {},
   "outputs": [],
   "source": [
    "x_train, x_test, y_train, y_test = train_test_split(X, Y, test_size=0.3, random_state=105)"
   ]
  },
  {
   "cell_type": "markdown",
   "id": "f827431c-9e21-43d8-b27d-aabd7947913d",
   "metadata": {},
   "source": [
    "2.保留训练数据集中的特征数据的均值和方差"
   ]
  },
  {
   "cell_type": "code",
   "execution_count": 6,
   "id": "18c3203d-9495-4956-b822-02dc86e3e1d3",
   "metadata": {},
   "outputs": [],
   "source": [
    "x_train_mean=x_train[:, 1:2].mean()\n",
    "x_train_std=x_train[:, 1:2].std()"
   ]
  },
  {
   "cell_type": "markdown",
   "id": "6c0ff730-4fc6-4585-8750-76498b0ad0ef",
   "metadata": {},
   "source": [
    "3.对训练数据集标准化处理，并作散点图观察原始数据和归一化后的数据的的区别"
   ]
  },
  {
   "cell_type": "code",
   "execution_count": 7,
   "id": "a4415722-1759-4833-adeb-af669f4cc901",
   "metadata": {},
   "outputs": [
    {
     "data": {
      "image/png": "[encoded data removed]",
      "text/plain": [
       "<Figure size 1200x600 with 2 Axes>"
      ]
     },
     "metadata": {},
     "output_type": "display_data"
    }
   ],
   "source": [
    "import matplotlib.pyplot\n",
    "plt.figure(figsize=(12,6))\n",
    "plt.subplot(1,2,1)\n",
    "plt.plot(x_train[:,1:2],y_train,'ro')\n",
    "plt.title('原始数据')\n",
    "plt.xlabel('人口')\n",
    "plt.ylabel('收益')\n",
    "x_train[:,1:2] = (x_train[:,1:2]-x_train_mean)/x_train_std#归一化后再一次作散点图\n",
    "plt.subplot(1,2,2)\n",
    "plt.plot(x_train[:, 1:2], y_train,'ro')\n",
    "plt.title('标准化后的数据')\n",
    "plt.xlabel('人口')\n",
    "plt.ylabel('收益')\n",
    "plt.show()"
   ]
  },
  {
   "cell_type": "markdown",
   "id": "847e53ea-77bd-4ff4-88c7-fd44791b83df",
   "metadata": {},
   "source": [
    "4.标准化测试数据x_test待用"
   ]
  },
  {
   "cell_type": "code",
   "execution_count": 8,
   "id": "4fb790a9-5132-408f-8b8f-f56747fa2178",
   "metadata": {},
   "outputs": [],
   "source": [
    "x_test[:,1:2]=(x_test[:,1:2]-x_train_mean) / x_train_std"
   ]
  },
  {
   "cell_type": "markdown",
   "id": "2ac3fa07-1097-4da1-b4fb-43a4422b8109",
   "metadata": {},
   "source": [
    "损失函数计算loss"
   ]
  },
  {
   "cell_type": "markdown",
   "id": "baa71187-5680-4f43-9dba-f1fabcd9cd01",
   "metadata": {},
   "source": [
    "注意***，根据维度，我们写出线性回归的模型：Y=np.dot(X,W) 也就是说  (m,n) @ (n, 1) -> (m, 1),\n",
    "则线性回归模型写为：$${{f}}\\left( X\\right)=XW$$\n",
    "因此，我们定义模型的损失函数为：$$ loss =\\frac{(XW-Y)^T(XW-Y)}{2m}+\\frac{\\lambda}{2}\\|\\mathbf{W}\\|_2^2$$"
   ]
  },
  {
   "cell_type": "code",
   "execution_count": 9,
   "id": "c80a5ac0-014d-4ae1-8b16-dea9d94c462f",
   "metadata": {},
   "outputs": [],
   "source": [
    "def computeCost(X,Y,W,lambda_):\n",
    "    Y_hat=X@W\n",
    "    mse_loss=np.sum((Y_hat-Y)**2)/(2*X.shape[0])\n",
    "    L2=(lambda_/2)*np.sum(W**2)\n",
    "    loss = mse_loss+L2\n",
    "    return loss"
   ]
  },
  {
   "cell_type": "markdown",
   "id": "7d014603-7fc9-4f45-83d4-d1b222e6766f",
   "metadata": {},
   "source": [
    "批量梯度下降"
   ]
  },
  {
   "cell_type": "markdown",
   "id": "06dd0933-c719-4e14-b895-1c590e7b3e5f",
   "metadata": {},
   "source": [
    "**Batch Gradient Decent**\n",
    "$${{w }_{j}}={{w }_{j}}- \\alpha \\frac{1}{m}\\sum\\limits_{i=1}^m \\frac{\\partial }{\\partial {{w}_{j}}}J\\left( w \\right)={{w }_{j}}- \\frac{\\alpha}{m} X_j^T(f(X)-Y)-\\lambda w_j$$\n",
    "\n",
    "注意：这里 $X_j$代表所有样本第$j$个特征组成的向量，大小为$m\\times1$，$f(X)$代表所有样本的预测值, $Y$为所有样本的预测值，大小为$m\\times1$。 \n",
    "\n",
    "写成矩阵的形式：\n",
    "$${W}={W}- \\alpha dW=W-\\frac{\\alpha X^T(f(X)-Y)}{m}-\\lambda W$$\n",
    "\n"
   ]
  },
  {
   "cell_type": "code",
   "execution_count": 10,
   "id": "ab5221ac-7ccf-411b-8e9a-58e3fe157572",
   "metadata": {},
   "outputs": [],
   "source": [
    "def gradientDescent(X, Y, W, lambda_, alpha):  \n",
    "    num_train = X.shape[0] \n",
    "    Y_hat=X@W       \n",
    "    dW=X.T@(Y_hat-Y)/num_train\n",
    "#     dW = X.T@(Y_hat-Y)\n",
    "    W += -alpha * dW-lambda_*W\n",
    "    return W"
   ]
  },
  {
   "cell_type": "markdown",
   "id": "fce63344-2a0c-4215-abed-d2fef8bb76ed",
   "metadata": {},
   "source": [
    "线性回归模型"
   ]
  },
  {
   "cell_type": "code",
   "execution_count": 11,
   "id": "e64b2b85-d9c2-4005-92e0-3bc905dce758",
   "metadata": {},
   "outputs": [],
   "source": [
    "def linearRegression(x_train,y_train,x_test,y_test,alpha,lambda_,iters):\n",
    "    train_loss_his =[]\n",
    "    test_loss_his=[]\n",
    "    # step1: initialize the model parameters\n",
    "    feature_dim = x_train.shape[1]\n",
    "    W=np.zeros((2,1)) ## 初始化W系数矩阵，w 是一个(feature_dim,1)矩阵\n",
    "    ## repeat step 2 and step 3 untill to the convergence or the end of iterations\n",
    "    for i in range (iters):\n",
    "        # step2 : using the initilized parameters to predict the output and calculate the loss   \n",
    "        loss = computeCost(x_train,y_train,W,lambda_)\n",
    "        train_loss_his.append(loss)\n",
    "        loss=computeCost(x_test,y_test,W,lambda_)\n",
    "        test_loss_his.append(loss)\n",
    "        # step3: using the gradient decent method to update the parameters \n",
    "        W=gradientDescent(x_train, y_train, W, lambda_, alpha)#梯度更新\n",
    "    return train_loss_his,test_loss_his,W ## 返回损失和模型参数。"
   ]
  },
  {
   "cell_type": "code",
   "execution_count": 12,
   "id": "3687577e-3838-427f-9131-0640443222c1",
   "metadata": {},
   "outputs": [],
   "source": [
    "def predict(X, W):\n",
    "    '''\n",
    "    输入：\n",
    "        X：测试数据集\n",
    "        W：模型训练好的参数\n",
    "    输出：\n",
    "        y_pre：预测值\n",
    "    '''\n",
    "    y_pre = np.dot(X,W)\n",
    "    return y_pre"
   ]
  },
  {
   "cell_type": "markdown",
   "id": "36f93e52-cfbf-491f-a73c-f59942b17e79",
   "metadata": {},
   "source": [
    "调参"
   ]
  },
  {
   "cell_type": "code",
   "execution_count": 13,
   "id": "dee6cff9-f573-4917-96c4-dbed2e9abbe7",
   "metadata": {},
   "outputs": [],
   "source": [
    "lambda_=0.001#控制正则化程度\n",
    "alpha =0.01#学习率\n",
    "iters = 10000#迭代次数"
   ]
  },
  {
   "cell_type": "markdown",
   "id": "ea1585c9-f1f8-4c77-a28d-ad7e37b1f07e",
   "metadata": {},
   "source": [
    "训练"
   ]
  },
  {
   "cell_type": "code",
   "execution_count": 14,
   "id": "c297e144-8cda-403f-b044-eeed5747c65e",
   "metadata": {},
   "outputs": [],
   "source": [
    "train_loss_his,test_loss_his,W = linearRegression(x_train,y_train,x_test,y_test, alpha, lambda_, iters)"
   ]
  },
  {
   "cell_type": "code",
   "execution_count": 15,
   "id": "7287dbb8-4977-4ca3-8fd6-6fb65684c5ad",
   "metadata": {},
   "outputs": [],
   "source": [
    "Wlsq=np.linalg.inv(np.dot(x_train.T,x_train))@x_train.T@y_train"
   ]
  },
  {
   "cell_type": "markdown",
   "id": "27761925-a130-4347-9d0c-fd56232f0159",
   "metadata": {},
   "source": [
    "绘制Ridge线性模型"
   ]
  },
  {
   "cell_type": "code",
   "execution_count": 16,
   "id": "78d78378-7cf0-4434-ba6a-ded695203e93",
   "metadata": {},
   "outputs": [
    {
     "data": {
      "image/png": "[encoded data removed]",
      "text/plain": [
       "<Figure size 600x400 with 1 Axes>"
      ]
     },
     "metadata": {},
     "output_type": "display_data"
    }
   ],
   "source": [
    "x = np.linspace(x_train[:,1].min(), x_train[:,1].max(), 100)\n",
    "f = W[0, 0] + (W[1, 0] * x)\n",
    "ff = Wlsq[0,0] + (W[1,0] * x)\n",
    "fig, ax = plt.subplots(figsize=(6, 4))\n",
    "ax.plot(x, f,color='red' ,label='BCG预测值')\n",
    "ax.plot(x, ff,color='green' ,label='LSQ预测值')\n",
    "ax.scatter(x_train[:,1], y_train,color='blue' ,label='训练数据')\n",
    "ax.legend(loc=2)\n",
    "ax.set_xlabel('人口' )\n",
    "ax.set_ylabel('收益', rotation=90)\n",
    "ax.set_title('预测收益和人口规模')\n",
    "plt.show()"
   ]
  },
  {
   "cell_type": "markdown",
   "id": "e04cbc3e-ab8b-488a-b250-fd0329bbb9b4",
   "metadata": {},
   "source": [
    "绘制loss变化曲线"
   ]
  },
  {
   "cell_type": "code",
   "execution_count": 17,
   "id": "9cafe8d9-1fe5-40a3-954e-1de330eabafc",
   "metadata": {},
   "outputs": [
    {
     "data": {
      "image/png": "[encoded data removed]",
      "text/plain": [
       "<Figure size 600x400 with 1 Axes>"
      ]
     },
     "metadata": {},
     "output_type": "display_data"
    }
   ],
   "source": [
    "fig, ax = plt.subplots(figsize=(6, 4))\n",
    "ax.plot(np.arange(iters), train_loss_his,'g',label='train_data')\n",
    "ax.plot(np.arange(iters), test_loss_his,'y',label='test_data')\n",
    "ax.set_xlabel('迭代次数')\n",
    "ax.set_ylabel('代价', rotation=90)\n",
    "ax.set_title('误差和训练Epoch数')\n",
    "ax.legend()\n",
    "plt.show()"
   ]
  },
  {
   "cell_type": "code",
   "execution_count": null,
   "id": "13390999-eb4a-4203-a27b-03fa9cc31e33",
   "metadata": {},
   "outputs": [],
   "source": []
  }
 ],
 "metadata": {
  "kernelspec": {
   "display_name": "Python 3 (ipykernel)",
   "language": "python",
   "name": "python3"
  },
  "language_info": {
   "codemirror_mode": {
    "name": "ipython",
    "version": 3
   },
   "file_extension": ".py",
   "mimetype": "text/x-python",
   "name": "python",
   "nbconvert_exporter": "python",
   "pygments_lexer": "ipython3",
   "version": "3.11.5"
  }
 },
 "nbformat": 4,
 "nbformat_minor": 5
}
