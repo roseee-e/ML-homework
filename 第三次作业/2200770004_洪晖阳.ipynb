{
 "cells": [
  {
   "cell_type": "markdown",
   "metadata": {},
   "source": [
    "## 1. 模型介绍\n",
    "\n",
    "线性回归是一种通过特征的线性组合来预测目标的线性模型。\n",
    "它的目的是找到一条线或一个超平面，使预测值和真实值之间的差距最小化。"
   ]
  },
  {
   "cell_type": "markdown",
   "metadata": {},
   "source": [
    "### 1.1 数学表达\n",
    "这条直线的方程为：\n",
    "$$\n",
    "f(\\mathbf{x}) = w_1x_1+w_2x_2+...+w_dx_d+b\n",
    "$$\n",
    "- 其中 $\\mathbf{x}=(x_1;x_2;...;x_d)$ 代表一个样本， $x_i$ 表示该样本第 $i$ 个特征， $b$ 表示偏置， $f(\\mathbf{x})$ 表示样本 $\\mathbf{x}$ 对应的预测值  \n",
    "- 若样本的特征向量重写为$\\mathbf{x}=(x_1;x_2;...;x_d;1)$，并且模型参数重写为$\\mathbf{\\omega}=(w_1;w_2;...;w_d;b)$，则多元线性回归模型可以简化为：\n",
    "\n",
    "$$\n",
    "f(\\mathbf{x}) = \\mathbf{\\omega}^T\\mathbf{x}\n",
    "$$"
   ]
  },
  {
   "cell_type": "markdown",
   "metadata": {},
   "source": [
    "### 1.2 损失函数\n",
    "模型的目标是确定$\\omega$和$b$，从而拟合出一条直线。如何确定$\\omega$和$b$？关键在于如何衡量 $f(\\mathbf{x})$ 和 $\\mathbf{y}$ 之间的差别。\n",
    "- 选择均方误差作为损失函数，最小化预测值与实际观测值之间的平方差，其数学公式如下：\n",
    "$$J\\left( \\omega\\right)=\\frac{1}{2m}\\sum\\limits_{i=1}^{m}{{{\\left( {{f}}\\left({{\\mathbf{x}^i}}\\right)-{{\\mathbf{y}^i}} \\right)}^{2}}}\n",
    "$$\n",
    "其中，$\\omega$是权重，m是样本数量"
   ]
  },
  {
   "cell_type": "markdown",
   "metadata": {},
   "source": [
    "### 1.3 Batch Gradient Decent（批量梯度下降）\n",
    "\n",
    "$${{w }_{j}}:={{w }_{j}}- \\alpha \\frac{1}{m}\\sum\\limits_{i=1}^m \\frac{\\partial }{\\partial {{w}_{j}}}J\\left( w \\right):={{w }_{j}}- \\frac{\\alpha}{m} X_j^T(f(X)-Y)$$\n",
    "\n",
    "注意：这里 $X_j$代表所有样本第$j$个特征组成的向量，大小为$m\\times1$，$f(X)$代表所有样本的预测值, $Y$为所有样本的预测值，大小为$m\\times1$。 $\\alpha$表示学习率\n",
    "\n",
    "写成矩阵的形式：\n",
    "$${W}:={W}- \\alpha dW:=W-\\frac{\\alpha X^T(f(X)-Y)}{m}$$\n"
   ]
  },
  {
   "cell_type": "markdown",
   "metadata": {},
   "source": [
    "### 1.4 最大似然估计\n"
   ]
  },
  {
   "cell_type": "markdown",
   "metadata": {},
   "source": [
    "#### 1.4.1 似然函数\n",
    "似然函数是指在给定观测数据的情况下，关于模型参数的概率分布函数。假设我们有一个参数化的概率分布模型，其参数记为 \n",
    "$θ$。给定观测数据 \n",
    "$X$，似然函数 \n",
    "$L(θ∣X) $表示参数 \n",
    "$θ$ 下观测数据 \n",
    "$X$ 出现的概率密度（连续型数据）或概率质量（离散型数据）。\n",
    "数学表示为：\n",
    "$$ L(θ∣X)=f(X∣θ)=𝑓(x_1,…,x_𝑛 |\\theta)=𝑓(x_1 |\\theta)𝑓(x_2 |\\theta)⋯𝑓(x_n |\\theta)=∏_{i=1}^n𝑓(x_i |\\theta) $$\n",
    "- 其中，\n",
    "$f(X∣θ)$ 是给定参数 \n",
    "$θ$ 下观测数据 \n",
    "$X$ 的概率密度函数（或概率质量函数）"
   ]
  },
  {
   "cell_type": "markdown",
   "metadata": {},
   "source": [
    "#### 1.4.2 最大似然估计\n",
    "最大似然估计是一种常用的参数估计方法，其核心思想是寻找能使观测数据的似然函数取得最大值的参数值。换言之，MLE 通过最大化观测数据的似然函数，来估计模型的参数。\n",
    "此模型中，假设：\n",
    "$$y =\\hat{y}+ \\epsilon$$\n",
    "其中，$\\epsilon$是误差项，假设$\\epsilon$服从均值为0的正态分布，即$\\epsilon \\sim N(0, \\sigma^2)$。我们可以得到：\n",
    "$$y \\sim N(\\hat{y}, \\sigma^2)$$\n",
    "似然函数：\n",
    "$$\n",
    "L=\\prod_{i=1}^{m}f(x_i|\\theta) = \\prod_{i=1}^{m}\\frac{1}{\\sqrt{2\\pi}\\sigma}exp(-\\frac{(y_i - \\hat{y}_i)^2}{2\\sigma^2})\n",
    "$$\n",
    "对似然函数取对数，得到对数似然函数：\n",
    "$$\\ln L= -\\frac{m}{2}log(2\\pi) - mlog(\\sigma) - \\frac{1}{2\\sigma^2}\\sum_{i=1}^{m}(y_i - \\hat{y}_i)^2$$\n",
    "对对数似然函数求导，可得：\n",
    "$$\\nabla\\ln L=\\frac{1}{\\sigma^2}\\sum_{i=1}^{m}(y_i - \\hat{y}_i)^2=\\frac{1}{\\sigma^2}\\sum_{i=1}^{m}( -w^Tx_i+t_i)x^T_i=0$$\n",
    "可以求得参数：\n",
    "$$\\omega=(xx^T)^{-1}xt^T$$\n",
    "可以看出，最大似然估计的结果与线性回归的结果相同，这进一步证明了线性回归中误差的高斯假设。"
   ]
  },
  {
   "cell_type": "markdown",
   "metadata": {},
   "source": [
    "### 1.5 正则化\n",
    "正则化是一种常用的机器学习技术，用于控制模型的复杂度以防止过拟合。在正则化中，通常会在模型的损失函数中引入额外的项，以对模型参数进行惩罚或约束，从而限制模型的复杂度。"
   ]
  },
  {
   "cell_type": "markdown",
   "metadata": {},
   "source": [
    "#### 1.5.1 原理\n",
    "正则化的核心思想是在最小化损失函数的同时，限制模型参数的大小。通过对模型参数进行惩罚，可以防止模型过度拟合训练数据的噪声和细节。正则化通常会在损失函数中添加一个正则化项，该项会随着模型参数的增大而增大，从而约束参数的大小。"
   ]
  },
  {
   "cell_type": "markdown",
   "metadata": {},
   "source": [
    "#### 1.5.2 常见的正则化方法\n",
    "在线性回归等线性模型中，常见的两种正则化方法是 L1 正则化和 L2 正则化：\n",
    "- L1 正则化（Lasso Regression）：在损失函数中添加模型参数的绝对值之和作为正则化项。它倾向于产生稀疏的模型，即将某些参数压缩为零，实现特征选择的作用。\n",
    "\n",
    "- L2 正则化（Ridge Regression）：在损失函数中添加模型参数的平方和作为正则化项。它倾向于减小参数的大小，但不会将参数压缩为零，因此不能实现特征选择的作用。"
   ]
  },
  {
   "cell_type": "markdown",
   "metadata": {},
   "source": [
    "#### 1.5.3. 正则化的优势和应用：\n",
    "- **防止过拟合**：正则化可以帮助防止模型在训练数据上过度拟合，提高模型的泛化能力，使其在未见过的数据上表现更好。\n",
    "\n",
    "- **解决共线性问题**：正则化可以帮助解决特征间存在共线性（线性相关）的问题，从而提高模型的稳定性和可解释性。\n",
    "\n",
    "- **特征选择**：L1 正则化可以实现特征选择，将不重要的特征的系数压缩为零，从而简化模型并提高其解释性。"
   ]
  },
  {
   "cell_type": "markdown",
   "metadata": {},
   "source": [
    "故而在损失函数中添加正则化项，在本线性回归模型中选择L2范数，\n",
    "$$J\\left( \\omega\\right)=\\frac{1}{2m}\\sum\\limits_{i=1}^{m}{{{\\left( {{f}}\\left({{\\mathbf{x}^i}}\\right)-{{\\mathbf{y}^i}} \\right)}^{2}}}+\\Vert w \\Vert_2\n",
    "$$\n",
    "其中，$\\Vert w \\Vert_2$为L2范数，那么\n",
    "$$\n",
    "\\begin{aligned}\n",
    "\\frac{\\partial(\\boldsymbol{w}^T\\boldsymbol{w})}{\\partial\\boldsymbol{w}} & = \\frac{\\partial(w_1^2+w_2^2+\\cdots+w_n^2)}{\\partial\\boldsymbol{w}}\\\\\\\\& = \\begin{bmatrix}\\frac{\\partial(w_1^2+w_2^2+\\cdots+w_n^2)}{\\partial w_1}\\\\\\frac{\\partial(w_1^2+w_2^2+\\cdots+w_n^2)}{\\partial w_2}\\\\\\ ...\\\\\\frac{\\partial(w_1^2+w_1^2+\\cdots+w_n^2)}{\\partial w_n}\\end{bmatrix}\\\\\\\\\\\\ & = \\begin{bmatrix}2w_1\\\\2w_2\\\\\\ ...\\\\2w_n\\end{bmatrix}\\\\\\\\ & = 2\\begin{bmatrix}w_1\\\\w_2\\\\\\ ...\\\\w_n\\end{bmatrix}\\\\\\\\ & = 2\\boldsymbol{w}\n",
    "\\end{aligned}\n",
    "$$\n",
    "则加入正则项后的梯度公式为\n",
    "$$\n",
    "\\frac{\\partial J}{\\partial w}=\\lambda\\boldsymbol{w}+\\alpha \\frac{1}{m}\\sum_{i=1}^{m}f(\\mathbf{x}^i)(y^i-f(\\mathbf{x}^i))\n",
    "$$\n",
    "最后就可以使用该梯度公式和梯度下降算法更新参数。"
   ]
  },
  {
   "cell_type": "code",
   "execution_count": 2,
   "metadata": {},
   "outputs": [],
   "source": [
    "import numpy as np\n",
    "import matplotlib.pyplot as plt\n",
    "import pandas as pd\n",
    "import matplotlib\n",
    "from matplotlib import rcParams  ## run command settings for plotting\n",
    "from sklearn.model_selection import train_test_split"
   ]
  },
  {
   "cell_type": "code",
   "execution_count": 3,
   "metadata": {},
   "outputs": [],
   "source": [
    "config = {\n",
    "    \"mathtext.fontset\":'stix',\n",
    "    \"font.family\":'serif',\n",
    "    \"font.serif\": ['SimHei'],\n",
    "    \"font.size\": 10,   # 字号，大家自行调节\n",
    "    'axes.unicode_minus': False # 处理负号，即-号\n",
    "}\n",
    "rcParams.update(config)  ## 设置画图的一些参数"
   ]
  },
  {
   "cell_type": "code",
   "execution_count": 4,
   "metadata": {},
   "outputs": [
    {
     "data": {
      "text/html": [
       "<div>\n",
       "<style scoped>\n",
       "    .dataframe tbody tr th:only-of-type {\n",
       "        vertical-align: middle;\n",
       "    }\n",
       "\n",
       "    .dataframe tbody tr th {\n",
       "        vertical-align: top;\n",
       "    }\n",
       "\n",
       "    .dataframe thead th {\n",
       "        text-align: right;\n",
       "    }\n",
       "</style>\n",
       "<table border=\"1\" class=\"dataframe\">\n",
       "  <thead>\n",
       "    <tr style=\"text-align: right;\">\n",
       "      <th></th>\n",
       "      <th>人口</th>\n",
       "      <th>收益</th>\n",
       "    </tr>\n",
       "  </thead>\n",
       "  <tbody>\n",
       "    <tr>\n",
       "      <th>0</th>\n",
       "      <td>6.1101</td>\n",
       "      <td>17.59200</td>\n",
       "    </tr>\n",
       "    <tr>\n",
       "      <th>1</th>\n",
       "      <td>5.5277</td>\n",
       "      <td>9.13020</td>\n",
       "    </tr>\n",
       "    <tr>\n",
       "      <th>2</th>\n",
       "      <td>8.5186</td>\n",
       "      <td>13.66200</td>\n",
       "    </tr>\n",
       "    <tr>\n",
       "      <th>3</th>\n",
       "      <td>7.0032</td>\n",
       "      <td>11.85400</td>\n",
       "    </tr>\n",
       "    <tr>\n",
       "      <th>4</th>\n",
       "      <td>5.8598</td>\n",
       "      <td>6.82330</td>\n",
       "    </tr>\n",
       "    <tr>\n",
       "      <th>5</th>\n",
       "      <td>8.3829</td>\n",
       "      <td>11.88600</td>\n",
       "    </tr>\n",
       "    <tr>\n",
       "      <th>6</th>\n",
       "      <td>7.4764</td>\n",
       "      <td>4.34830</td>\n",
       "    </tr>\n",
       "    <tr>\n",
       "      <th>7</th>\n",
       "      <td>8.5781</td>\n",
       "      <td>12.00000</td>\n",
       "    </tr>\n",
       "    <tr>\n",
       "      <th>8</th>\n",
       "      <td>6.4862</td>\n",
       "      <td>6.59870</td>\n",
       "    </tr>\n",
       "    <tr>\n",
       "      <th>9</th>\n",
       "      <td>5.0546</td>\n",
       "      <td>3.81660</td>\n",
       "    </tr>\n",
       "    <tr>\n",
       "      <th>10</th>\n",
       "      <td>5.7107</td>\n",
       "      <td>3.25220</td>\n",
       "    </tr>\n",
       "    <tr>\n",
       "      <th>11</th>\n",
       "      <td>14.1640</td>\n",
       "      <td>15.50500</td>\n",
       "    </tr>\n",
       "    <tr>\n",
       "      <th>12</th>\n",
       "      <td>5.7340</td>\n",
       "      <td>3.15510</td>\n",
       "    </tr>\n",
       "    <tr>\n",
       "      <th>13</th>\n",
       "      <td>8.4084</td>\n",
       "      <td>7.22580</td>\n",
       "    </tr>\n",
       "    <tr>\n",
       "      <th>14</th>\n",
       "      <td>5.6407</td>\n",
       "      <td>0.71618</td>\n",
       "    </tr>\n",
       "  </tbody>\n",
       "</table>\n",
       "</div>"
      ],
      "text/plain": [
       "         人口        收益\n",
       "0    6.1101  17.59200\n",
       "1    5.5277   9.13020\n",
       "2    8.5186  13.66200\n",
       "3    7.0032  11.85400\n",
       "4    5.8598   6.82330\n",
       "5    8.3829  11.88600\n",
       "6    7.4764   4.34830\n",
       "7    8.5781  12.00000\n",
       "8    6.4862   6.59870\n",
       "9    5.0546   3.81660\n",
       "10   5.7107   3.25220\n",
       "11  14.1640  15.50500\n",
       "12   5.7340   3.15510\n",
       "13   8.4084   7.22580\n",
       "14   5.6407   0.71618"
      ]
     },
     "execution_count": 4,
     "metadata": {},
     "output_type": "execute_result"
    }
   ],
   "source": [
    "## 读取数据\n",
    "path = 'D:/My_files_in_GZU/学习/大二/机器学习/machine-learning/3rd_homework/regress_data1.csv'\n",
    "data = pd.read_csv(path) ## data 是dataframe 的数据类型\n",
    "data.head(15) # 返回data中的前几行数据，默认是前5行。  "
   ]
  },
  {
   "cell_type": "code",
   "execution_count": 5,
   "metadata": {},
   "outputs": [],
   "source": [
    "cols = data.shape[1]\n",
    "X_data = data.iloc[:,:cols-1]#X是所有行，去掉最后一列， 未标准化\n",
    "y_data = data.iloc[:,cols-1:]#X是所有行，最后一列"
   ]
  },
  {
   "cell_type": "code",
   "execution_count": 6,
   "metadata": {},
   "outputs": [
    {
     "data": {
      "text/html": [
       "<div>\n",
       "<style scoped>\n",
       "    .dataframe tbody tr th:only-of-type {\n",
       "        vertical-align: middle;\n",
       "    }\n",
       "\n",
       "    .dataframe tbody tr th {\n",
       "        vertical-align: top;\n",
       "    }\n",
       "\n",
       "    .dataframe thead th {\n",
       "        text-align: right;\n",
       "    }\n",
       "</style>\n",
       "<table border=\"1\" class=\"dataframe\">\n",
       "  <thead>\n",
       "    <tr style=\"text-align: right;\">\n",
       "      <th></th>\n",
       "      <th>人口</th>\n",
       "      <th>收益</th>\n",
       "    </tr>\n",
       "  </thead>\n",
       "  <tbody>\n",
       "    <tr>\n",
       "      <th>count</th>\n",
       "      <td>97.000000</td>\n",
       "      <td>97.000000</td>\n",
       "    </tr>\n",
       "    <tr>\n",
       "      <th>mean</th>\n",
       "      <td>8.159800</td>\n",
       "      <td>5.839135</td>\n",
       "    </tr>\n",
       "    <tr>\n",
       "      <th>std</th>\n",
       "      <td>3.869884</td>\n",
       "      <td>5.510262</td>\n",
       "    </tr>\n",
       "    <tr>\n",
       "      <th>min</th>\n",
       "      <td>5.026900</td>\n",
       "      <td>-2.680700</td>\n",
       "    </tr>\n",
       "    <tr>\n",
       "      <th>25%</th>\n",
       "      <td>5.707700</td>\n",
       "      <td>1.986900</td>\n",
       "    </tr>\n",
       "    <tr>\n",
       "      <th>50%</th>\n",
       "      <td>6.589400</td>\n",
       "      <td>4.562300</td>\n",
       "    </tr>\n",
       "    <tr>\n",
       "      <th>75%</th>\n",
       "      <td>8.578100</td>\n",
       "      <td>7.046700</td>\n",
       "    </tr>\n",
       "    <tr>\n",
       "      <th>max</th>\n",
       "      <td>22.203000</td>\n",
       "      <td>24.147000</td>\n",
       "    </tr>\n",
       "  </tbody>\n",
       "</table>\n",
       "</div>"
      ],
      "text/plain": [
       "              人口         收益\n",
       "count  97.000000  97.000000\n",
       "mean    8.159800   5.839135\n",
       "std     3.869884   5.510262\n",
       "min     5.026900  -2.680700\n",
       "25%     5.707700   1.986900\n",
       "50%     6.589400   4.562300\n",
       "75%     8.578100   7.046700\n",
       "max    22.203000  24.147000"
      ]
     },
     "execution_count": 6,
     "metadata": {},
     "output_type": "execute_result"
    }
   ],
   "source": [
    "data.describe() ## 查看数据的统计信息"
   ]
  },
  {
   "cell_type": "markdown",
   "metadata": {},
   "source": [
    "看下数据长什么样子，进行画图"
   ]
  },
  {
   "cell_type": "code",
   "execution_count": 7,
   "metadata": {},
   "outputs": [
    {
     "data": {
      "image/png": "[encoded data removed]",
      "text/plain": [
       "<Figure size 400x300 with 1 Axes>"
      ]
     },
     "metadata": {},
     "output_type": "display_data"
    }
   ],
   "source": [
    "data.plot(kind='scatter', x='人口', y='收益', figsize=(4,3)) # 利用散点图可视化数据\n",
    "import matplotlib\n",
    "plt.xlabel('人口')\n",
    "plt.ylabel('收益', rotation=90)\n",
    "plt.show()"
   ]
  },
  {
   "cell_type": "markdown",
   "metadata": {},
   "source": [
    "# 数据归一化"
   ]
  },
  {
   "cell_type": "markdown",
   "metadata": {},
   "source": [
    "数据划分，运用train_test_split函数采用随机划分的方法"
   ]
  },
  {
   "cell_type": "code",
   "execution_count": 8,
   "metadata": {},
   "outputs": [],
   "source": [
    "# 使用 train_test_split 函数划分数据集\n",
    "# test_size 指定测试集的比例，例如 0.2 表示 20% 的数据作为测试集\n",
    "# random_state 是随机种子，保证每次划分结果的一致性\n",
    "X_train, X_test, y_train, y_test = train_test_split(X_data, y_data, test_size=0.2, random_state=42)\n"
   ]
  },
  {
   "cell_type": "markdown",
   "metadata": {},
   "source": [
    "数据进行归一化处理"
   ]
  },
  {
   "cell_type": "code",
   "execution_count": 9,
   "metadata": {},
   "outputs": [],
   "source": [
    "data_min=np.min(X_train)# 计算每个特征的最小值\n",
    "data_max=np.max(X_train)\n",
    "\n",
    "data_mean=np.mean(X_train)\n",
    "data_variance=np.var(X_train,axis=0)\n",
    "\n",
    "X_train=(X_train-data_min)/(data_max-data_min)\n",
    "X_test=(X_test-data_min)/(data_max-data_min)"
   ]
  },
  {
   "cell_type": "code",
   "execution_count": 10,
   "metadata": {},
   "outputs": [
    {
     "data": {
      "image/png": "[encoded data removed]",
      "text/plain": [
       "<Figure size 400x300 with 1 Axes>"
      ]
     },
     "metadata": {},
     "output_type": "display_data"
    }
   ],
   "source": [
    "plt.figure(figsize=(4,3))\n",
    "plt.scatter(X_train,y_train,) # 利用散点图可视化数据\n",
    "plt.xlabel('人口')\n",
    "plt.ylabel('收益', rotation=90)\n",
    "plt.show()"
   ]
  },
  {
   "cell_type": "markdown",
   "metadata": {},
   "source": [
    "进行数据归一化处理后，数据的分布基本不变，但是数据的范围变小，大致范围是(0, 1)"
   ]
  },
  {
   "cell_type": "markdown",
   "metadata": {},
   "source": [
    "让我们在训练集中添加一列，以便我们可以使用向量化的解决方案来计算代价和梯度。测试集中也添加一列，以使和W矩阵相乘时维度匹配"
   ]
  },
  {
   "cell_type": "code",
   "execution_count": 11,
   "metadata": {},
   "outputs": [],
   "source": [
    "X_train.insert(0, 'Ones', 1)\n",
    "X_test.insert(0, 'Ones', 1)"
   ]
  },
  {
   "cell_type": "markdown",
   "metadata": {},
   "source": [
    "从数据中分离出特征属性X和目标向量Y，并对模型参数进行初始化，同时计算当前的损失。"
   ]
  },
  {
   "cell_type": "markdown",
   "metadata": {},
   "source": [
    "观察下 X (训练集) and y (目标变量)是否正确."
   ]
  },
  {
   "cell_type": "code",
   "execution_count": 12,
   "metadata": {
    "scrolled": true
   },
   "outputs": [
    {
     "data": {
      "text/html": [
       "<div>\n",
       "<style scoped>\n",
       "    .dataframe tbody tr th:only-of-type {\n",
       "        vertical-align: middle;\n",
       "    }\n",
       "\n",
       "    .dataframe tbody tr th {\n",
       "        vertical-align: top;\n",
       "    }\n",
       "\n",
       "    .dataframe thead th {\n",
       "        text-align: right;\n",
       "    }\n",
       "</style>\n",
       "<table border=\"1\" class=\"dataframe\">\n",
       "  <thead>\n",
       "    <tr style=\"text-align: right;\">\n",
       "      <th></th>\n",
       "      <th>Ones</th>\n",
       "      <th>人口</th>\n",
       "    </tr>\n",
       "  </thead>\n",
       "  <tbody>\n",
       "    <tr>\n",
       "      <th>49</th>\n",
       "      <td>1</td>\n",
       "      <td>0.029966</td>\n",
       "    </tr>\n",
       "    <tr>\n",
       "      <th>70</th>\n",
       "      <td>1</td>\n",
       "      <td>0.297454</td>\n",
       "    </tr>\n",
       "    <tr>\n",
       "      <th>68</th>\n",
       "      <td>1</td>\n",
       "      <td>0.027509</td>\n",
       "    </tr>\n",
       "    <tr>\n",
       "      <th>15</th>\n",
       "      <td>1</td>\n",
       "      <td>0.020523</td>\n",
       "    </tr>\n",
       "    <tr>\n",
       "      <th>39</th>\n",
       "      <td>1</td>\n",
       "      <td>0.077229</td>\n",
       "    </tr>\n",
       "  </tbody>\n",
       "</table>\n",
       "</div>"
      ],
      "text/plain": [
       "    Ones        人口\n",
       "49     1  0.029966\n",
       "70     1  0.297454\n",
       "68     1  0.027509\n",
       "15     1  0.020523\n",
       "39     1  0.077229"
      ]
     },
     "execution_count": 12,
     "metadata": {},
     "output_type": "execute_result"
    }
   ],
   "source": [
    "X_train.head()#head()是观察前5行"
   ]
  },
  {
   "cell_type": "code",
   "execution_count": 13,
   "metadata": {},
   "outputs": [
    {
     "data": {
      "text/html": [
       "<div>\n",
       "<style scoped>\n",
       "    .dataframe tbody tr th:only-of-type {\n",
       "        vertical-align: middle;\n",
       "    }\n",
       "\n",
       "    .dataframe tbody tr th {\n",
       "        vertical-align: top;\n",
       "    }\n",
       "\n",
       "    .dataframe thead th {\n",
       "        text-align: right;\n",
       "    }\n",
       "</style>\n",
       "<table border=\"1\" class=\"dataframe\">\n",
       "  <thead>\n",
       "    <tr style=\"text-align: right;\">\n",
       "      <th></th>\n",
       "      <th>收益</th>\n",
       "    </tr>\n",
       "  </thead>\n",
       "  <tbody>\n",
       "    <tr>\n",
       "      <th>49</th>\n",
       "      <td>1.0179</td>\n",
       "    </tr>\n",
       "    <tr>\n",
       "      <th>70</th>\n",
       "      <td>6.6799</td>\n",
       "    </tr>\n",
       "    <tr>\n",
       "      <th>68</th>\n",
       "      <td>1.0173</td>\n",
       "    </tr>\n",
       "    <tr>\n",
       "      <th>15</th>\n",
       "      <td>3.5129</td>\n",
       "    </tr>\n",
       "    <tr>\n",
       "      <th>39</th>\n",
       "      <td>5.4974</td>\n",
       "    </tr>\n",
       "  </tbody>\n",
       "</table>\n",
       "</div>"
      ],
      "text/plain": [
       "        收益\n",
       "49  1.0179\n",
       "70  6.6799\n",
       "68  1.0173\n",
       "15  3.5129\n",
       "39  5.4974"
      ]
     },
     "execution_count": 13,
     "metadata": {},
     "output_type": "execute_result"
    }
   ],
   "source": [
    "y_train.head()"
   ]
  },
  {
   "cell_type": "markdown",
   "metadata": {},
   "source": [
    "代价函数是应该是numpy数组，所以我们需要从dataframeX_data和Y_data中读取数据，然后才能使用它们。\n",
    "此外，我们还需要初始化w。"
   ]
  },
  {
   "cell_type": "code",
   "execution_count": 14,
   "metadata": {},
   "outputs": [],
   "source": [
    "X=X_train.values\n",
    "Y=y_train.values\n",
    "W=np.array([[0.0],[0.0]]) ## 初始化W系数矩阵，w 是一个(2,1)矩阵"
   ]
  },
  {
   "cell_type": "markdown",
   "metadata": {},
   "source": [
    "看下维度"
   ]
  },
  {
   "cell_type": "code",
   "execution_count": 15,
   "metadata": {},
   "outputs": [
    {
     "data": {
      "text/plain": [
       "((77, 2), (77, 1), (2, 1))"
      ]
     },
     "execution_count": 15,
     "metadata": {},
     "output_type": "execute_result"
    }
   ],
   "source": [
    "(X_train.shape,Y.shape, W.shape)"
   ]
  },
  {
   "cell_type": "markdown",
   "metadata": {},
   "source": [
    "注意***，根据维度，我们写出线性回归的模型：Y=np.dot(X,W) 也就是说  (m,n) @ (n, 1) -> (m, 1),\n",
    "则线性回归模型写为：$${{f}}\\left( X\\right)=XW$$\n",
    "因此，我们定义模型的损失函数为：$$ loss =\\frac{(XW-Y)^T(XW-Y)}{2m}$$\n"
   ]
  },
  {
   "cell_type": "code",
   "execution_count": 16,
   "metadata": {},
   "outputs": [],
   "source": [
    "def computeCost(X, Y, W, lambda_val):\n",
    "    m = X.shape[0]\n",
    "    Y_hat = np.dot(X, W)\n",
    "    loss = np.sum((Y_hat - Y) ** 2) / (2 * m)  # 计算普通损失\n",
    "\n",
    "    # 加上L2正则化项\n",
    "    regularization_term = (lambda_val / (2 * m)) * np.sum(W ** 2)\n",
    "    loss += regularization_term\n",
    "\n",
    "    return loss"
   ]
  },
  {
   "cell_type": "markdown",
   "metadata": {},
   "source": [
    "# Batch Gradient Decent（批量梯度下降）\n",
    "\n",
    "$${{w }_{j}}:={{w }_{j}}- \\alpha \\frac{1}{m}\\sum\\limits_{i=1}^m \\frac{\\partial }{\\partial {{w}_{j}}}J\\left( w \\right):={{w }_{j}}- \\frac{\\alpha}{m} X_j^T(f(X)-Y)$$\n",
    "\n",
    "注意：这里 $X_j$代表所有样本第$j$个特征组成的向量，大小为$m\\times1$，$f(X)$代表所有样本的预测值, $Y$为所有样本的预测值，大小为$m\\times1$。 \n",
    "\n",
    "写成矩阵的形式：\n",
    "$${W}:={W}- \\alpha dW:=W-\\frac{\\alpha X^T(f(X)-Y)}{m}$$\n",
    "\n",
    "\n"
   ]
  },
  {
   "cell_type": "code",
   "execution_count": 17,
   "metadata": {},
   "outputs": [],
   "source": [
    "def gradientDescent(X, Y, W, alpha):\n",
    "    num_train = X.shape[0]     \n",
    "    Y_hat = np.dot(X,W)        \n",
    "    dW = X.T@(Y_hat-Y)/ X.shape[0]\n",
    "#     dW = X.T@(Y_hat-Y)\n",
    "    W += -alpha * dW\n",
    "    return W"
   ]
  },
  {
   "cell_type": "code",
   "execution_count": 18,
   "metadata": {},
   "outputs": [],
   "source": [
    "def linearRegression(X_train,y_train, alpha, iters,X_test,y_test):\n",
    "    loss_test = []\n",
    "    loss_train = []\n",
    "    # step1: initialize the model parameters\n",
    "    feature_dim = X.shape[1]\n",
    "    W=np.zeros((feature_dim,1)) ## 初始化W系数矩阵，w 是一个(feature_dim,1)矩阵\n",
    "    ## repeat step 2 and step 3 untill to the convergence or the end of iterations\n",
    "    for i in range (iters):\n",
    "        # step2 : using the initilized parameters to predict the output and calculate the loss   \n",
    "        loss = computeCost(X_train,y_train,W,0.1)\n",
    "        loss_train.append(loss)\n",
    "        loss = computeCost(X_test,y_test,W,0.1)\n",
    "        loss_test.append(loss)\n",
    "        # step3: using the gradient decent method to update the parameters \n",
    "        W=gradientDescent(X_train, y_train, W, alpha)\n",
    "    return loss_train,loss_test, W ## 返回损失和模型参数。\n",
    "    "
   ]
  },
  {
   "cell_type": "code",
   "execution_count": 19,
   "metadata": {},
   "outputs": [],
   "source": [
    "def linearRegression_lsq(X, y):# 不需要学习率和迭代次数\n",
    "    \"\"\"\n",
    "    使用最小二乘法（LSQ）求解线性回归模型参数\n",
    "    \n",
    "    参数：\n",
    "    X: numpy数组，包含样本特征数据，形状为 (n_samples, n_features)\n",
    "    y: numpy数组，目标变量数据，形状为 (n_samples,)\n",
    "    \n",
    "    返回：\n",
    "    beta: numpy数组，模型参数向量，形状为 (n_features,)\n",
    "    \"\"\"\n",
    "    \n",
    "    # 使用正规方程求解模型参数\n",
    "    beta = np.linalg.inv(X.T @ X) @ X.T @ y\n",
    "    \n",
    "    return beta"
   ]
  },
  {
   "cell_type": "code",
   "execution_count": 20,
   "metadata": {},
   "outputs": [],
   "source": [
    "def predict(X, W):\n",
    "    '''\n",
    "    输入：\n",
    "        X：测试数据集\n",
    "        W：模型训练好的参数\n",
    "    输出：\n",
    "        y_pre：预测值\n",
    "    '''\n",
    "    y_pre = np.dot(X,W)\n",
    "    return y_pre"
   ]
  },
  {
   "cell_type": "code",
   "execution_count": 21,
   "metadata": {},
   "outputs": [
    {
     "data": {
      "text/plain": [
       "((77, 2), (77, 1), (20, 2), (20, 1))"
      ]
     },
     "execution_count": 21,
     "metadata": {},
     "output_type": "execute_result"
    }
   ],
   "source": [
    "X_train.shape,y_train.shape,X_test.shape,y_test.shape"
   ]
  },
  {
   "cell_type": "code",
   "execution_count": 22,
   "metadata": {},
   "outputs": [],
   "source": [
    "alpha =0.1\n",
    "iters = 10000\n",
    "loss_train,loss_test, W = linearRegression(X_train,y_train, alpha, iters,X_test,y_test)"
   ]
  },
  {
   "cell_type": "markdown",
   "metadata": {},
   "source": [
    "为什么必须要用W['收益']才能访问到呢？这样的话W不就是字典了吗？但是我一开始没有定义为字典呀"
   ]
  },
  {
   "cell_type": "code",
   "execution_count": 24,
   "metadata": {},
   "outputs": [
    {
     "data": {
      "text/plain": [
       "Ones     1.739881\n",
       "人口      22.114723\n",
       "Name: 收益, dtype: float64"
      ]
     },
     "execution_count": 24,
     "metadata": {},
     "output_type": "execute_result"
    }
   ],
   "source": [
    "W['收益']"
   ]
  },
  {
   "cell_type": "markdown",
   "metadata": {},
   "source": [
    "现在我们来绘制线性模型以及数据，直观地看出它的拟合。"
   ]
  },
  {
   "cell_type": "code",
   "execution_count": 25,
   "metadata": {},
   "outputs": [
    {
     "data": {
      "image/png": "[encoded data removed]",
      "text/plain": [
       "<Figure size 600x400 with 1 Axes>"
      ]
     },
     "metadata": {},
     "output_type": "display_data"
    }
   ],
   "source": [
    "x = np.linspace(X_train['人口'].min(), X_train['人口'].max(), 100)\n",
    "f = W['收益'][0] + (W['收益'][1] * x)\n",
    "\n",
    "fig, ax = plt.subplots(figsize=(6, 4))\n",
    "ax.plot(x, f, 'r', label='预测值')\n",
    "\n",
    "W = linearRegression_lsq(X_train,y_train)\n",
    "x = np.linspace(X_train['人口'].min(), X_train['人口'].max(), 100)\n",
    "f = W['收益'][0] + (W['收益'][1] * x)\n",
    "\n",
    "ax.plot(x, f, 'blue', label='lsr')\n",
    "\n",
    "ax.scatter(X_train['人口'], y_train['收益'],label='训练数据',color='pink',edgecolors='white')\n",
    "ax.scatter(X_test['人口'], y_test['收益'],label='测试数据',color='purple',edgecolors='white')\n",
    "ax.legend(loc=2)\n",
    "ax.set_xlabel('人口' )\n",
    "ax.set_ylabel('收益', rotation=90)\n",
    "ax.set_title('预测收益和人口规模')\n",
    "plt.show()"
   ]
  },
  {
   "cell_type": "markdown",
   "metadata": {},
   "source": [
    "可以看到，通过随机梯度下降得到的模型直线和最小二乘法求得的直线几乎完全重合，说明模型效果良好"
   ]
  },
  {
   "cell_type": "markdown",
   "metadata": {},
   "source": [
    "由于梯度方程式函数也在每个训练迭代中输出一个代价的向量，所以我们也可以绘制。 请注意，代价总是降低 - 这是凸优化问题的一个例子。"
   ]
  },
  {
   "cell_type": "code",
   "execution_count": 26,
   "metadata": {},
   "outputs": [
    {
     "data": {
      "image/png": "[encoded data removed]",
      "text/plain": [
       "<Figure size 600x400 with 1 Axes>"
      ]
     },
     "metadata": {},
     "output_type": "display_data"
    }
   ],
   "source": [
    "fig, ax = plt.subplots(figsize=(6, 4))\n",
    "\n",
    "ax.plot(np.arange(iters), loss_train, 'red',label='训练损失')\n",
    "ax.plot(np.arange(iters), loss_test, 'blue',label='测试损失')\n",
    "ax.legend()\n",
    "ax.set_xlabel('迭代次数')\n",
    "ax.set_ylabel('代价', rotation=0)\n",
    "ax.set_title('误差和训练Epoch数')\n",
    "plt.show()"
   ]
  }
 ],
 "metadata": {
  "kernelspec": {
   "display_name": "Python 3 (ipykernel)",
   "language": "python",
   "name": "python3"
  },
  "language_info": {
   "codemirror_mode": {
    "name": "ipython",
    "version": 3
   },
   "file_extension": ".py",
   "mimetype": "text/x-python",
   "name": "python",
   "nbconvert_exporter": "python",
   "pygments_lexer": "ipython3",
   "version": "3.11.4"
  }
 },
 "nbformat": 4,
 "nbformat_minor": 1
}
