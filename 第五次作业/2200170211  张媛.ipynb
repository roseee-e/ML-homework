{
 "cells": [
  {
   "cell_type": "code",
   "execution_count": 1,
   "id": "cec194ac-c164-4e99-9003-c1b09399990b",
   "metadata": {},
   "outputs": [],
   "source": [
    "import numpy as np\n",
    "import pandas as pd"
   ]
  },
  {
   "cell_type": "code",
   "execution_count": 2,
   "id": "04ffde04-5cc9-4377-b403-ba8e4a6029c5",
   "metadata": {},
   "outputs": [
    {
     "name": "stdout",
     "output_type": "stream",
     "text": [
      "     Outlook Temperature Humidity    Wind  PlayTennis\n",
      "0      Sunny         Hot     High    Weak           0\n",
      "1      Sunny         Hot     High  Strong           0\n",
      "2   Overcast         Hot     High    Weak           1\n",
      "3       Rain        Mild     High    Weak           1\n",
      "4       Rain        Cool   Normal    Weak           1\n",
      "5       Rain        Cool   Normal  Strong           0\n",
      "6   Overcast        Cool   Normal  Strong           1\n",
      "7      Sunny        Mild     High    Weak           0\n",
      "8      Sunny        Cool   Normal    Weak           1\n",
      "9       Rain        Mild   Normal    Weak           1\n",
      "10     Sunny        Mild   Normal  Strong           1\n",
      "11  Overcast        Mild     High  Strong           1\n",
      "12  Overcast         Hot   Normal    Weak           1\n",
      "13      Rain        Mild     High  Strong           0\n"
     ]
    }
   ],
   "source": [
    "train_data=[[\"Sunny\",\"Hot\",\"High\",\"Weak\",0],[\"Sunny\",\"Hot\",\"High\",\"Strong\",0],\\\n",
    "      [\"Overcast\",\"Hot\",\"High\",\"Weak\",1],[\"Rain\",\"Mild\",\"High\",\"Weak\",1],\\\n",
    "      [\"Rain\",\"Cool\",\"Normal\",\"Weak\",1],[\"Rain\",\"Cool\",\"Normal\",\"Strong\",0],\\\n",
    "      [\"Overcast\",\"Cool\",\"Normal\",\"Strong\",1],[\"Sunny\",\"Mild\",\"High\",\"Weak\",0],\\\n",
    "      [\"Sunny\",\"Cool\",\"Normal\",\"Weak\",1],[\"Rain\",\"Mild\",\"Normal\",\"Weak\",1],\\\n",
    "      [\"Sunny\",\"Mild\",\"Normal\",\"Strong\",1],[\"Overcast\",\"Mild\",\"High\",\"Strong\",1],\\\n",
    "      [\"Overcast\",\"Hot\",\"Normal\",\"Weak\",1],[\"Rain\",\"Mild\",\"High\",\"Strong\",0]]\n",
    "data=pd.DataFrame(train_data,columns=['Outlook',\"Temperature\",\"Humidity\",\"Wind\",\"PlayTennis\"])\n",
    "print(data)"
   ]
  },
  {
   "cell_type": "code",
   "execution_count": 3,
   "id": "01d3b4da-0272-4d12-921b-3a0944fa32b6",
   "metadata": {},
   "outputs": [],
   "source": [
    "cols=data.shape[1]\n",
    "x_data=data.iloc[:,:cols-1]\n",
    "y_data=data.iloc[:,cols-1:]\n",
    "featurenames=x_data.columns"
   ]
  },
  {
   "cell_type": "code",
   "execution_count": 4,
   "id": "cd95dfd4-45ba-4b50-b77b-6f63b0b80b3a",
   "metadata": {},
   "outputs": [],
   "source": [
    "def Navie_Bayes(X_data,Y_data):\n",
    "    y=Y_data.values\n",
    "    x=X_data.values\n",
    "    y_unique=np.unique(y)\n",
    "    prior_prob=np.zeros(len(y_unique))\n",
    "    for i in range(len(y_unique)):\n",
    "        prior_prob[i]=sum(y==y_unique[i])/len(y)\n",
    "\n",
    "    condition_prob={}\n",
    "    for feat in featurenames:\n",
    "        x_unique=list(set(X_data[feat]))\n",
    "        \n",
    "        x_condition_prob=np.zeros((len(y_unique),len(x_unique)))\n",
    "        for j in range(len(y_unique)):\n",
    "            for k in range(len(x_unique)):\n",
    "                x_condition_prob[j,k]=sum((X_data[feat]==x_unique[k])&(Y_data.PlayTennis==y_unique[j]))/sum(y==y_unique[j])\n",
    "        x_condition_prob=pd.DataFrame(x_condition_prob,columns=x_unique,index=y_unique)\n",
    "        condition_prob[feat]=x_condition_prob\n",
    "    return prior_prob,condition_prob"
   ]
  },
  {
   "cell_type": "code",
   "execution_count": 5,
   "id": "14a186c0-b06f-4d55-9edb-554224ede6be",
   "metadata": {},
   "outputs": [],
   "source": [
    "def Prediction(testData,prior,condition_prob):\n",
    "    numclass=prior.shape[0]\n",
    "    numsample=testData.shape[0]\n",
    "    featureNames=testData.columns\n",
    "    post_prob=np.zeros((numsample,numclass))\n",
    "    for k in range(numsample):\n",
    "        prob_k=np.zeros((numclass,))\n",
    "        for i in range(numclass):\n",
    "            pri=prior[i]\n",
    "            for feat in featureNames:\n",
    "                feat_val=testData[feat][k]\n",
    "                cp=condition_prob[feat]\n",
    "                cp_val=cp.loc[i,feat_val]\n",
    "                pri*=cp_val\n",
    "            prob_k[i]=pri\n",
    "        prob=prob_k/np.sum(prob_k,axis=0)\n",
    "        post_prob[k,:]=prob\n",
    "    return post_prob"
   ]
  },
  {
   "cell_type": "code",
   "execution_count": 6,
   "id": "49ef2332-63ff-4c70-a355-20b6d30ace74",
   "metadata": {},
   "outputs": [
    {
     "name": "stdout",
     "output_type": "stream",
     "text": [
      "  Outlook Temperature Humidity    Wind\n",
      "0   Sunny        Cool     High  Strong\n"
     ]
    }
   ],
   "source": [
    "x_test=pd.DataFrame([[\"Sunny\",\"Cool\",\"High\",\"Strong\"]],columns=['Outlook',\"Temperature\",\"Humidity\",\"Wind\"])\n",
    "print(x_test)"
   ]
  },
  {
   "cell_type": "code",
   "execution_count": 7,
   "id": "242c71ec-dd92-46ea-9b71-0b89f94fd206",
   "metadata": {},
   "outputs": [
    {
     "name": "stdout",
     "output_type": "stream",
     "text": [
      "[0.35714286 0.64285714]\n",
      "{'Outlook':       Sunny  Overcast      Rain\n",
      "0  0.600000  0.000000  0.400000\n",
      "1  0.222222  0.444444  0.333333, 'Temperature':        Cool      Mild       Hot\n",
      "0  0.200000  0.400000  0.400000\n",
      "1  0.333333  0.444444  0.222222, 'Humidity':        High    Normal\n",
      "0  0.800000  0.200000\n",
      "1  0.333333  0.666667, 'Wind':      Strong      Weak\n",
      "0  0.600000  0.400000\n",
      "1  0.333333  0.666667}\n"
     ]
    },
    {
     "name": "stderr",
     "output_type": "stream",
     "text": [
      "C:\\Users\\Gillian\\AppData\\Local\\Temp\\ipykernel_4692\\3747978167.py:7: DeprecationWarning: Conversion of an array with ndim > 0 to a scalar is deprecated, and will error in future. Ensure you extract a single element from your array before performing this operation. (Deprecated NumPy 1.25.)\n",
      "  prior_prob[i]=sum(y==y_unique[i])/len(y)\n",
      "C:\\Users\\Gillian\\AppData\\Local\\Temp\\ipykernel_4692\\3747978167.py:16: DeprecationWarning: Conversion of an array with ndim > 0 to a scalar is deprecated, and will error in future. Ensure you extract a single element from your array before performing this operation. (Deprecated NumPy 1.25.)\n",
      "  x_condition_prob[j,k]=sum((X_data[feat]==x_unique[k])&(Y_data.PlayTennis==y_unique[j]))/sum(y==y_unique[j])\n"
     ]
    }
   ],
   "source": [
    "prior_prob,condition_prob=Navie_Bayes(x_data,y_data)\n",
    "print(prior_prob)\n",
    "print(condition_prob)"
   ]
  },
  {
   "cell_type": "code",
   "execution_count": 8,
   "id": "37973704-8168-429e-9769-f165b657ba4f",
   "metadata": {},
   "outputs": [
    {
     "name": "stdout",
     "output_type": "stream",
     "text": [
      "[[0.79541735 0.20458265]]\n"
     ]
    }
   ],
   "source": [
    "postProir=Prediction(x_test,prior_prob,condition_prob)\n",
    "print(postProir)"
   ]
  },
  {
   "cell_type": "code",
   "execution_count": 9,
   "id": "268afa50-5c21-42e1-915d-39c47ed9d02e",
   "metadata": {},
   "outputs": [
    {
     "name": "stdout",
     "output_type": "stream",
     "text": [
      "不可打球\n"
     ]
    }
   ],
   "source": [
    "if(postProir[0][0]>postProir[0][1]):\n",
    "    print(\"不可打球\")\n",
    "else:\n",
    "    print(\"可打球\")"
   ]
  },
  {
   "cell_type": "code",
   "execution_count": null,
   "id": "52010a48-2f11-4e8d-9baa-9ffdbcdba6d2",
   "metadata": {},
   "outputs": [],
   "source": []
  }
 ],
 "metadata": {
  "kernelspec": {
   "display_name": "Python 3 (ipykernel)",
   "language": "python",
   "name": "python3"
  },
  "language_info": {
   "codemirror_mode": {
    "name": "ipython",
    "version": 3
   },
   "file_extension": ".py",
   "mimetype": "text/x-python",
   "name": "python",
   "nbconvert_exporter": "python",
   "pygments_lexer": "ipython3",
   "version": "3.11.7"
  }
 },
 "nbformat": 4,
 "nbformat_minor": 5
}
