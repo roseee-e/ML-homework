{
 "cells": [
  {
   "cell_type": "code",
   "execution_count": 1,
   "id": "80102788-e213-43bf-ba48-771bec460a2d",
   "metadata": {},
   "outputs": [],
   "source": [
    "import numpy as np\n",
    "import pandas as pd"
   ]
  },
  {
   "cell_type": "code",
   "execution_count": 2,
   "id": "f91f5234-e8e3-4c2d-850c-5ac5183d1f8e",
   "metadata": {},
   "outputs": [],
   "source": [
    "class Naive_Bayes:\n",
    "    def __init__(self, datas, labels):\n",
    "        self.datas = datas\n",
    "        self.labels = labels\n",
    "        self.X = datas.values\n",
    "        self.Y = labels.values\n",
    "        self.y_unique = np.unique(self.Y)\n",
    "        self.classes = len(self.y_unique)\n",
    "        self.feature = self.datas.columns\n",
    "\n",
    "    def Prionr_Prob(self):\n",
    "        self.prior_prob = np.zeros(self.classes)\n",
    "        for i in range(self.classes):\n",
    "            self.prior_prob[i] = sum(self.Y == self.y_unique[i])[0] / len(self.Y)\n",
    "\n",
    "    def LikeHood(self):\n",
    "        self.condition_prob = {}\n",
    "        for feat in self.feature:\n",
    "            x_unique = list(set(self.datas[feat]))\n",
    "            x_condition_prob = np.zeros((len(self.y_unique), len(x_unique)))\n",
    "            for i in range(len(self.y_unique)):\n",
    "                for j in range(len(x_unique)):\n",
    "                    f = sum(self.datas[feat].values==x_unique[j])\n",
    "                    F = sum(self.Y==self.y_unique[i])\n",
    "                    x_condition_prob[i, j]=f/F[0]\n",
    "            x_condition_prob = pd.DataFrame(x_condition_prob, columns=x_unique, index=self.y_unique)\n",
    "            self.condition_prob[feat] = x_condition_prob\n",
    "\n",
    "    def Prediction(self, test):\n",
    "        classess = self.prior_prob.shape[0]\n",
    "        feature = test.columns\n",
    "        numsample = test.shape[0]\n",
    "        post_prob = np.zeros((numsample, classess))\n",
    "        for k in range(numsample):\n",
    "            prob_k = np.zeros((classess, ))\n",
    "            for i in range(classess):\n",
    "                pri = self.prior_prob[i]\n",
    "                for feat in feature:\n",
    "                    feat_val = test[feat][k]\n",
    "                    cp = self.condition_prob[feat]\n",
    "                    cp_val = cp.loc[self.y_unique[i], feat_val]\n",
    "                    pri*=cp_val\n",
    "                    prob_k[i]=pri\n",
    "            prob = prob_k/np.sum(prob_k, axis=0)\n",
    "            post_prob[k:]=prob\n",
    "            t_prob = 0\n",
    "            P = ''\n",
    "            for i in range(len(post_prob[0])):\n",
    "                if post_prob[0][i]>t_prob:\n",
    "                    t_prob = post_prob[0][i]\n",
    "                    P = self.y_unique[i]\n",
    "        return P"
   ]
  },
  {
   "cell_type": "code",
   "execution_count": 3,
   "id": "519562f4-d259-4603-891f-d4d06d98df22",
   "metadata": {},
   "outputs": [],
   "source": [
    "data = pd.read_excel('D:\\\\机器学习\\\\代码\\\\Assignment\\\\assigment5\\\\assigment5.xlsx', sheet_name=0)\n",
    "cols = data.shape[1]\n",
    "x = data.iloc[:, 1: cols-1]\n",
    "y = data.iloc[:, cols-1:]"
   ]
  },
  {
   "cell_type": "code",
   "execution_count": 4,
   "id": "91f107d1-1274-4b57-aec8-de09ca95a8b5",
   "metadata": {},
   "outputs": [],
   "source": [
    "model = Naive_Bayes(x, y)\n",
    "model.Prionr_Prob()\n",
    "model.LikeHood()"
   ]
  },
  {
   "cell_type": "code",
   "execution_count": 5,
   "id": "ed3dc54e-9ed4-4e61-a314-a8abec541c5a",
   "metadata": {},
   "outputs": [
    {
     "name": "stdout",
     "output_type": "stream",
     "text": [
      "No\n"
     ]
    }
   ],
   "source": [
    "test = pd.read_excel(r'D:\\机器学习\\代码\\Assignment\\assigment5\\test.xlsx')\n",
    "test = test.iloc[:,:test.shape[1]-1]\n",
    "print(model.Prediction(test))"
   ]
  }
 ],
 "metadata": {
  "kernelspec": {
   "display_name": "Python 3 (ipykernel)",
   "language": "python",
   "name": "python3"
  },
  "language_info": {
   "codemirror_mode": {
    "name": "ipython",
    "version": 3
   },
   "file_extension": ".py",
   "mimetype": "text/x-python",
   "name": "python",
   "nbconvert_exporter": "python",
   "pygments_lexer": "ipython3",
   "version": "3.11.7"
  }
 },
 "nbformat": 4,
 "nbformat_minor": 5
}
