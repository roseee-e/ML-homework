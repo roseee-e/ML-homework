{
 "cells": [
  {
   "cell_type": "code",
   "execution_count": 9,
   "id": "033b4d8a-33e9-4b56-9c12-3ffc5046ea69",
   "metadata": {},
   "outputs": [],
   "source": [
    "import numpy as np\n",
    "import pandas as pd"
   ]
  },
  {
   "cell_type": "code",
   "execution_count": 10,
   "id": "36a0c921-9ca1-47a7-b841-d00d3825228f",
   "metadata": {},
   "outputs": [],
   "source": [
    "data=[[\"Sunny\",\"Hot\",\"High\",\"Weak\",\"No\"],[\"Sunny\",\"Hot\",\"High\",\"Strong\",\"No\"],\n",
    "      [\"Overcast\",\"Hot\",\"High\",\"Weak\",\"Yes\"],[\"Rain\",\"Mild\",\"High\",\"Weak\",\"Yes\"],\n",
    "      [\"Rain\",\"Cool\",\"Normal\",\"Weak\",\"Yes\"],[\"Rain\",\"Cool\",\"Normal\",\"Strong\",\"No\"],\n",
    "      [\"Overcast\",\"Cool\",\"Normal\",\"Strong\",\"Yes\"],[\"Sunny\",\"Mild\",\"High\",\"Weak\",\"No\"],\n",
    "      [\"Sunny\",\"Cool\",\"Normal \",\"Weak\",\"Yes\"],[\"Rain\",\"Mild\",\"Normal\",\"Weak\",\"Yes\"],\n",
    "      [\"Sunny\",\"Mild\",\"Normal\",\"Strong\",\"Yes\"],[\"Overcast\",\"Mild\",\"High\",\"Strong\",\"Yes\"],\n",
    "      [\"Overcast\",\"Hot\",\"Normal\",\"Weak\",\"Yes\"],[\"Rain\",\"Mild\",\"High\",\"Strong\",\"No\"]]"
   ]
  },
  {
   "cell_type": "code",
   "execution_count": 11,
   "id": "e5611fa6-7d92-4c44-8e25-f5870961c85f",
   "metadata": {},
   "outputs": [
    {
     "data": {
      "text/html": [
       "<div>\n",
       "<style scoped>\n",
       "    .dataframe tbody tr th:only-of-type {\n",
       "        vertical-align: middle;\n",
       "    }\n",
       "\n",
       "    .dataframe tbody tr th {\n",
       "        vertical-align: top;\n",
       "    }\n",
       "\n",
       "    .dataframe thead th {\n",
       "        text-align: right;\n",
       "    }\n",
       "</style>\n",
       "<table border=\"1\" class=\"dataframe\">\n",
       "  <thead>\n",
       "    <tr style=\"text-align: right;\">\n",
       "      <th></th>\n",
       "      <th>Outlook</th>\n",
       "      <th>Temperature</th>\n",
       "      <th>Humidity</th>\n",
       "      <th>Wind</th>\n",
       "      <th>PlayTennis</th>\n",
       "    </tr>\n",
       "  </thead>\n",
       "  <tbody>\n",
       "    <tr>\n",
       "      <th>0</th>\n",
       "      <td>Sunny</td>\n",
       "      <td>Hot</td>\n",
       "      <td>High</td>\n",
       "      <td>Weak</td>\n",
       "      <td>No</td>\n",
       "    </tr>\n",
       "    <tr>\n",
       "      <th>1</th>\n",
       "      <td>Sunny</td>\n",
       "      <td>Hot</td>\n",
       "      <td>High</td>\n",
       "      <td>Strong</td>\n",
       "      <td>No</td>\n",
       "    </tr>\n",
       "    <tr>\n",
       "      <th>2</th>\n",
       "      <td>Overcast</td>\n",
       "      <td>Hot</td>\n",
       "      <td>High</td>\n",
       "      <td>Weak</td>\n",
       "      <td>Yes</td>\n",
       "    </tr>\n",
       "    <tr>\n",
       "      <th>3</th>\n",
       "      <td>Rain</td>\n",
       "      <td>Mild</td>\n",
       "      <td>High</td>\n",
       "      <td>Weak</td>\n",
       "      <td>Yes</td>\n",
       "    </tr>\n",
       "    <tr>\n",
       "      <th>4</th>\n",
       "      <td>Rain</td>\n",
       "      <td>Cool</td>\n",
       "      <td>Normal</td>\n",
       "      <td>Weak</td>\n",
       "      <td>Yes</td>\n",
       "    </tr>\n",
       "  </tbody>\n",
       "</table>\n",
       "</div>"
      ],
      "text/plain": [
       "    Outlook Temperature Humidity    Wind PlayTennis\n",
       "0     Sunny         Hot     High    Weak         No\n",
       "1     Sunny         Hot     High  Strong         No\n",
       "2  Overcast         Hot     High    Weak        Yes\n",
       "3      Rain        Mild     High    Weak        Yes\n",
       "4      Rain        Cool   Normal    Weak        Yes"
      ]
     },
     "execution_count": 11,
     "metadata": {},
     "output_type": "execute_result"
    }
   ],
   "source": [
    "Data=pd.DataFrame(data,columns=['Outlook','Temperature','Humidity','Wind','PlayTennis'])\n",
    "Data.head()"
   ]
  },
  {
   "cell_type": "code",
   "execution_count": 12,
   "id": "c55a83aa-0476-455a-bec3-89c1e9ff0a86",
   "metadata": {},
   "outputs": [],
   "source": [
    "cols=Data.shape[1]\n",
    "X_data=Data.iloc[:,:cols-1]\n",
    "Y_data=Data.iloc[:,cols-1:]\n",
    "featureNames=X_data.columns"
   ]
  },
  {
   "cell_type": "code",
   "execution_count": 13,
   "id": "37448449-99eb-436c-a3c2-e40f8e7c0fc5",
   "metadata": {},
   "outputs": [],
   "source": [
    "def Naive_Bayes(X_data, Y_data):\n",
    "    y = Y_data.values.flatten()\n",
    "    X = X_data.values\n",
    "    y_unique = np.unique(y)\n",
    "    prior_prob = np.zeros(len(y_unique))\n",
    "\n",
    "    for i in range(len(y_unique)):\n",
    "        prior_prob[i] = sum(y == y_unique[i]) / len(y)\n",
    "\n",
    "    condition_prob = {}\n",
    "\n",
    "    for feat in featureNames:\n",
    "        x_unique = list(set(X_data[feat]))\n",
    "        x_condition_prob = np.zeros((len(y_unique), len(x_unique)))\n",
    "\n",
    "        for j in range(len(y_unique)):\n",
    "            for k in range(len(x_unique)):\n",
    "                x_condition_prob[j, k] = sum(\n",
    "                    (X_data[feat] == x_unique[k]) & (Y_data.values.flatten() == y_unique[j])) / sum(y == y_unique[j])\n",
    "\n",
    "        x_condition_prob = pd.DataFrame(x_condition_prob, columns=x_unique, index=y_unique)\n",
    "        condition_prob[feat] = x_condition_prob\n",
    "\n",
    "    return prior_prob, condition_prob\n"
   ]
  },
  {
   "cell_type": "code",
   "execution_count": 14,
   "id": "bcc5abf3-b7f3-4a86-b685-ea60de6ba952",
   "metadata": {},
   "outputs": [
    {
     "name": "stdout",
     "output_type": "stream",
     "text": [
      "[0.35714286 0.64285714]\n",
      "     Overcast     Sunny      Rain\n",
      "No   0.000000  0.600000  0.400000\n",
      "Yes  0.444444  0.222222  0.333333\n",
      "         Mild       Hot      Cool\n",
      "No   0.400000  0.400000  0.200000\n",
      "Yes  0.444444  0.222222  0.333333\n",
      "         High   Normal     Normal\n",
      "No   0.800000  0.000000  0.200000\n",
      "Yes  0.333333  0.111111  0.555556\n",
      "       Strong      Weak\n",
      "No   0.600000  0.400000\n",
      "Yes  0.333333  0.666667\n"
     ]
    }
   ],
   "source": [
    "prior_prob, condition_prob = Naive_Bayes(X_data, Y_data)\n",
    "print(prior_prob)\n",
    "print(condition_prob['Outlook'])\n",
    "print(condition_prob['Temperature'])\n",
    "print(condition_prob['Humidity'])\n",
    "print(condition_prob['Wind'])"
   ]
  },
  {
   "cell_type": "code",
   "execution_count": 15,
   "id": "a0a646d5-0f19-4d3c-8f85-3e6cf37aeac1",
   "metadata": {},
   "outputs": [],
   "source": [
    "def Prediction(testData, prior, condition_prob):\n",
    "    numclass = prior.shape[0]\n",
    "    numsample = testData.shape[0]\n",
    "    featureNames = testData.columns\n",
    "    post_prob = np.zeros((numsample, numclass))\n",
    "    for k in range(numsample):\n",
    "        prob_k = np.zeros((numclass,))\n",
    "        for i in range(numclass):\n",
    "            pri = prior[i]\n",
    "            for feat in featureNames:\n",
    "                feat_val = testData[feat][k]\n",
    "                cp = condition_prob[feat]\n",
    "                if feat_val in cp.columns:\n",
    "                    cp_val = cp.iloc[i, cp.columns.get_loc(feat_val)]\n",
    "                else:  # If the value is not present in training data, assume a small non-zero probability\n",
    "                    cp_val = 0.01\n",
    "                pri *= cp_val\n",
    "            prob_k[i] = pri\n",
    "        prob = prob_k / np.sum(prob_k, axis=0)\n",
    "        post_prob[k, :] = prob\n",
    "    return post_prob"
   ]
  },
  {
   "cell_type": "code",
   "execution_count": 16,
   "id": "30c0e51c-12f1-4dc6-8174-29e99c4f80f2",
   "metadata": {},
   "outputs": [
    {
     "data": {
      "text/plain": [
       "array([[0.79541735, 0.20458265]])"
      ]
     },
     "execution_count": 16,
     "metadata": {},
     "output_type": "execute_result"
    }
   ],
   "source": [
    "test_data=[['Sunny','Cool','High','Strong']]\n",
    "testData=pd.DataFrame(test_data, columns=['Outlook', 'Temperature', 'Humidity', 'Wind'])\n",
    "testData.head()\n",
    "\n",
    "postPrior=Prediction(testData, prior_prob, condition_prob)\n",
    "postPrior"
   ]
  },
  {
   "cell_type": "code",
   "execution_count": null,
   "id": "77bb0799-a83e-460b-a0f9-ca84ee290c25",
   "metadata": {},
   "outputs": [],
   "source": []
  },
  {
   "cell_type": "code",
   "execution_count": null,
   "id": "d27ed1ae-cc6e-4faf-a0f0-93f3d49ef75b",
   "metadata": {},
   "outputs": [],
   "source": []
  },
  {
   "cell_type": "code",
   "execution_count": null,
   "id": "e61784d4-cf9e-48ac-905e-db3cd52fee92",
   "metadata": {},
   "outputs": [],
   "source": []
  },
  {
   "cell_type": "code",
   "execution_count": null,
   "id": "85a0e235-8bdb-4c43-ac2e-1f4a567e7221",
   "metadata": {},
   "outputs": [],
   "source": []
  },
  {
   "cell_type": "code",
   "execution_count": null,
   "id": "87b04474-f437-4f31-bd49-b3bb0b1f3af2",
   "metadata": {},
   "outputs": [],
   "source": []
  },
  {
   "cell_type": "code",
   "execution_count": null,
   "id": "2e8816a4-9a35-4113-9426-9040357cf334",
   "metadata": {},
   "outputs": [],
   "source": []
  }
 ],
 "metadata": {
  "kernelspec": {
   "display_name": "Python 3 (ipykernel)",
   "language": "python",
   "name": "python3"
  },
  "language_info": {
   "codemirror_mode": {
    "name": "ipython",
    "version": 3
   },
   "file_extension": ".py",
   "mimetype": "text/x-python",
   "name": "python",
   "nbconvert_exporter": "python",
   "pygments_lexer": "ipython3",
   "version": "3.11.7"
  }
 },
 "nbformat": 4,
 "nbformat_minor": 5
}
