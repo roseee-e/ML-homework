{
 "cells": [
  {
   "cell_type": "markdown",
   "metadata": {},
   "source": [
    "### Naive Bayes朴素贝叶斯分类器\n"
   ]
  },
  {
   "cell_type": "markdown",
   "metadata": {},
   "source": [
    "#### ·贝叶斯公式\n",
    "\n",
    "$P(C_{i}|x)=\\frac{P(C_{i})P(x|C_{i})}{P(x)}$\n",
    "\n",
    "其中：$x$为自变量\n",
    "\n",
    "·$C_{i}$为第i个类别\n",
    "\n",
    "·$P(C_{i}|x)$为满足$x$时，其属于$C_{i}$的后验概率\n",
    "\n",
    "·$P(C_{i})$为属于$C_{i}$类别的先验概率\n",
    "\n",
    "·$P(x|C_{i})$为在类别$C_{i}$中是$x$的概率\n",
    "\n",
    "·朴素贝叶斯分类器假设各个特征之间相互独立，即给定类别的情况下，各个特征发生的概率之间相互独立。因此，可以将上述公式简化为：$P(C_i|\\textbf{x}) = P(C_i) \\cdot \\prod_{j=1}^{n} P(x_j|C_i)$"
   ]
  },
  {
   "cell_type": "code",
   "execution_count": 80,
   "metadata": {},
   "outputs": [],
   "source": [
    "import numpy  as np\n",
    "import pandas as pd\n",
    "data = [\n",
    "        ['Sunny', 'Hot', 'High', 'Weak', 'No'],\n",
    "        [ 'Sunny', 'Hot', 'High', 'Strong', 'No'],\n",
    "        [ 'Overcast', 'Hot', 'High', 'Weak', 'Yes'],\n",
    "        [ 'Rain', 'Mild', 'High', 'Weak', 'Yes'],\n",
    "        [ 'Rain', 'Cool', 'Normal', 'Weak', 'Yes'],\n",
    "        [ 'Rain', 'Cool', 'Normal', 'Strong', 'No'],\n",
    "        [ 'Overcast', 'Cool', 'Normal', 'Strong', 'Yes'],\n",
    "        [ 'Sunny', 'Mild', 'High', 'Weak', 'No'],\n",
    "        [ 'Sunny', 'Cool', 'Normal', 'Weak', 'Yes'],\n",
    "        [ 'Rain', 'Mild', 'Normal', 'Weak', 'Yes'],\n",
    "        [ 'Sunny', 'Mild', 'Normal', 'Strong', 'Yes'],\n",
    "        [ 'Overcast', 'Mild', 'High', 'Strong', 'Yes'],\n",
    "        [ 'Overcast', 'Hot', 'Normal', 'Weak', 'Yes'],\n",
    "        [ 'Rain', 'Mild', 'High', 'Strong', 'No'],\n",
    "        ]"
   ]
  },
  {
   "cell_type": "code",
   "execution_count": 81,
   "metadata": {},
   "outputs": [
    {
     "data": {
      "text/html": [
       "<div>\n",
       "<style scoped>\n",
       "    .dataframe tbody tr th:only-of-type {\n",
       "        vertical-align: middle;\n",
       "    }\n",
       "\n",
       "    .dataframe tbody tr th {\n",
       "        vertical-align: top;\n",
       "    }\n",
       "\n",
       "    .dataframe thead th {\n",
       "        text-align: right;\n",
       "    }\n",
       "</style>\n",
       "<table border=\"1\" class=\"dataframe\">\n",
       "  <thead>\n",
       "    <tr style=\"text-align: right;\">\n",
       "      <th></th>\n",
       "      <th>x1</th>\n",
       "      <th>x2</th>\n",
       "      <th>x3</th>\n",
       "      <th>x4</th>\n",
       "      <th>y</th>\n",
       "    </tr>\n",
       "  </thead>\n",
       "  <tbody>\n",
       "    <tr>\n",
       "      <th>0</th>\n",
       "      <td>Sunny</td>\n",
       "      <td>Hot</td>\n",
       "      <td>High</td>\n",
       "      <td>Weak</td>\n",
       "      <td>No</td>\n",
       "    </tr>\n",
       "    <tr>\n",
       "      <th>1</th>\n",
       "      <td>Sunny</td>\n",
       "      <td>Hot</td>\n",
       "      <td>High</td>\n",
       "      <td>Strong</td>\n",
       "      <td>No</td>\n",
       "    </tr>\n",
       "    <tr>\n",
       "      <th>2</th>\n",
       "      <td>Overcast</td>\n",
       "      <td>Hot</td>\n",
       "      <td>High</td>\n",
       "      <td>Weak</td>\n",
       "      <td>Yes</td>\n",
       "    </tr>\n",
       "    <tr>\n",
       "      <th>3</th>\n",
       "      <td>Rain</td>\n",
       "      <td>Mild</td>\n",
       "      <td>High</td>\n",
       "      <td>Weak</td>\n",
       "      <td>Yes</td>\n",
       "    </tr>\n",
       "    <tr>\n",
       "      <th>4</th>\n",
       "      <td>Rain</td>\n",
       "      <td>Cool</td>\n",
       "      <td>Normal</td>\n",
       "      <td>Weak</td>\n",
       "      <td>Yes</td>\n",
       "    </tr>\n",
       "  </tbody>\n",
       "</table>\n",
       "</div>"
      ],
      "text/plain": [
       "         x1    x2      x3      x4    y\n",
       "0     Sunny   Hot    High    Weak   No\n",
       "1     Sunny   Hot    High  Strong   No\n",
       "2  Overcast   Hot    High    Weak  Yes\n",
       "3      Rain  Mild    High    Weak  Yes\n",
       "4      Rain  Cool  Normal    Weak  Yes"
      ]
     },
     "execution_count": 81,
     "metadata": {},
     "output_type": "execute_result"
    }
   ],
   "source": [
    "Data = pd.DataFrame(data,columns=['x1','x2','x3','x4','y'])\n",
    "Data.head()"
   ]
  },
  {
   "cell_type": "code",
   "execution_count": 82,
   "metadata": {},
   "outputs": [
    {
     "name": "stdout",
     "output_type": "stream",
     "text": [
      "Index(['x1', 'x2', 'x3', 'x4'], dtype='object')\n"
     ]
    }
   ],
   "source": [
    "cols=Data.shape[1]  #5列，4特征+1标签\n",
    "X_data=Data.iloc[:,:cols-1]\n",
    "y_data=Data.iloc[:,cols-1:]\n",
    "featureNames=X_data.columns\n",
    "print(featureNames)"
   ]
  },
  {
   "cell_type": "markdown",
   "metadata": {},
   "source": [
    "·模型训练"
   ]
  },
  {
   "cell_type": "code",
   "execution_count": 83,
   "metadata": {},
   "outputs": [],
   "source": [
    "\n",
    "def Naive_Bayes(X_data,y_data):\n",
    "\n",
    "    #---------第一步：计算先验概率\n",
    "    x=X_data.values\n",
    "    y=y_data.values\n",
    "    y_unique = np.unique(y)#将y中重复的元素删除，即提取出类别数组\n",
    "    prior_prob=np.zeros(len(y_unique))#存放长度为标签个数的先验概率\n",
    "    #计算所有类别的先验概率\n",
    "    for i in range(len(y_unique)):\n",
    "        prior_prob[i] = (y == y_unique[i]).sum() / len(y)\n",
    "    #---------第二步：计算条件概率概率/似然\n",
    "    condition_prob={}           #是一个空字典，用于存储每个特征下的条件概率\n",
    "    for feat in featureNames:   #根据特征名来遍历每一个特征\n",
    "        x_unique=list(set(X_data[feat]))#该特征下所有唯一取值的列表\n",
    "        x_condition_prob=np.zeros((len(y_unique),len(x_unique)))\n",
    "        for j in range(len(y_unique)):\n",
    "            for k in range(len(x_unique)):\n",
    "                x_condition_prob[j, k] = ((X_data[feat] == x_unique[k]) & (y_data.y == y_unique[j])).sum() / (y == y_unique[j]).sum()\n",
    "        x_condition_prob=pd.DataFrame(x_condition_prob,columns=x_unique,index=y_unique)\n",
    "        condition_prob[feat]=x_condition_prob\n",
    "    return prior_prob,condition_prob\n",
    "    "
   ]
  },
  {
   "cell_type": "code",
   "execution_count": 84,
   "metadata": {},
   "outputs": [
    {
     "name": "stdout",
     "output_type": "stream",
     "text": [
      "[0.35714286 0.64285714]\n",
      "         Rain     Sunny  Overcast\n",
      "No   0.400000  0.600000  0.000000\n",
      "Yes  0.333333  0.222222  0.444444\n",
      "         Cool       Hot      Mild\n",
      "No   0.200000  0.400000  0.400000\n",
      "Yes  0.333333  0.222222  0.444444\n",
      "         High    Normal\n",
      "No   0.800000  0.200000\n",
      "Yes  0.333333  0.666667\n",
      "         Weak    Strong\n",
      "No   0.400000  0.600000\n",
      "Yes  0.666667  0.333333\n"
     ]
    }
   ],
   "source": [
    "prior_prob,condition_prob=Naive_Bayes(X_data,y_data)\n",
    "print(prior_prob)\n",
    "print(condition_prob['x1'])\n",
    "print(condition_prob['x2'])\n",
    "print(condition_prob['x3'])\n",
    "print(condition_prob['x4'])\n"
   ]
  },
  {
   "cell_type": "markdown",
   "metadata": {},
   "source": [
    "朴素贝叶斯分类器的“朴素”假设是特征之间相互独立。这意味着每个特征$X_{i}$贡献的信息独立于其他特征。因此，我们可以将联合似然 $P(X|C)$分解为各个特征的似然的乘积：\n",
    "\n",
    "$P(X|C)=P(X_{1}|C)·P(X_{2}|C)...P(X_{n}|C)·$\n",
    "\n",
    "**Prediction的基本步骤如下：**\n",
    "\n",
    "·初始化\n",
    "\n",
    "·遍历每个样本和类别\n",
    "\n",
    "·计算条件概率\n",
    "\n",
    "·概率累乘\n",
    "\n",
    "·归一化处理\n",
    "\n",
    "·存储后验概率"
   ]
  },
  {
   "cell_type": "code",
   "execution_count": 85,
   "metadata": {},
   "outputs": [],
   "source": [
    "#注意测试数据是dataFrame格式的\n",
    "def Prediction(testData, prior, condition_prob):\n",
    "    numClass = prior.shape[0]  # 类别数量\n",
    "    featureNames = testData.columns  # 特征名列表\n",
    "    numSample = testData.shape[0]  # 测试样本数\n",
    "    post_prob = np.zeros((numSample, numClass))  # 存储每个样本的后验概率\n",
    "\n",
    "    for k in range(numSample):  # 遍历每个测试样本\n",
    "        prob_k = np.zeros((numClass,))  # 存储当前样本每个类别的概率\n",
    "        for i in range(numClass):  # 遍历每个类别\n",
    "            if i == 0:\n",
    "                y = 'No'\n",
    "            if i == 1:\n",
    "                y = 'Yes'\n",
    "            pri = prior[i]  # 获取当前类别的先验概率 P(C)\n",
    "\n",
    "            for feat in featureNames:  # 遍历每个特征\n",
    "                feat_val = testData[feat][k]  # 当前样本的特征值\n",
    "                cp = condition_prob[feat]  # 获取当前特征的条件概率表\n",
    "                cp_val = cp.loc[y, feat_val]  # 当前特征和值在当前类别下的条件概率 P(X|C)\n",
    "                pri *= cp_val  # 累乘似然\n",
    "\n",
    "            prob_k[i] = pri  # 计算完所有特征后，存储当前类别的非归一化后验概率\n",
    "\n",
    "        prob = prob_k / np.sum(prob_k, axis=0)  # 归一化，确保概率和为1\n",
    "        post_prob[k, :] = prob  # 将后验概率存储到数组中\n",
    "\n",
    "    return post_prob"
   ]
  },
  {
   "cell_type": "code",
   "execution_count": 86,
   "metadata": {},
   "outputs": [
    {
     "data": {
      "text/html": [
       "<div>\n",
       "<style scoped>\n",
       "    .dataframe tbody tr th:only-of-type {\n",
       "        vertical-align: middle;\n",
       "    }\n",
       "\n",
       "    .dataframe tbody tr th {\n",
       "        vertical-align: top;\n",
       "    }\n",
       "\n",
       "    .dataframe thead th {\n",
       "        text-align: right;\n",
       "    }\n",
       "</style>\n",
       "<table border=\"1\" class=\"dataframe\">\n",
       "  <thead>\n",
       "    <tr style=\"text-align: right;\">\n",
       "      <th></th>\n",
       "      <th>x1</th>\n",
       "      <th>x2</th>\n",
       "      <th>x3</th>\n",
       "      <th>x4</th>\n",
       "    </tr>\n",
       "  </thead>\n",
       "  <tbody>\n",
       "    <tr>\n",
       "      <th>0</th>\n",
       "      <td>Sunny</td>\n",
       "      <td>Cool</td>\n",
       "      <td>High</td>\n",
       "      <td>Strong</td>\n",
       "    </tr>\n",
       "  </tbody>\n",
       "</table>\n",
       "</div>"
      ],
      "text/plain": [
       "      x1    x2    x3      x4\n",
       "0  Sunny  Cool  High  Strong"
      ]
     },
     "execution_count": 86,
     "metadata": {},
     "output_type": "execute_result"
    }
   ],
   "source": [
    "test_data=[['Sunny','Cool','High','Strong']]\n",
    "testdata=pd.DataFrame(test_data,columns=[ 'x1', 'x2', 'x3', 'x4'])\n",
    "testdata.head()"
   ]
  },
  {
   "cell_type": "code",
   "execution_count": 87,
   "metadata": {},
   "outputs": [
    {
     "data": {
      "text/plain": [
       "array([[0.79541735, 0.20458265]])"
      ]
     },
     "execution_count": 87,
     "metadata": {},
     "output_type": "execute_result"
    }
   ],
   "source": [
    "postPrior=Prediction(testdata,prior_prob,condition_prob)\n",
    "postPrior"
   ]
  },
  {
   "cell_type": "code",
   "execution_count": 88,
   "metadata": {},
   "outputs": [
    {
     "name": "stdout",
     "output_type": "stream",
     "text": [
      "No\n"
     ]
    }
   ],
   "source": [
    "if (postPrior[0][0]>postPrior[0][1]):\n",
    "    print('No')\n",
    "\n",
    "else:\n",
    "    print('Yes')\n"
   ]
  }
 ],
 "metadata": {
  "kernelspec": {
   "display_name": "Python 3",
   "language": "python",
   "name": "python3"
  },
  "language_info": {
   "codemirror_mode": {
    "name": "ipython",
    "version": 3
   },
   "file_extension": ".py",
   "mimetype": "text/x-python",
   "name": "python",
   "nbconvert_exporter": "python",
   "pygments_lexer": "ipython3",
   "version": "3.11.4"
  }
 },
 "nbformat": 4,
 "nbformat_minor": 2
}
