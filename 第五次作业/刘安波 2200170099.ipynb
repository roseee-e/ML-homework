{
 "cells": [
  {
   "cell_type": "markdown",
   "source": [
    "# 贝叶斯算法"
   ],
   "metadata": {
    "collapsed": false
   },
   "id": "2ef86a85720ac883"
  },
  {
   "cell_type": "markdown",
   "source": [
    "## 导入库"
   ],
   "metadata": {
    "collapsed": false
   },
   "id": "e603944dc30de833"
  },
  {
   "cell_type": "code",
   "outputs": [],
   "source": [
    "import numpy as np\n",
    "import pandas as pd"
   ],
   "metadata": {
    "collapsed": false,
    "ExecuteTime": {
     "end_time": "2024-04-14T12:22:03.592688Z",
     "start_time": "2024-04-14T12:22:03.164478Z"
    }
   },
   "id": "98581e9b66faa360",
   "execution_count": 4
  },
  {
   "cell_type": "markdown",
   "source": [
    "## 导入数据"
   ],
   "metadata": {
    "collapsed": false
   },
   "id": "d027019da9520a98"
  },
  {
   "cell_type": "code",
   "outputs": [
    {
     "data": {
      "text/plain": "     Outlook Temperature Humidity    Wind PlayTennis\n0      Sunny         Hot     High    Weak         No\n1      Sunny         Hot     High  Strong         No\n2   Overcast         Hot     High    Weak        Yes\n3       Rain        Mild     High    Weak        Yes\n4       Rain        Cool   Normal    Weak        Yes\n5       Rain        Cool   Normal  Strong         No\n6   Overcast        Cool   Normal  Strong        Yes\n7      Sunny        Mild     High    Weak         No\n8      Sunny        Cool   Normal    Weak        Yes\n9       Rain        Mild   Normal    Weak        Yes\n10     Sunny        Mild   Normal  Strong        Yes\n11  Overcast        Mild     High  Strong        Yes\n12  Overcast         Hot   Normal    Weak        Yes\n13      Rain        Mild     High  Strong         No",
      "text/html": "<div>\n<style scoped>\n    .dataframe tbody tr th:only-of-type {\n        vertical-align: middle;\n    }\n\n    .dataframe tbody tr th {\n        vertical-align: top;\n    }\n\n    .dataframe thead th {\n        text-align: right;\n    }\n</style>\n<table border=\"1\" class=\"dataframe\">\n  <thead>\n    <tr style=\"text-align: right;\">\n      <th></th>\n      <th>Outlook</th>\n      <th>Temperature</th>\n      <th>Humidity</th>\n      <th>Wind</th>\n      <th>PlayTennis</th>\n    </tr>\n  </thead>\n  <tbody>\n    <tr>\n      <th>0</th>\n      <td>Sunny</td>\n      <td>Hot</td>\n      <td>High</td>\n      <td>Weak</td>\n      <td>No</td>\n    </tr>\n    <tr>\n      <th>1</th>\n      <td>Sunny</td>\n      <td>Hot</td>\n      <td>High</td>\n      <td>Strong</td>\n      <td>No</td>\n    </tr>\n    <tr>\n      <th>2</th>\n      <td>Overcast</td>\n      <td>Hot</td>\n      <td>High</td>\n      <td>Weak</td>\n      <td>Yes</td>\n    </tr>\n    <tr>\n      <th>3</th>\n      <td>Rain</td>\n      <td>Mild</td>\n      <td>High</td>\n      <td>Weak</td>\n      <td>Yes</td>\n    </tr>\n    <tr>\n      <th>4</th>\n      <td>Rain</td>\n      <td>Cool</td>\n      <td>Normal</td>\n      <td>Weak</td>\n      <td>Yes</td>\n    </tr>\n    <tr>\n      <th>5</th>\n      <td>Rain</td>\n      <td>Cool</td>\n      <td>Normal</td>\n      <td>Strong</td>\n      <td>No</td>\n    </tr>\n    <tr>\n      <th>6</th>\n      <td>Overcast</td>\n      <td>Cool</td>\n      <td>Normal</td>\n      <td>Strong</td>\n      <td>Yes</td>\n    </tr>\n    <tr>\n      <th>7</th>\n      <td>Sunny</td>\n      <td>Mild</td>\n      <td>High</td>\n      <td>Weak</td>\n      <td>No</td>\n    </tr>\n    <tr>\n      <th>8</th>\n      <td>Sunny</td>\n      <td>Cool</td>\n      <td>Normal</td>\n      <td>Weak</td>\n      <td>Yes</td>\n    </tr>\n    <tr>\n      <th>9</th>\n      <td>Rain</td>\n      <td>Mild</td>\n      <td>Normal</td>\n      <td>Weak</td>\n      <td>Yes</td>\n    </tr>\n    <tr>\n      <th>10</th>\n      <td>Sunny</td>\n      <td>Mild</td>\n      <td>Normal</td>\n      <td>Strong</td>\n      <td>Yes</td>\n    </tr>\n    <tr>\n      <th>11</th>\n      <td>Overcast</td>\n      <td>Mild</td>\n      <td>High</td>\n      <td>Strong</td>\n      <td>Yes</td>\n    </tr>\n    <tr>\n      <th>12</th>\n      <td>Overcast</td>\n      <td>Hot</td>\n      <td>Normal</td>\n      <td>Weak</td>\n      <td>Yes</td>\n    </tr>\n    <tr>\n      <th>13</th>\n      <td>Rain</td>\n      <td>Mild</td>\n      <td>High</td>\n      <td>Strong</td>\n      <td>No</td>\n    </tr>\n  </tbody>\n</table>\n</div>"
     },
     "execution_count": 5,
     "metadata": {},
     "output_type": "execute_result"
    }
   ],
   "source": [
    "train_data = [  ['Sunny',   'Hot', 'High',  'Weak',  'No'],\n",
    "                ['Sunny',   'Hot', 'High',  'Strong','No'],\n",
    "                ['Overcast','Hot', 'High',  'Weak',  'Yes'],\n",
    "                ['Rain',    'Mild','High',  'Weak',  'Yes'],\n",
    "                ['Rain',    'Cool','Normal','Weak',  'Yes'],\n",
    "                ['Rain',    'Cool','Normal','Strong','No'],\n",
    "                ['Overcast','Cool','Normal','Strong','Yes'],\n",
    "                ['Sunny',   'Mild','High',  'Weak',  'No'],\n",
    "                ['Sunny',   'Cool','Normal','Weak',  'Yes'],\n",
    "                ['Rain',    'Mild','Normal','Weak',  'Yes'],\n",
    "                ['Sunny',   'Mild','Normal','Strong','Yes'],\n",
    "                ['Overcast','Mild','High',  'Strong','Yes'],\n",
    "                ['Overcast','Hot', 'Normal','Weak',  'Yes'],\n",
    "                ['Rain',    'Mild','High',  'Strong','No']  ]\n",
    "\n",
    "train_Data = pd.DataFrame(train_data,columns=['Outlook','Temperature','Humidity','Wind','PlayTennis'])\n",
    "train_Data\n"
   ],
   "metadata": {
    "collapsed": false,
    "ExecuteTime": {
     "end_time": "2024-04-14T12:22:04.831953Z",
     "start_time": "2024-04-14T12:22:04.799058Z"
    }
   },
   "id": "253581f3ffcad944",
   "execution_count": 5
  },
  {
   "cell_type": "code",
   "outputs": [],
   "source": [
    "cols = train_Data.shape[1]\n",
    "X_data = train_Data.iloc[:,:cols-1]\n",
    "Y_data = train_Data.iloc[:,cols-1:]\n",
    "featureNames = X_data.columns "
   ],
   "metadata": {
    "collapsed": false,
    "ExecuteTime": {
     "end_time": "2024-04-14T12:22:54.839183Z",
     "start_time": "2024-04-14T12:22:54.832207Z"
    }
   },
   "id": "4a82999923a4b458",
   "execution_count": 6
  },
  {
   "cell_type": "markdown",
   "source": [
    "## 贝叶斯模型"
   ],
   "metadata": {
    "collapsed": false
   },
   "id": "454e483869645c62"
  },
  {
   "cell_type": "code",
   "outputs": [],
   "source": [
    "def Naive_Bayes(X_data,Y_data):\n",
    "    y=Y_data.values\n",
    "    X=X_data.values\n",
    "    y_unique=np.unique(y)\n",
    "    prior_prob=np.zeros(len(y_unique))\n",
    "    for i in range(len(y_unique)):\n",
    "        prior_prob[i]=sum(y==y_unique[i])/len(y)\n",
    "    condition_prob={} \n",
    "\n",
    "    for feat in featureNames:\n",
    "        x_unique = list(set(X_data[feat])) \n",
    "        x_condition_prob = np.zeros((len(y_unique),len(x_unique)))\n",
    "        for j in range(len(y_unique)):\n",
    "            for k in range(len(x_unique)):\n",
    "                x_condition_prob[j,k]=\\\n",
    "                sum((X_data[feat]==x_unique[k]) & (Y_data.PlayTennis==y_unique[j]))/sum(y==y_unique[j])\n",
    "        x_condition_prob = pd.DataFrame(x_condition_prob,columns=x_unique,index=y_unique)\n",
    "        condition_prob[feat] = x_condition_prob\n",
    "    \n",
    "    return prior_prob,condition_prob"
   ],
   "metadata": {
    "collapsed": false,
    "ExecuteTime": {
     "end_time": "2024-04-14T12:26:34.421236Z",
     "start_time": "2024-04-14T12:26:34.412266Z"
    }
   },
   "id": "11ccb91eefe8b06c",
   "execution_count": 13
  },
  {
   "cell_type": "markdown",
   "source": [
    "## 预测函数"
   ],
   "metadata": {
    "collapsed": false
   },
   "id": "2e03ecb8f441f38c"
  },
  {
   "cell_type": "code",
   "outputs": [],
   "source": [
    "def Prediction(testData,prior,condition_prob):\n",
    "    numclass = prior.shape[0] \n",
    "    numsample = testData.shape[0] \n",
    "    featureNames = testData.columns \n",
    "    post_prob = np.zeros((numsample,numclass)) \n",
    "    for k in range(numsample):\n",
    "        #第k个样本p(yes),p(no)\n",
    "        prob_k = np.zeros((numclass,))\n",
    "        for i in range(numclass):\n",
    "            pri = prior[i]\n",
    "            for feat in featureNames:\n",
    "                feat_val = testData[feat][k]\n",
    "                cp = condition_prob[feat]\n",
    "                if(i==0):\n",
    "                    t='No'\n",
    "                else:\n",
    "                    t='Yes'\n",
    "                cp_val = cp.loc[t,feat_val]\n",
    "                pri *= cp_val\n",
    "            prob_k[i] = pri\n",
    "        prob = prob_k/np.sum(prob_k,axis = 0)\n",
    "        post_prob[k,:] = prob\n",
    "    return post_prob"
   ],
   "metadata": {
    "collapsed": false,
    "ExecuteTime": {
     "end_time": "2024-04-14T12:26:35.351145Z",
     "start_time": "2024-04-14T12:26:35.340179Z"
    }
   },
   "id": "7e5d0652e4fcf5e0",
   "execution_count": 14
  },
  {
   "cell_type": "code",
   "outputs": [
    {
     "name": "stdout",
     "output_type": "stream",
     "text": [
      "[[0.79541735 0.20458265]]\n",
      "We cannot play tennis\n"
     ]
    }
   ],
   "source": [
    "prior_prob ,condition_prob = Naive_Bayes(X_data,Y_data)\n",
    "test_data = [['Sunny','Cool','High','Strong']]\n",
    "test_Data = pd.DataFrame(test_data,columns=['Outlook','Temperature','Humidity','Wind'])\n",
    "postPrior = Prediction(test_Data,prior_prob,condition_prob)\n",
    "print(postPrior)\n",
    "\n",
    "\n",
    "if(postPrior[0,0]>postPrior[0,1]):\n",
    "    print('We cannot play tennis')\n",
    "elif (postPrior[0,0]==postPrior[0,1]):\n",
    "    print('uncertainty')\n",
    "else:\n",
    "    print('We can play tennis')"
   ],
   "metadata": {
    "collapsed": false,
    "ExecuteTime": {
     "end_time": "2024-04-14T12:27:24.063271Z",
     "start_time": "2024-04-14T12:27:24.037895Z"
    }
   },
   "id": "a312c57661ce99a0",
   "execution_count": 16
  },
  {
   "cell_type": "code",
   "outputs": [],
   "source": [],
   "metadata": {
    "collapsed": false
   },
   "id": "bba1a120344b8ad6"
  }
 ],
 "metadata": {
  "kernelspec": {
   "display_name": "Python 3",
   "language": "python",
   "name": "python3"
  },
  "language_info": {
   "codemirror_mode": {
    "name": "ipython",
    "version": 2
   },
   "file_extension": ".py",
   "mimetype": "text/x-python",
   "name": "python",
   "nbconvert_exporter": "python",
   "pygments_lexer": "ipython2",
   "version": "2.7.6"
  }
 },
 "nbformat": 4,
 "nbformat_minor": 5
}
