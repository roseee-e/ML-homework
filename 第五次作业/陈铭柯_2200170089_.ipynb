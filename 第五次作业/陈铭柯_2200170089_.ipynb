{
 "cells": [
  {
   "cell_type": "code",
   "execution_count": 1,
   "id": "d2d2c6b6-f9b1-4093-8ccc-7474bc7b9690",
   "metadata": {},
   "outputs": [],
   "source": [
    "import numpy as np\n",
    "import pandas as pd"
   ]
  },
  {
   "cell_type": "code",
   "execution_count": 2,
   "id": "ff8de483-16ea-48c5-a28f-b251aff80e9b",
   "metadata": {},
   "outputs": [],
   "source": [
    "data=[['Sunny','Hot','High','Weak',0],['Sunny','Hot','High','Strong',0],['Overcast','Hot','High','Weak',1],['Rain','Mild','High','Weak',1],\\\n",
    "      ['Rain','Cool','Normal','Weak',1],['Rain','Cool','Normal','Strong',0],['Overcast','Cool','Normal','Strong',1],['Sunny','Mild','High','Weak',0],\\\n",
    "      ['Sunny','Cool','Normal','Weak',1],['Rain','Mild','Normal','Weak',1],['Sunny','Mild','Normal','Strong',1],['Overcast','Mild','High','Strong',1],\\\n",
    "      ['Overcast','Hot','Normal','Weak',1],['Rain','Mild','High','Strong',0]]\n",
    "Data=pd.DataFrame(data,columns=['Outlook','Temperature','Humidity','Wind','PlayTennis'])"
   ]
  },
  {
   "cell_type": "code",
   "execution_count": 3,
   "id": "ddae5584-e7f9-4f4f-81ca-5ae472e21aa6",
   "metadata": {},
   "outputs": [
    {
     "data": {
      "text/html": [
       "<div>\n",
       "<style scoped>\n",
       "    .dataframe tbody tr th:only-of-type {\n",
       "        vertical-align: middle;\n",
       "    }\n",
       "\n",
       "    .dataframe tbody tr th {\n",
       "        vertical-align: top;\n",
       "    }\n",
       "\n",
       "    .dataframe thead th {\n",
       "        text-align: right;\n",
       "    }\n",
       "</style>\n",
       "<table border=\"1\" class=\"dataframe\">\n",
       "  <thead>\n",
       "    <tr style=\"text-align: right;\">\n",
       "      <th></th>\n",
       "      <th>Outlook</th>\n",
       "      <th>Temperature</th>\n",
       "      <th>Humidity</th>\n",
       "      <th>Wind</th>\n",
       "      <th>PlayTennis</th>\n",
       "    </tr>\n",
       "  </thead>\n",
       "  <tbody>\n",
       "    <tr>\n",
       "      <th>0</th>\n",
       "      <td>Sunny</td>\n",
       "      <td>Hot</td>\n",
       "      <td>High</td>\n",
       "      <td>Weak</td>\n",
       "      <td>0</td>\n",
       "    </tr>\n",
       "    <tr>\n",
       "      <th>1</th>\n",
       "      <td>Sunny</td>\n",
       "      <td>Hot</td>\n",
       "      <td>High</td>\n",
       "      <td>Strong</td>\n",
       "      <td>0</td>\n",
       "    </tr>\n",
       "    <tr>\n",
       "      <th>2</th>\n",
       "      <td>Overcast</td>\n",
       "      <td>Hot</td>\n",
       "      <td>High</td>\n",
       "      <td>Weak</td>\n",
       "      <td>1</td>\n",
       "    </tr>\n",
       "    <tr>\n",
       "      <th>3</th>\n",
       "      <td>Rain</td>\n",
       "      <td>Mild</td>\n",
       "      <td>High</td>\n",
       "      <td>Weak</td>\n",
       "      <td>1</td>\n",
       "    </tr>\n",
       "    <tr>\n",
       "      <th>4</th>\n",
       "      <td>Rain</td>\n",
       "      <td>Cool</td>\n",
       "      <td>Normal</td>\n",
       "      <td>Weak</td>\n",
       "      <td>1</td>\n",
       "    </tr>\n",
       "  </tbody>\n",
       "</table>\n",
       "</div>"
      ],
      "text/plain": [
       "    Outlook Temperature Humidity    Wind  PlayTennis\n",
       "0     Sunny         Hot     High    Weak           0\n",
       "1     Sunny         Hot     High  Strong           0\n",
       "2  Overcast         Hot     High    Weak           1\n",
       "3      Rain        Mild     High    Weak           1\n",
       "4      Rain        Cool   Normal    Weak           1"
      ]
     },
     "execution_count": 3,
     "metadata": {},
     "output_type": "execute_result"
    }
   ],
   "source": [
    "Data.head()"
   ]
  },
  {
   "cell_type": "code",
   "execution_count": 4,
   "id": "fd0a5181-1e64-40dc-af6c-a047b12361c6",
   "metadata": {},
   "outputs": [],
   "source": [
    "cols=Data.shape[1]\n",
    "X_data=Data.iloc[:,:cols-1]\n",
    "Y_data=Data.iloc[:,cols-1:]\n",
    "featureNames=X_data.columns"
   ]
  },
  {
   "cell_type": "code",
   "execution_count": 5,
   "id": "51ebb2e2-7426-48c1-8ffb-c2999a7678d5",
   "metadata": {},
   "outputs": [],
   "source": [
    "def Naive_Bayes(X_data,Y_data):\n",
    "    y=Y_data.values\n",
    "    X=X_data.values\n",
    "    y_unique=np.unique(y)\n",
    "    prior_prob=np.zeros(len(y_unique))\n",
    "    for i in range(len(y_unique)):\n",
    "        prior_prob[i]=sum(y==y_unique[i])/len(y)\n",
    "\n",
    "    condition_prob={}\n",
    "\n",
    "    for feat in featureNames:\n",
    "        x_unique=list(set(X_data[feat]))\n",
    "        x_condition_prob=np.zeros((len(y_unique),len(x_unique)))\n",
    "        for j in range(len(y_unique)):\n",
    "            for k in range(len(x_unique)):\n",
    "                x_condition_prob[j,k]=\\\n",
    "                sum((X_data[feat]==x_unique[k])&(Y_data.PlayTennis==y_unique[j]))/sum(y==y_unique[j])\n",
    "        x_condition_prob=pd.DataFrame(x_condition_prob,columns=x_unique,index=y_unique)\n",
    "        condition_prob[feat]=x_condition_prob\n",
    "    return prior_prob,condition_prob"
   ]
  },
  {
   "cell_type": "code",
   "execution_count": 6,
   "id": "c1810828-ae8b-4b7f-b467-db11ed0e038d",
   "metadata": {},
   "outputs": [],
   "source": [
    "def Prediction(testData,prior,condition_prob) :\n",
    "    numclass=prior.shape[0]\n",
    "    featureNames=testData.columns \n",
    "    numclass=prior.shape[0] \n",
    "    numsample=testData.shape[0]\n",
    "    featureNames=testData.columns\n",
    "    post_prob=np.zeros((numsample, numclass))\n",
    "    for k in range(numsample):\n",
    "        prob_k=np.zeros((numclass,))\n",
    "        for i in range(numclass):\n",
    "            pri=prior[i]\n",
    "            for feat in featureNames:\n",
    "                feat_val=testData[feat][k]\n",
    "                cp=condition_prob[feat]\n",
    "                cp_val=cp.loc[i,feat_val]\n",
    "                pri *=cp_val\n",
    "            prob_k[i]=pri\n",
    "        prob=prob_k/np.sum(prob_k,axis=0)\n",
    "        post_prob[k,:]=prob\n",
    "    return post_prob"
   ]
  },
  {
   "cell_type": "code",
   "execution_count": 7,
   "id": "0650c03d-9fb8-448e-b672-01c2fab7a1d9",
   "metadata": {},
   "outputs": [],
   "source": [
    "prior_prob,condition_prob=Naive_Bayes(X_data,Y_data)"
   ]
  },
  {
   "cell_type": "code",
   "execution_count": 8,
   "id": "46451ed6-c04e-481f-bbe3-a3703730b769",
   "metadata": {},
   "outputs": [
    {
     "data": {
      "text/plain": [
       "array([0.35714286, 0.64285714])"
      ]
     },
     "execution_count": 8,
     "metadata": {},
     "output_type": "execute_result"
    }
   ],
   "source": [
    "prior_prob"
   ]
  },
  {
   "cell_type": "code",
   "execution_count": 9,
   "id": "6071516d-8238-4bea-80fb-4a34621484d2",
   "metadata": {},
   "outputs": [
    {
     "data": {
      "text/plain": [
       "{'Outlook':    Overcast      Rain     Sunny\n",
       " 0  0.000000  0.400000  0.600000\n",
       " 1  0.444444  0.333333  0.222222,\n",
       " 'Temperature':        Cool      Mild       Hot\n",
       " 0  0.200000  0.400000  0.400000\n",
       " 1  0.333333  0.444444  0.222222,\n",
       " 'Humidity':        High    Normal\n",
       " 0  0.800000  0.200000\n",
       " 1  0.333333  0.666667,\n",
       " 'Wind':        Weak    Strong\n",
       " 0  0.400000  0.600000\n",
       " 1  0.666667  0.333333}"
      ]
     },
     "execution_count": 9,
     "metadata": {},
     "output_type": "execute_result"
    }
   ],
   "source": [
    "condition_prob"
   ]
  },
  {
   "cell_type": "code",
   "execution_count": 10,
   "id": "2fd48ef2-0966-4222-875d-770d7b7a219b",
   "metadata": {},
   "outputs": [
    {
     "data": {
      "text/html": [
       "<div>\n",
       "<style scoped>\n",
       "    .dataframe tbody tr th:only-of-type {\n",
       "        vertical-align: middle;\n",
       "    }\n",
       "\n",
       "    .dataframe tbody tr th {\n",
       "        vertical-align: top;\n",
       "    }\n",
       "\n",
       "    .dataframe thead th {\n",
       "        text-align: right;\n",
       "    }\n",
       "</style>\n",
       "<table border=\"1\" class=\"dataframe\">\n",
       "  <thead>\n",
       "    <tr style=\"text-align: right;\">\n",
       "      <th></th>\n",
       "      <th>Outlook</th>\n",
       "      <th>Temperature</th>\n",
       "      <th>Humidity</th>\n",
       "      <th>Wind</th>\n",
       "    </tr>\n",
       "  </thead>\n",
       "  <tbody>\n",
       "    <tr>\n",
       "      <th>0</th>\n",
       "      <td>Sunny</td>\n",
       "      <td>Cool</td>\n",
       "      <td>High</td>\n",
       "      <td>Strong</td>\n",
       "    </tr>\n",
       "  </tbody>\n",
       "</table>\n",
       "</div>"
      ],
      "text/plain": [
       "  Outlook Temperature Humidity    Wind\n",
       "0   Sunny        Cool     High  Strong"
      ]
     },
     "execution_count": 10,
     "metadata": {},
     "output_type": "execute_result"
    }
   ],
   "source": [
    "test_data=[['Sunny','Cool','High','Strong']]\n",
    "testData=pd.DataFrame(test_data,columns=['Outlook','Temperature','Humidity','Wind'])\n",
    "testData.head()"
   ]
  },
  {
   "cell_type": "code",
   "execution_count": 11,
   "id": "83223b7c-b024-4b62-90de-8373782dbe11",
   "metadata": {},
   "outputs": [],
   "source": [
    "Post_prob=Prediction(testData,prior_prob,condition_prob)"
   ]
  },
  {
   "cell_type": "code",
   "execution_count": 12,
   "id": "d0378609-cd2d-4cff-a8ed-143ee5f4fdfd",
   "metadata": {},
   "outputs": [
    {
     "data": {
      "text/plain": [
       "array([[0.79541735, 0.20458265]])"
      ]
     },
     "execution_count": 12,
     "metadata": {},
     "output_type": "execute_result"
    }
   ],
   "source": [
    "Post_prob"
   ]
  },
  {
   "cell_type": "code",
   "execution_count": 13,
   "id": "64fb4ec2-458b-4076-bf37-38673b32455a",
   "metadata": {},
   "outputs": [
    {
     "name": "stdout",
     "output_type": "stream",
     "text": [
      "No\n"
     ]
    }
   ],
   "source": [
    "if Post_prob[0][0]>Post_prob[0][1]:\n",
    "    print('No')\n",
    "else:\n",
    "    print('Yes')"
   ]
  },
  {
   "cell_type": "code",
   "execution_count": null,
   "id": "8eaf6ac6-20b9-4704-98db-05a4b8aa6b6d",
   "metadata": {},
   "outputs": [],
   "source": []
  }
 ],
 "metadata": {
  "kernelspec": {
   "display_name": "Python 3 (ipykernel)",
   "language": "python",
   "name": "python3"
  },
  "language_info": {
   "codemirror_mode": {
    "name": "ipython",
    "version": 3
   },
   "file_extension": ".py",
   "mimetype": "text/x-python",
   "name": "python",
   "nbconvert_exporter": "python",
   "pygments_lexer": "ipython3",
   "version": "3.11.5"
  }
 },
 "nbformat": 4,
 "nbformat_minor": 5
}
